{
 "cells": [
  {
   "cell_type": "markdown",
   "id": "ffefd6d2-f9d4-4188-b10b-0b9104e8bfbd",
   "metadata": {},
   "source": [
    "Cross-talking can be defined as the phenomenon where the audio signal intended for one channel (either left or right) is unintentionally transmitted to the other channel, leading to a mixing of signals between the two channels. This can be mathematically represented by the equation:\n",
    "$$\n",
    "\\begin{bmatrix}\n",
    "L & R \\\\\n",
    "\\end{bmatrix}\n",
    "\\begin{bmatrix}\n",
    "1 & gz^{-n} \\\\\n",
    "gz^{-n} & 1 \\\\\n",
    "\\end{bmatrix} =\n",
    "\\begin{bmatrix}\n",
    "L+Rgz^{-n} & R+Lgz^{-n} \\\\\n",
    "\\end{bmatrix}\n",
    "$$\n",
    "where $L$ and $R$ represent the left and right channel signals, respectively, $g$ is the gain factor, and $z^{−n}$ represents a delay. This equation shows how the signal from the left channel (L) and right channel (R) get mixed due to cross-talking, resulting in each output channel containing a component of both the left and right input signals."
   ]
  },
  {
   "cell_type": "markdown",
   "id": "c74e2273-540a-4eba-a3da-336aa900d3ad",
   "metadata": {},
   "source": [
    "In order to eliminate this cross-talking occurring in the acoustic domain, which denotes as $A$, we design a $B$ matrix $\\begin{bmatrix} a & b \\\\ c & d \\\\ \\end{bmatrix}$, which serves as an inverse matrix. When $A$ and $B$ are multiplied, they produce an identity matrix, as shown by the equation $AB=I$.\n",
    "$$\n",
    "\\begin{align}\n",
    "\\begin{bmatrix} L & R \\\\ \\end{bmatrix}\n",
    "\\begin{bmatrix} a & b \\\\ c & d \\\\ \\end{bmatrix}\n",
    "\\begin{bmatrix} 1 & gz^{-n} \\\\ gz^{-n} & 1 \\\\ \\end{bmatrix} \n",
    "&=\n",
    "\\begin{bmatrix} L & R \\\\ \\end{bmatrix} \\\\\n",
    "\\begin{bmatrix} L & R \\\\ \\end{bmatrix}\n",
    "B A\n",
    "&=\n",
    "\\begin{bmatrix} L & R \\\\ \\end{bmatrix} \\\\\n",
    "B A &= I = \\begin{bmatrix} 1 & 0 \\\\ 0 & 1 \\end{bmatrix}\n",
    "\\end{align}\n",
    "$$"
   ]
  },
  {
   "cell_type": "markdown",
   "id": "9108f329-cf3b-4e1b-9b2b-60f67152b185",
   "metadata": {},
   "source": [
    "Expanding the multiplication of matrices $A$ and $B$, we obtain the following results:\n",
    "$$\n",
    "\\begin{align}\n",
    "a+bg(z^{-n}) &= 1 \\\\\n",
    "ag(z^{-n})+b &= 0 \\\\\n",
    "c+dg(z^{-n}) &= 0 \\\\\n",
    "cg(z^{-n})+d &= 1 \\\\\n",
    "\\end{align}\n",
    "$$"
   ]
  },
  {
   "cell_type": "markdown",
   "id": "dd997055-7bf4-4b19-90fd-13b2fb499c58",
   "metadata": {},
   "source": [
    "From the equation $c+dg(z^{-n}) = 0$, we can solve for $c$:\n",
    "$$\n",
    "\\begin{align}\n",
    "c+dg(z^{-n}) = 0 &\\Rightarrow c = -dg(z^{-n}) \\\\\n",
    "-dg(z^{-n})g(z^{-n})+d = 1 &\\Rightarrow d(1-(gz^{-n})^2) = 1 \\\\ \n",
    "&\\Rightarrow d = \\frac{1}{1-(gz^{-n})^2} \\\\\n",
    "&\\Rightarrow c = \\frac{-gz^{-n}}{1-(gz^{-n})^2} \\\\\n",
    "&\\Rightarrow b = \\frac{-gz^{-n}}{1-(gz^{-n})^2} \\\\\n",
    "&\\Rightarrow a = \\frac{1}{1-(gz^{-n})^2}\n",
    "\\end{align}\n",
    "$$"
   ]
  },
  {
   "cell_type": "markdown",
   "id": "07a5961b-5843-487f-8f68-5ce10aa5ffd8",
   "metadata": {},
   "source": [
    "Therefore, $B$ can be written as the following matrix:\n",
    "$$\n",
    "\\begin{align}\n",
    "\\begin{bmatrix} L & R \\\\ \\end{bmatrix}\n",
    "\\begin{bmatrix} \\frac{1}{1-(gz^{-n})^2} & \\frac{-gz^{-n}}{1-(gz^{-n})^2} \\\\ \\frac{-gz^{-n}}{1-(gz^{-n})^2} & \\frac{1}{1-(gz^{-n})^2} \\\\ \\end{bmatrix}\n",
    "\\begin{bmatrix} 1 & gz^{-n} \\\\ gz^{-n} & 1 \\\\ \\end{bmatrix}\n",
    "&=\n",
    "\\begin{bmatrix} L & R \\\\ \\end{bmatrix}\n",
    "\\begin{bmatrix} 1 & 0 \\\\ 0 & 1 \\end{bmatrix} \\\\\n",
    "&=\n",
    "\\begin{bmatrix} L & R \\\\ \\end{bmatrix}\n",
    "\\end{align}\n",
    "$$\n",
    "This confirms that the $B$ matrix $\\begin{bmatrix} \\frac{1}{1-(gz^{-n})^2} & \\frac{-gz^{-n}}{1-(gz^{-n})^2} \\\\ \\frac{-gz^{-n}}{1-(gz^{-n})^2} & \\frac{1}{1-(gz^{-n})^2} \\\\ \\end{bmatrix}$ effectively serves as the inverse of $A$, ensuring the elimination of cross-talking in the acoustic domain."
   ]
  },
  {
   "cell_type": "markdown",
   "id": "af2ba926-58e7-471d-bf4a-bdeec094c11d",
   "metadata": {},
   "source": [
    "Transfer functions below describe how the sound is processed for the ipsilateral and contralateral sides, taking into account both the head-related transfer functions $H_A$ and $H_B$ and the frequency-dependent gain $g$, as well as the delay represented by $z^{−n}$\n",
    "\n",
    "Below is the transfer function for the Ipsilateral (same side) response:\n",
    "$$\n",
    "\\begin{align}\n",
    "H_{IL} &= \\frac{1}{1-(\\frac{H_B}{H_A})^2 g^2 z^{-2n}} \\\\\n",
    "&= \\frac{H_A^2}{H_A^2-H_B^2 g^2 z^{-2n}} \\\\\n",
    "\\end{align}\n",
    "$$\n",
    "\n",
    "Below is the transfer function for the contralateral (opposite side) response:\n",
    "$$\n",
    "\\begin{align}\n",
    "H_{CL} &= \\frac{-\\frac{H_B}{H_A}z^{-n}}{1-(\\frac{H_B}{H_A})^2 g^2 z^{-2n}} \\\\\n",
    "&= \\frac{-H_AH_Bz^{-n}}{H_A^2-H_B^2 g^2 z^{-2n}} \\\\\n",
    "\\end{align}\n",
    "$$"
   ]
  },
  {
   "cell_type": "markdown",
   "id": "ab65eefd-c90b-4641-a1ed-7c1468f96c05",
   "metadata": {},
   "source": [
    "Using the power series expansion:\n",
    "$$\n",
    "\\frac{1}{1-z} = \\sum\\limits_{n=0}^\\inf z^n = 1 + z + z^2 + \\cdots, |z| < 1\n",
    "$$\n",
    "\n",
    "For a single iteration FIR filter, we truncate this expansion, keeping only the first few terms. If we only keep the first two terms (first-order approximation), the expression becomes:\n",
    "$$\n",
    "\\begin{align}\n",
    "\\frac{1}{1−(gz^{−n})^2} &= 1 + (gz^{−n})^2 + (gz^{−n})^4 + \\cdots \\\\\n",
    "&\\approx 1 + (gz^{−n})^2 \\\\\n",
    "\\end{align}\n",
    "$$\n",
    "\n",
    "Thus, the approximated transfer functions for the Ipsilateral (IL) and Contralateral (CL) responses are:\n",
    "$$\n",
    "\\begin{align}\n",
    "H_{IL} &= 1 + (gz^{−n})^2 \\\\\n",
    "H_{CL} &= -(gz^{−n})(1 + (gz^{−n})^2)\n",
    "\\end{align}\n",
    "$$\n",
    "\n",
    "This approximation simplifies the original IIR filter to a first-order FIR filter, making it computationally efficient while still capturing the essential characteristics of the response."
   ]
  }
 ],
 "metadata": {
  "kernelspec": {
   "display_name": "Python 3 (ipykernel)",
   "language": "python",
   "name": "python3"
  },
  "language_info": {
   "codemirror_mode": {
    "name": "ipython",
    "version": 3
   },
   "file_extension": ".py",
   "mimetype": "text/x-python",
   "name": "python",
   "nbconvert_exporter": "python",
   "pygments_lexer": "ipython3",
   "version": "3.8.1rc1"
  }
 },
 "nbformat": 4,
 "nbformat_minor": 5
}
