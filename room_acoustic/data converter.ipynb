{
 "cells": [
  {
   "cell_type": "code",
   "execution_count": 1,
   "id": "76494e40",
   "metadata": {},
   "outputs": [],
   "source": [
    "import rir_generator as RG\n",
    "import numpy as np\n",
    "from scipy import signal\n",
    "import matplotlib.pyplot as plt\n",
    "import wavio\n",
    "import IPython \n",
    "from scipy.io.wavfile import write, read"
   ]
  },
  {
   "cell_type": "code",
   "execution_count": 2,
   "id": "f2a07fd6",
   "metadata": {},
   "outputs": [],
   "source": [
    "rate, file = read(\"Allure_90s_Cali_V30.wav\")\n",
    "impedance = file.astype(np.float32, order='C') / 32767.0\n",
    "np.savetxt('impedance.dat', [impedance], delimiter=',\\n', fmt='%.24f')"
   ]
  }
 ],
 "metadata": {
  "kernelspec": {
   "display_name": "Python 3 (ipykernel)",
   "language": "python",
   "name": "python3"
  },
  "language_info": {
   "codemirror_mode": {
    "name": "ipython",
    "version": 3
   },
   "file_extension": ".py",
   "mimetype": "text/x-python",
   "name": "python",
   "nbconvert_exporter": "python",
   "pygments_lexer": "ipython3",
   "version": "3.7.0"
  }
 },
 "nbformat": 4,
 "nbformat_minor": 5
}
