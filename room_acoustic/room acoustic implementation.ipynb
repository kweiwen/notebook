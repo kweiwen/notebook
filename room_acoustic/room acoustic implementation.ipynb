{
 "cells": [
  {
   "cell_type": "code",
   "execution_count": 1,
   "id": "89277ac5",
   "metadata": {},
   "outputs": [],
   "source": [
    "import numpy as np\n",
    "from scipy import signal\n",
    "import matplotlib.pyplot as plt"
   ]
  },
  {
   "cell_type": "code",
   "execution_count": 2,
   "id": "7f6fcf77",
   "metadata": {},
   "outputs": [],
   "source": [
    "def get_frac_delay_length():\n",
    "    return 81\n",
    "\n",
    "def get_reflection_time(max_order):\n",
    "    max_order_sq = max_order * max_order\n",
    "    return int((1 + 2 * max_order * (2 * max_order_sq + 3 * max_order + 4) / 3))\n",
    "\n",
    "def fractional_delay(t0):\n",
    "    N = get_frac_delay_length()\n",
    "    return np.hanning(N) * np.sinc(np.arange(N) - (N - 1) / 2 - t0)\n",
    "\n",
    "def build_rir(time, alpha, visibility, fs, fdl):\n",
    "\n",
    "    # fractional delay length\n",
    "    fdl = get_frac_delay_length()\n",
    "    fdl2 = (fdl - 1) // 2\n",
    "\n",
    "    # the number of samples needed\n",
    "    N = int(np.ceil(time.max() * fs) + fdl)\n",
    "\n",
    "    ir_ref = np.zeros(N)\n",
    "\n",
    "    # pure Python implemenation\n",
    "    for i in range(time.shape[0]):\n",
    "        if visibility[i] == 1:\n",
    "            time_ip = int(np.round(fs * time[i]))\n",
    "            time_fp = (fs * time[i]) - time_ip\n",
    "            ir_ref[time_ip - fdl2 : time_ip + fdl2 + 1] += alpha[i] * fractional_delay(time_fp)\n",
    "\n",
    "    return ir_ref"
   ]
  },
  {
   "cell_type": "code",
   "execution_count": 3,
   "id": "0b72753d",
   "metadata": {},
   "outputs": [],
   "source": [
    "ism_order = 10\n",
    "room = np.array([3.2, 4, 2.7])\n",
    "src  = np.array([2, 3, 2])\n",
    "mic  = np.array([1.1, 1, 1.2])\n",
    "fs   = 48000\n",
    "c    = 343\n",
    "fdl  = get_frac_delay_length()\n",
    "fdl2 = fdl // 2"
   ]
  },
  {
   "cell_type": "code",
   "execution_count": 4,
   "id": "ac1376f5",
   "metadata": {},
   "outputs": [],
   "source": [
    "n_reflections = get_reflection_time(ism_order)\n",
    "image_sources_order = np.zeros((n_reflections, 3))\n",
    "image_sources = np.zeros((n_reflections, 3))\n",
    "\n",
    "z_max = ism_order\n",
    "index = 0\n",
    "\n",
    "for z in range(-z_max, z_max+1):\n",
    "    y_max = ism_order - abs(z)\n",
    "    for y in range(-y_max, y_max+1):\n",
    "        x_max = y_max - abs(y)\n",
    "        if (x_max < 0): x_max = 0\n",
    "        for x in range(-x_max, x_max+1):\n",
    "            image_sources_order[index] = [x, y, z]\n",
    "            steps = np.empty(3)\n",
    "            \n",
    "            for d in range(3):\n",
    "                if(abs(image_sources_order[index][d]) % 2 == 1):\n",
    "                    step = room[d] - src[d]\n",
    "                else:\n",
    "                    step = src[d]\n",
    "                image_sources[index][d] = image_sources_order[index][d] * room[d] + step\n",
    "            \n",
    "            index = index + 1\n",
    "\n",
    "dist = np.sqrt(np.sum((image_sources.T - mic[:, None]) ** 2, axis=0))\n",
    "time = dist / c\n",
    "t_max = time.max()\n",
    "N = int(np.ceil(t_max * fs))\n",
    "\n",
    "alpha = np.ones(n_reflections) / dist\n",
    "vis = np.ones(n_reflections).astype(np.int32)\n",
    "time_adjust = time + fdl2 / fs\n",
    "ir_loc = build_rir(time_adjust, alpha, vis, fs, fdl)"
   ]
  },
  {
   "cell_type": "code",
   "execution_count": 5,
   "id": "0e0c5e77",
   "metadata": {},
   "outputs": [
    {
     "data": {
      "image/png": "[encoded data removed]",
      "text/plain": [
       "<Figure size 432x288 with 1 Axes>"
      ]
     },
     "metadata": {
      "needs_background": "light"
     },
     "output_type": "display_data"
    }
   ],
   "source": [
    "plt.title('amplitude taps of RIR')\n",
    "plt.xlabel(r'time (n sample)')\n",
    "\n",
    "plt.plot(ir_loc)\n",
    "plt.show()"
   ]
  }
 ],
 "metadata": {
  "kernelspec": {
   "display_name": "Python 3 (ipykernel)",
   "language": "python",
   "name": "python3"
  },
  "language_info": {
   "codemirror_mode": {
    "name": "ipython",
    "version": 3
   },
   "file_extension": ".py",
   "mimetype": "text/x-python",
   "name": "python",
   "nbconvert_exporter": "python",
   "pygments_lexer": "ipython3",
   "version": "3.7.0"
  }
 },
 "nbformat": 4,
 "nbformat_minor": 5
}
