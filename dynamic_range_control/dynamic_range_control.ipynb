{
 "cells": [
  {
   "cell_type": "markdown",
   "metadata": {},
   "source": [
    "### Dynamic Range Control: Compressor\n",
    "\n",
    "The gain computer is the compressor stage that generatesthe control voltage. The control voltage determines the gainreduction to be applied to the signal. This stage involves the Threshold $T$, Ratio $R$, and Knee Width $W$ parameters. Thesedefine the static input-to-output characteristic of compres-sion. Once the signal level exceeds the threshold value, itis attenuated according to the ratio. The compression ratio is defined as the reciprocal of theslope of the line segment above the threshold, that is:\n",
    "\n",
    "$\\begin{align*}\n",
    "R &= \\frac{x_{G}-T}{y_{G}-T} \n",
    "&& \\text{ : } y_{G} > T \\\\ \\tag{1}\n",
    "\\end{align*}$\n",
    "\n",
    "the static compression characteristic is described by thefollowing relationship:\n",
    "\n",
    "$\\begin{align*}\n",
    "Y_{G} = \n",
    "\\begin{cases}\n",
    "& x_{G}\n",
    "&& \\text{ : } x_{G} < T & \\\\\n",
    "& T + \\frac{x_{G}-T}{R}\n",
    "&& \\text{ : } x_{G} \\geq T &\\\\ \\tag{2}\n",
    "\\end{cases}\n",
    "\\end{align*}$\n",
    "\n",
    "In order to smooth the transition between compression and no compression at the threshold point, we can softenthe compressor’s knee. The width $W$ of the knee (in decibels) is equally distributed on both sides of the threshold. To implement this, we replace the hard knee character-istic used in Eq. (2) with a soft knee characteristic, giving the following piecewise, continuous function,\n",
    "\n",
    "$\n",
    "Y_{G} = \n",
    "\\begin{cases}\n",
    "& x_{G}\n",
    "&& \\text{ : } x_{G} - T < \\frac{-W}{2} & \\\\\n",
    "& x_{G} + \\frac{(\\frac{1}{R}-1)(x_{G}-T+\\frac{W}{2})^{2}}{2W}\n",
    "&& \\text{ : } |x_{G} - T| \\leq \\frac{W}{2} & \\\\ \n",
    "& T + \\frac{x_{G}-T}{R}\n",
    "&& \\text{ : } x_{G} - T > \\frac{W}{2} &\\\\ \\tag{3}\n",
    "\\end{cases}\n",
    "$\n",
    "\n",
    "When the knee width is set to zero, the smooth knee isidentical to the hard knee.\n",
    "\n",
    "### Dynamic Range Control: Limiter\n",
    "\n",
    "The gain computer limits the output level when the input level exceeds the limiter threshold, all input levels above the threshold lead to a constant output level, the static limiter compression characteristic is described by thefollowing relationship:\n",
    "\n",
    "$\\begin{align*}\n",
    "Y_{G} = \n",
    "\\begin{cases}\n",
    "& x_{G}\n",
    "&& \\text{ : } x_{G} < T & \\\\\n",
    "& T\n",
    "&& \\text{ : } x_{G} \\geq T &\\\\ \\tag{4}\n",
    "\\end{cases}\n",
    "\\end{align*}$\n",
    "\n",
    "same as compressor, in order to smooth the transition between limitation and no limitation at the threshold point, we can softenthe limiter’s knee. The width $W$ of the knee (in decibels) is equally distributed on both sides of the threshold. To implement this, we replace the hard knee character-istic used in Eq. (4) with a soft knee characteristic, giving the following piecewise, continuous function,\n",
    "\n",
    "$\n",
    "Y_{G} = \n",
    "\\begin{cases}\n",
    "& x_{G}\n",
    "&& \\text{ : } x_{G} - T < \\frac{-W}{2} & \\\\\n",
    "& x_{G} - \\frac{(x_{G}-T+\\frac{W}{2})^{2}}{2W}\n",
    "&& \\text{ : } |x_{G} - T| \\leq \\frac{W}{2} & \\\\ \n",
    "& T\n",
    "&& \\text{ : } x_{G} - T > \\frac{W}{2} &\\\\ \\tag{3}\n",
    "\\end{cases}\n",
    "$\n",
    "\n",
    "When the knee width is set to zero, the smooth knee isidentical to the hard knee."
   ]
  },
  {
   "cell_type": "code",
   "execution_count": 385,
   "metadata": {},
   "outputs": [],
   "source": [
    "from math import pi\n",
    "import numpy as np\n",
    "import scipy.signal\n",
    "import matplotlib.pyplot as plt\n",
    "\n",
    "class Dynamic_Range_Control(object):\n",
    "    \n",
    "    COMPRESSOR = 0\n",
    "    LIMITER = 1\n",
    "    NOISEGATE = 2\n",
    "    CLIPPER = 3\n",
    "    EXPANDER = 4\n",
    "    \n",
    "    def __init__(self, ratio = 16, threshold = -20, knee = 24, maximum = 20, minimum = -100):\n",
    "        self._maximum = maximum\n",
    "        self._minimum = minimum\n",
    "        self._ratio = ratio\n",
    "        self._threshold = threshold\n",
    "        self._knee = knee\n",
    "        \n",
    "    @property\n",
    "    def maximum(self):\n",
    "        return self._maximum\n",
    "    \n",
    "    @property\n",
    "    def minimum(self):\n",
    "        return self._minimum\n",
    "    \n",
    "    @property\n",
    "    def ratio(self):\n",
    "        return self._ratio\n",
    "    \n",
    "    @property\n",
    "    def threshold(self):\n",
    "        return self._threshold\n",
    "    \n",
    "    @property\n",
    "    def knee(self):\n",
    "        return self._knee\n",
    "    \n",
    "    def generator(self):\n",
    "        drc_type = 'compressor'\n",
    "        \n",
    "        # Xg - T < -W/2\n",
    "        self.dynamic_input_range = [self.minimum, self.threshold - self.knee/2]\n",
    "        self.dynamic_output_range = [self.minimum, self.threshold - self.knee/2]\n",
    "        \n",
    "        # |Xg - T| <= W/2\n",
    "        if not self.knee == 0:\n",
    "            knee_space = np.linspace(self.threshold - self.knee/2, self.threshold + self.knee/2, num=5, endpoint=True)\n",
    "            if drc_type == 'limiter':\n",
    "                for element in reversed(knee_space):\n",
    "                    res = ((element - self.threshold + self.knee/2) ** 2) / (self.knee * 2)\n",
    "                    self.dynamic_input_range.insert(2, element)\n",
    "                    self.dynamic_output_range.insert(2, element-res)\n",
    "            elif drc_type == 'compressor':\n",
    "                for element in reversed(knee_space):\n",
    "                    res = ((1/self.ratio-1)*(element - self.threshold + self.knee/2) ** 2) / (self.knee * 2)\n",
    "                    self.dynamic_input_range.insert(2, element)\n",
    "                    self.dynamic_output_range.insert(2, element+res)\n",
    "        \n",
    "        # Xg - T > W/2\n",
    "        if drc_type == 'limiter':\n",
    "            self.dynamic_input_range.append(self.maximum)\n",
    "            self.dynamic_output_range.append(self.threshold) \n",
    "        elif drc_type == 'compressor':\n",
    "            self.dynamic_input_range.append(self.maximum)\n",
    "            self.dynamic_output_range.append((self.maximum-self.threshold)/self.ratio + self.threshold)\n",
    "        \n",
    "        print(self.dynamic_input_range)\n",
    "        print(self.dynamic_output_range)\n"
   ]
  },
  {
   "cell_type": "code",
   "execution_count": 386,
   "metadata": {
    "scrolled": false
   },
   "outputs": [
    {
     "name": "stdout",
     "output_type": "stream",
     "text": [
      "[-100, -32.0, -32.0, -26.0, -20.0, -14.0, -8.0, 20]\n",
      "[-100, -32.0, -32.0, -26.703125, -22.8125, -20.328125, -19.25, -17.5]\n"
     ]
    }
   ],
   "source": [
    "obj = Dynamic_Range_Control()\n",
    "obj.generator()"
   ]
  },
  {
   "cell_type": "code",
   "execution_count": 387,
   "metadata": {},
   "outputs": [
    {
     "data": {
      "image/png": "[encoded data removed]",
      "text/plain": [
       "<Figure size 432x288 with 1 Axes>"
      ]
     },
     "metadata": {
      "needs_background": "light"
     },
     "output_type": "display_data"
    }
   ],
   "source": [
    "\n",
    "fig, ax1 = plt.subplots()\n",
    "\n",
    "plt.title('dynamic gain control')\n",
    "plt.ylabel('output level(dB)')\n",
    "plt.xlabel('input level(dB)')\n",
    "\n",
    "ax1.plot(obj.dynamic_input_range, obj.dynamic_output_range, 'g')\n",
    "ax1.set_ylim(-100, 20)\n",
    "ax1.set_xlim(-100, 20)\n",
    "ax1.grid()\n",
    "\n",
    "plt.show()"
   ]
  },
  {
   "cell_type": "code",
   "execution_count": null,
   "metadata": {},
   "outputs": [],
   "source": []
  }
 ],
 "metadata": {
  "kernelspec": {
   "display_name": "Python 3",
   "language": "python",
   "name": "python3"
  },
  "language_info": {
   "codemirror_mode": {
    "name": "ipython",
    "version": 3
   },
   "file_extension": ".py",
   "mimetype": "text/x-python",
   "name": "python",
   "nbconvert_exporter": "python",
   "pygments_lexer": "ipython3",
   "version": "3.7.4"
  }
 },
 "nbformat": 4,
 "nbformat_minor": 4
}
