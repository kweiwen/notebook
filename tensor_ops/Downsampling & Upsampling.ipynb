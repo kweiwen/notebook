{
 "cells": [
  {
   "cell_type": "code",
   "execution_count": 1,
   "id": "d717864d",
   "metadata": {},
   "outputs": [],
   "source": [
    "import torch\n",
    "import torch.nn as nn"
   ]
  },
  {
   "cell_type": "code",
   "execution_count": 2,
   "id": "44f5c0f9",
   "metadata": {},
   "outputs": [],
   "source": [
    "class DownSampling(nn.Module):\n",
    "    def __init__(self, in_channels, out_channels, kernel_size, stride):\n",
    "        super(DownSampling, self).__init__()\n",
    "        self.net = nn.Sequential(\n",
    "            nn.Conv2d(in_channels=in_channels, out_channels=out_channels, kernel_size=kernel_size, stride=stride),\n",
    "            nn.BatchNorm2d(out_channels, eps=1e-05, momentum=0.1),\n",
    "            nn.ReLU()\n",
    "        )\n",
    "        \n",
    "    def forward(self, x):\n",
    "        x = self.net(x)\n",
    "        return x\n",
    "\n",
    "class UpSampling(nn.Module):\n",
    "    def __init__(self, in_channels, out_channels, kernel_size, stride):\n",
    "        super(UpSampling, self).__init__()\n",
    "        self.net = nn.Sequential(\n",
    "            nn.ConvTranspose2d(in_channels=in_channels, out_channels=out_channels, kernel_size=kernel_size, stride=stride),\n",
    "            nn.BatchNorm2d(out_channels, eps=1e-05, momentum=0.1),\n",
    "            nn.ReLU()\n",
    "        )\n",
    "        \n",
    "    def forward(self, x):\n",
    "        x = self.net(x)\n",
    "        return x"
   ]
  },
  {
   "cell_type": "code",
   "execution_count": 3,
   "id": "2fe2414e",
   "metadata": {},
   "outputs": [],
   "source": [
    "scale = (2, 2)\n",
    "stride = (2, 2)\n",
    "g = 32\n",
    "F = 1024\n",
    "T = 256"
   ]
  },
  {
   "cell_type": "code",
   "execution_count": 4,
   "id": "1299a455",
   "metadata": {},
   "outputs": [
    {
     "name": "stdout",
     "output_type": "stream",
     "text": [
      " g x F   x T   : torch.Size([1, 32, 1024, 256])\n",
      "2g x F/2 x T/2 : torch.Size([1, 64, 512, 128])\n"
     ]
    }
   ],
   "source": [
    "ds = DownSampling(g, 2*g, scale, stride)\n",
    "input = torch.rand(1, g, F, T)\n",
    "output = ds(input)\n",
    "print(\" g x F   x T   :\", input.shape)\n",
    "print(\"processing DownSampling\")\n",
    "\n",
    "print(\"2g x F/2 x T/2 :\", output.shape)"
   ]
  },
  {
   "cell_type": "code",
   "execution_count": 5,
   "id": "9bfc7d1d",
   "metadata": {},
   "outputs": [
    {
     "name": "stdout",
     "output_type": "stream",
     "text": [
      "2g x F/2 x T/2 : torch.Size([1, 64, 512, 128])\n",
      " g x F   x T   : torch.Size([1, 32, 1024, 256])\n"
     ]
    }
   ],
   "source": [
    "us = UpSampling(2*g, g, scale, stride)\n",
    "input = torch.rand(1, 2*g, F//2, T//2)\n",
    "output = us(input)\n",
    "print(\"2g x F/2 x T/2 :\", input.shape)\n",
    "print(\"processing UpSampling\")\n",
    "print(\" g x F   x T   :\", output.shape)"
   ]
  }
 ],
 "metadata": {
  "kernelspec": {
   "display_name": "Python 3 (ipykernel)",
   "language": "python",
   "name": "python3"
  },
  "language_info": {
   "codemirror_mode": {
    "name": "ipython",
    "version": 3
   },
   "file_extension": ".py",
   "mimetype": "text/x-python",
   "name": "python",
   "nbconvert_exporter": "python",
   "pygments_lexer": "ipython3",
   "version": "3.7.8"
  }
 },
 "nbformat": 4,
 "nbformat_minor": 5
}
