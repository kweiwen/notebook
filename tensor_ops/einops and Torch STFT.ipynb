{
 "cells": [
  {
   "cell_type": "code",
   "execution_count": 1,
   "id": "28e870c2",
   "metadata": {},
   "outputs": [],
   "source": [
    "from functools import partial\n",
    "import torch\n",
    "from einops import rearrange, pack, unpack"
   ]
  },
  {
   "cell_type": "code",
   "execution_count": 2,
   "id": "cfe34bdd",
   "metadata": {},
   "outputs": [],
   "source": [
    "# Batch, Stereo Channel, Time\n",
    "B, C, T = 8, 2, 16000"
   ]
  },
  {
   "cell_type": "code",
   "execution_count": 3,
   "id": "226c68b1",
   "metadata": {},
   "outputs": [],
   "source": [
    "noise = torch.rand(B, C, T)"
   ]
  },
  {
   "cell_type": "code",
   "execution_count": 4,
   "id": "4d0ee0d7",
   "metadata": {},
   "outputs": [],
   "source": [
    "stft_n_fft = 2048\n",
    "stft_hop_length = 512\n",
    "stft_win_length = 2048\n",
    "stft_normalized = False\n",
    "center_padded = True\n",
    "\n",
    "stft_kwargs = dict(\n",
    "    n_fft = stft_n_fft,\n",
    "    hop_length = stft_hop_length,\n",
    "    win_length = stft_win_length,\n",
    "    center = center_padded,\n",
    "    normalized = stft_normalized\n",
    ")\n",
    "\n",
    "stft_window_fn = partial(torch.hann_window, stft_win_length)"
   ]
  },
  {
   "cell_type": "markdown",
   "id": "f819f109",
   "metadata": {},
   "source": [
    "```input``` will be padded on both sides so that the $t$-th frame is centered at time $t \\times \\text{hop_length}$."
   ]
  },
  {
   "cell_type": "code",
   "execution_count": 5,
   "id": "f9876eb2",
   "metadata": {},
   "outputs": [
    {
     "name": "stdout",
     "output_type": "stream",
     "text": [
      "STFT Frame Count:  32\n"
     ]
    }
   ],
   "source": [
    "print(\"STFT Frame Count: \", int(T / stft_hop_length + 1))"
   ]
  },
  {
   "cell_type": "markdown",
   "id": "c11371ad",
   "metadata": {},
   "source": [
    "Lower case $c$ denotes the complex number, therefore we separate a single complex vector into two vectors, one as real number the other as imaginary number."
   ]
  },
  {
   "cell_type": "code",
   "execution_count": 6,
   "id": "dc3bf49d",
   "metadata": {},
   "outputs": [
    {
     "name": "stdout",
     "output_type": "stream",
     "text": [
      "torch.Size([8, 2, 1025, 32, 2])\n"
     ]
    }
   ],
   "source": [
    "def pack_one(t, pattern):\n",
    "    return pack([t], pattern)\n",
    "\n",
    "def unpack_one(t, ps, pattern):\n",
    "    return unpack(t, ps, pattern)[0]\n",
    "\n",
    "raw_audio1 = noise\n",
    "raw_audio1, batch_audio_channel_packed_shape = pack_one(raw_audio1, '* t')\n",
    "\n",
    "stft_window = stft_window_fn()\n",
    "stft_repr1 = torch.stft(raw_audio1, **stft_kwargs, window=stft_window, return_complex=True)\n",
    "stft_repr1 = torch.view_as_real(stft_repr1)\n",
    "stft_repr1 = unpack_one(stft_repr1, batch_audio_channel_packed_shape, '* f t c')\n",
    "print(stft_repr1.shape)"
   ]
  },
  {
   "cell_type": "code",
   "execution_count": 7,
   "id": "954f5a4a",
   "metadata": {},
   "outputs": [
    {
     "name": "stdout",
     "output_type": "stream",
     "text": [
      "torch.Size([8, 2, 1025, 32, 2])\n"
     ]
    }
   ],
   "source": [
    "raw_audio2 = noise\n",
    "raw_audio2 = rearrange(raw_audio2, 'b C t -> (b C) t')\n",
    "\n",
    "stft_window = stft_window_fn()\n",
    "stft_repr2 = torch.stft(raw_audio2, **stft_kwargs, window=stft_window, return_complex=True)\n",
    "stft_repr2 = torch.view_as_real(stft_repr2)\n",
    "\n",
    "stft_repr2 = rearrange(stft_repr2, '(b C) f m c -> b C f m c', C=C)\n",
    "print(stft_repr2.shape)"
   ]
  },
  {
   "cell_type": "code",
   "execution_count": 8,
   "id": "1e374bde",
   "metadata": {},
   "outputs": [
    {
     "data": {
      "text/plain": [
       "True"
      ]
     },
     "execution_count": 8,
     "metadata": {},
     "output_type": "execute_result"
    }
   ],
   "source": [
    "torch.equal(stft_repr1, stft_repr2)"
   ]
  }
 ],
 "metadata": {
  "kernelspec": {
   "display_name": "Python 3 (ipykernel)",
   "language": "python",
   "name": "python3"
  },
  "language_info": {
   "codemirror_mode": {
    "name": "ipython",
    "version": 3
   },
   "file_extension": ".py",
   "mimetype": "text/x-python",
   "name": "python",
   "nbconvert_exporter": "python",
   "pygments_lexer": "ipython3",
   "version": "3.7.8"
  }
 },
 "nbformat": 4,
 "nbformat_minor": 5
}
