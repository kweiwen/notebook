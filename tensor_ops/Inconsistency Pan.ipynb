{
 "cells": [
  {
   "cell_type": "code",
   "execution_count": 1,
   "id": "33ba62aa",
   "metadata": {},
   "outputs": [],
   "source": [
    "import torch\n",
    "import torch.nn.functional as F\n",
    "import typing as tp\n",
    "import matplotlib.pyplot as plt\n",
    "import random"
   ]
  },
  {
   "cell_type": "code",
   "execution_count": 2,
   "id": "77b613ab",
   "metadata": {},
   "outputs": [],
   "source": [
    "pan_bias = 30\n",
    "S = 4\n",
    "C = 2\n",
    "T = 1024\n",
    "\n",
    "arr = torch.arange(0.0, 8192, 1.0) \n",
    "arr = arr.view(S, C, T)"
   ]
  },
  {
   "cell_type": "code",
   "execution_count": 3,
   "id": "ac936a5d",
   "metadata": {},
   "outputs": [],
   "source": [
    "def inconsistency_pan(\n",
    "    mix_segment: torch.Tensor\n",
    ") -> torch.Tensor:\n",
    "    assert mix_segment.shape[0] == 4  # Ensure there are 4 tracks\n",
    "    assert mix_segment.shape[1] == 2  # Ensure stereo channels\n",
    "\n",
    "    # Generate random pan values for each track\n",
    "    deg = torch.tensor([random.randint(180 - pan_bias, 180 + pan_bias) for _ in range(4)], dtype=torch.float32)\n",
    "    x = deg / 360.0\n",
    "\n",
    "    norm_power = 2 / (2 ** 0.5)\n",
    "    # Calculate left and right gains based on pan values using the sin pan law\n",
    "    right_amps = torch.sin(x       * torch.pi * 0.5) * norm_power\n",
    "    left_amps  = torch.sin((1 - x) * torch.pi * 0.5) * norm_power\n",
    "    \n",
    "    # Apply the gains to left and right channels\n",
    "    mix_segment[:, 0, :] *= left_amps.view(-1, 1)\n",
    "    mix_segment[:, 1, :] *= right_amps.view(-1, 1)\n",
    "    \n",
    "    sum_of_squares = right_amps**2 + left_amps**2\n",
    "    tolerance = 1e-6\n",
    "    assert torch.all(torch.isclose(sum_of_squares, torch.tensor(2.0), atol=tolerance)), \\\n",
    "    f\"Assertion failed: not all elements are close to 2 within tolerance {tolerance}. Values: {sum_of_squares}\"\n",
    "    \n",
    "    assert not torch.isnan(mix_segment).any()\n",
    "    return mix_segment"
   ]
  },
  {
   "cell_type": "code",
   "execution_count": 4,
   "id": "9a102962",
   "metadata": {},
   "outputs": [],
   "source": [
    "out = inconsistency_pan(arr)"
   ]
  }
 ],
 "metadata": {
  "kernelspec": {
   "display_name": "Python 3 (ipykernel)",
   "language": "python",
   "name": "python3"
  },
  "language_info": {
   "codemirror_mode": {
    "name": "ipython",
    "version": 3
   },
   "file_extension": ".py",
   "mimetype": "text/x-python",
   "name": "python",
   "nbconvert_exporter": "python",
   "pygments_lexer": "ipython3",
   "version": "3.7.8"
  }
 },
 "nbformat": 4,
 "nbformat_minor": 5
}
