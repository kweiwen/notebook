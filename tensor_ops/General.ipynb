{
 "cells": [
  {
   "cell_type": "code",
   "execution_count": 1,
   "id": "40b1b8ce",
   "metadata": {},
   "outputs": [],
   "source": [
    "import numpy as np\n",
    "import torch\n",
    "import torch.nn as nn\n",
    "import torch.nn.functional as F\n",
    "import torch.onnx\n",
    "import torch.optim as optim\n",
    "import numpy as np\n",
    "from torch.utils.data import DataLoader\n",
    "from tqdm import tqdm\n",
    "from einops import rearrange, reduce, repeat"
   ]
  },
  {
   "cell_type": "code",
   "execution_count": 2,
   "id": "8d860610",
   "metadata": {},
   "outputs": [
    {
     "name": "stdout",
     "output_type": "stream",
     "text": [
      "training parameter: 16\n",
      "torch.Size([50, 1, 4])\n"
     ]
    }
   ],
   "source": [
    "class FC(nn.Module):\n",
    "    def __init__(self):\n",
    "        super(FC, self).__init__()\n",
    "        self.hidden1 = nn.Linear(3, 4)\n",
    "        # self.hidden2 = nn.Linear(4, 1)\n",
    "\n",
    "    def forward(self, x):\n",
    "        x = self.hidden1(x)\n",
    "        # x = self.hidden2(x)\n",
    "        return x\n",
    "\n",
    "model = FC()\n",
    "print(\"training parameter:\", sum(p.numel() for p in model.parameters() if p.requires_grad))\n",
    "\n",
    "\n",
    "# 3 * 4 + 4 = 16\n",
    "# 4 * 1 + 1 = 5\n",
    "# 21 = 16 + 5\n",
    "input_tensor = torch.randn(50, 1, 3)\n",
    "output = model(input_tensor)\n",
    "print(output.shape)"
   ]
  },
  {
   "cell_type": "code",
   "execution_count": 3,
   "id": "03d590bf",
   "metadata": {},
   "outputs": [
    {
     "name": "stdout",
     "output_type": "stream",
     "text": [
      "training parameter: 576\n",
      "torch.Size([50, 8, 6, 7, 1])\n",
      "Model has been saved to model.onnx\n"
     ]
    }
   ],
   "source": [
    "class CONV(nn.Module):\n",
    "    def __init__(self):\n",
    "        super(CONV, self).__init__()\n",
    "        self.layer1 = nn.Conv3d(in_channels = 1, out_channels = 8, kernel_size = (3, 3, 8), padding = (1, 1, 0), stride = 1, bias = False)\n",
    "#         self.layer2 = nn.Conv3d(in_channels = 1, out_channels = 8, kernel_size = (3, 3, 8), padding = (1, 1, 0), stride = 1, bias = False)\n",
    "\n",
    "    def forward(self, x):\n",
    "        out = self.layer1(x)\n",
    "#         x2 = rearrange(x1, 'b k h w c -> b c h w k')\n",
    "#         x3 = self.layer1(x2)\n",
    "#         out = rearrange(x3, 'b k h w c -> b c h w k')\n",
    "        return out\n",
    "\n",
    "model = CONV()\n",
    "print(\"training parameter:\", sum(p.numel() for p in model.parameters() if p.requires_grad))\n",
    "\n",
    "input_tensor = torch.randn(50, 1, 6, 7, 8)\n",
    "output = model(input_tensor)\n",
    "print(output.shape)\n",
    "\n",
    "# https://netron.app/\n",
    "onnx_file_path = \"model.onnx\"\n",
    "torch.onnx.export(model, input_tensor, onnx_file_path, verbose=True, opset_version=11)\n",
    "print(f\"Model has been saved to {onnx_file_path}\")"
   ]
  },
  {
   "cell_type": "code",
   "execution_count": 4,
   "id": "306238b5",
   "metadata": {},
   "outputs": [
    {
     "name": "stdout",
     "output_type": "stream",
     "text": [
      "training parameter: 9\n"
     ]
    }
   ],
   "source": [
    "class CONV(nn.Module):\n",
    "    def __init__(self):\n",
    "        super(CONV, self).__init__()\n",
    "        self.layer = nn.Conv2d(in_channels = 1, out_channels = 1, kernel_size = (3, 3), bias = False)\n",
    "\n",
    "    def forward(self, x):\n",
    "        out = self.layer1(x)\n",
    "        return out\n",
    "\n",
    "model = CONV()\n",
    "print(\"training parameter:\", sum(p.numel() for p in model.parameters() if p.requires_grad))\n",
    "\n",
    "# input_tensor = torch.randn(50, 1, 6, 7, 8)\n",
    "# output = model(input_tensor)\n",
    "# print(output.shape)\n",
    "\n",
    "# # https://netron.app/\n",
    "# onnx_file_path = \"model.onnx\"\n",
    "# torch.onnx.export(model, input_tensor, onnx_file_path, verbose=True, opset_version=11)\n",
    "# print(f\"Model has been saved to {onnx_file_path}\")"
   ]
  }
 ],
 "metadata": {
  "kernelspec": {
   "display_name": "Python 3 (ipykernel)",
   "language": "python",
   "name": "python3"
  },
  "language_info": {
   "codemirror_mode": {
    "name": "ipython",
    "version": 3
   },
   "file_extension": ".py",
   "mimetype": "text/x-python",
   "name": "python",
   "nbconvert_exporter": "python",
   "pygments_lexer": "ipython3",
   "version": "3.7.8"
  }
 },
 "nbformat": 4,
 "nbformat_minor": 5
}
