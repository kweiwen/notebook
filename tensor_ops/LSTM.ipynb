{
 "cells": [
  {
   "cell_type": "code",
   "execution_count": 1,
   "id": "d710b5ef",
   "metadata": {},
   "outputs": [],
   "source": [
    "import numpy as np\n",
    "import torch\n",
    "import torch.nn as nn\n",
    "import torch.nn.functional as F\n",
    "import torch.onnx\n",
    "import torch.optim as optim\n",
    "import numpy as np\n",
    "from torch.utils.data import DataLoader\n",
    "from tqdm import tqdm\n",
    "from einops import rearrange, reduce, repeat"
   ]
  },
  {
   "cell_type": "code",
   "execution_count": 2,
   "id": "a5811bd3",
   "metadata": {},
   "outputs": [
    {
     "name": "stdout",
     "output_type": "stream",
     "text": [
      "training parameter: 276\n"
     ]
    }
   ],
   "source": [
    "input_size = 10\n",
    "hidden_size = 3\n",
    "num_layers = 2\n",
    "\n",
    "rnn = nn.LSTM(input_size=input_size, hidden_size=hidden_size, num_layers=num_layers, bidirectional=False) # input size / hidden / layer\n",
    "input = torch.randn(hidden_size, 3, input_size)\n",
    "h0 = torch.randn(num_layers, 3, hidden_size)\n",
    "c0 = torch.randn(num_layers, 3, hidden_size)\n",
    "output, (hn, cn) = rnn(input, (h0, c0))\n",
    "\n",
    "print(\"training parameter:\", sum(p.numel() for p in rnn.parameters() if p.requires_grad))"
   ]
  },
  {
   "cell_type": "code",
   "execution_count": 3,
   "id": "241a8453",
   "metadata": {},
   "outputs": [
    {
     "name": "stdout",
     "output_type": "stream",
     "text": [
      "weight parameter: 156\n",
      "bias parameter  : 24\n"
     ]
    }
   ],
   "source": [
    "w = 4 * hidden_size * (input_size + hidden_size)\n",
    "b = 4 * hidden_size * 2\n",
    "print(\"weight parameter:\", w)\n",
    "print(\"bias parameter  :\", b)"
   ]
  },
  {
   "cell_type": "code",
   "execution_count": 4,
   "id": "62c8df94",
   "metadata": {},
   "outputs": [
    {
     "name": "stdout",
     "output_type": "stream",
     "text": [
      "weight parameter: 72\n",
      "bias parameter  : 24\n"
     ]
    }
   ],
   "source": [
    "w = 4 * hidden_size * (hidden_size + hidden_size)\n",
    "b = 4 * hidden_size * 2\n",
    "print(\"weight parameter:\", w)\n",
    "print(\"bias parameter  :\", b)"
   ]
  },
  {
   "cell_type": "code",
   "execution_count": 5,
   "id": "5cb4e997",
   "metadata": {},
   "outputs": [
    {
     "name": "stdout",
     "output_type": "stream",
     "text": [
      "276\n"
     ]
    }
   ],
   "source": [
    "total = 0\n",
    "for i in range(num_layers):\n",
    "    if i == 0:\n",
    "        w = 4 * hidden_size * (input_size + hidden_size)\n",
    "        b = 4 * hidden_size * 2\n",
    "        total = w + b \n",
    "    else:\n",
    "        w = 4 * hidden_size * (hidden_size + hidden_size)\n",
    "        b = 4 * hidden_size * 2\n",
    "        total = total + w + b\n",
    "\n",
    "print(total)"
   ]
  }
 ],
 "metadata": {
  "kernelspec": {
   "display_name": "Python 3 (ipykernel)",
   "language": "python",
   "name": "python3"
  },
  "language_info": {
   "codemirror_mode": {
    "name": "ipython",
    "version": 3
   },
   "file_extension": ".py",
   "mimetype": "text/x-python",
   "name": "python",
   "nbconvert_exporter": "python",
   "pygments_lexer": "ipython3",
   "version": "3.7.8"
  }
 },
 "nbformat": 4,
 "nbformat_minor": 5
}
