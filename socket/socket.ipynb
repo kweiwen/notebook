{
 "cells": [
  {
   "cell_type": "code",
   "execution_count": 1,
   "id": "a00797cd",
   "metadata": {},
   "outputs": [],
   "source": [
    "import socket\n",
    "import time\n",
    "import struct\n",
    "import sys"
   ]
  },
  {
   "cell_type": "code",
   "execution_count": 2,
   "id": "f840d934",
   "metadata": {},
   "outputs": [],
   "source": [
    "# address = (\"127.0.0.1\", 7661)\n",
    "# client = socket.socket(socket.AF_INET, socket.SOCK_STREAM)\n",
    "\n",
    "# try:\n",
    "#     client.connect(address)\n",
    "#     print(\"Connection Succeeded!\")\n",
    "    \n",
    "#     data = bytes([0xdd, 0xcc, 0xbb, 0xaa, 0x04, 0x00, 0x00, 0x00, 0x00, 0x00, 0x67, 0x16])\n",
    "#     hex_string = data.hex()\n",
    "#     print(data)\n",
    "#     print(hex_string)\n",
    "    \n",
    "#     client.sendall(data)\n",
    "    \n",
    "#     client_file = client.makefile(mode='rb')\n",
    "    \n",
    "#     buffer_size = 4\n",
    "#     buffer = bytearray(buffer_size)\n",
    "    \n",
    "#     bytes_received = client_file.readinto(buffer)\n",
    "    \n",
    "#     print(f\"RECV {bytes_received} x WORD DATA：{buffer[:bytes_received]}\")\n",
    "    \n",
    "#     client.close()\n",
    "    \n",
    "# except:\n",
    "#     print(\"Connection Failed!\")"
   ]
  },
  {
   "cell_type": "code",
   "execution_count": 3,
   "id": "13380424",
   "metadata": {},
   "outputs": [],
   "source": [
    "class Client:\n",
    "    def __init__(self):\n",
    "        self.initAssett()\n",
    "        \n",
    "    def initAssett(self):\n",
    "        self.rxTCP = 7661\n",
    "        self.txTCP = 1667\n",
    "        self.sendTail = [0x44,0x33,0x22,0x11]\n",
    "        self.recvTail = [0xaa,0xbb,0xcc,0xdd]\n",
    "        self.addr = (\"127.0.0.1\", 7661)\n",
    "        self.client = socket.socket(socket.AF_INET, socket.SOCK_STREAM)\n",
    "        self.isConnected = None\n",
    "    \n",
    "    def connect(self):\n",
    "        try:\n",
    "            self.client.connect(self.addr)\n",
    "            print(\"Connection Succeeded!\")\n",
    "            self.isConnected = True\n",
    "        except:\n",
    "            print(\"Connection Failed!\")\n",
    "            self.isConnected = False\n",
    "        \n",
    "    def getData(self, head, size):\n",
    "        if not self.isConnected: return\n",
    "        \n",
    "        data = head + self.recvTail\n",
    "        data = bytes(data[::-1])\n",
    "        self.client.sendall(data)\n",
    "    \n",
    "        client_file = self.client.makefile(mode='rb')\n",
    "    \n",
    "        buffer = bytearray(size)\n",
    "    \n",
    "        bytes_received = client_file.readinto(buffer)\n",
    "    \n",
    "        print(f\"RECV {bytes_received} x WORD DATA：{buffer[:bytes_received]}\")\n",
    "    \n",
    "    def setData(self, head, payload):\n",
    "        if not self.isConnected: return\n",
    "        \n",
    "        data = head + self.sendTail\n",
    "        data = bytes(data[::-1] + payload[::-1])\n",
    "        self.client.sendall(data)\n",
    "#         client_file = self.client.makefile(mode='rb')\n",
    "    \n",
    "#         buffer = bytearray(size)\n",
    "    \n",
    "#         bytes_received = client_file.readinto(buffer)\n",
    "    \n",
    "#         print(f\"RECV {bytes_received} x WORD DATA：{buffer[:bytes_received]}\")"
   ]
  },
  {
   "cell_type": "code",
   "execution_count": 4,
   "id": "7e7e3bda",
   "metadata": {},
   "outputs": [
    {
     "name": "stdout",
     "output_type": "stream",
     "text": [
      "Connection Succeeded!\n",
      "RECV 4 x WORD DATA：bytearray(b'\\x00\\x01\\x02\\x03')\n"
     ]
    }
   ],
   "source": [
    "c = Client()\n",
    "c.connect()\n",
    "c.getData([0x16,0x67,0x00,0x00,0x00,0x00,0x00,0x04], 4)"
   ]
  },
  {
   "cell_type": "code",
   "execution_count": 21,
   "id": "d35e63f2",
   "metadata": {},
   "outputs": [
    {
     "name": "stdout",
     "output_type": "stream",
     "text": [
      "RECV 8 x WORD DATA：bytearray(b'\\x00\\x01\\x02\\x03\\x04\\x05\\x06\\x07')\n"
     ]
    }
   ],
   "source": [
    "c.getData([0x16,0x67,0x00,0x00,0x00,0x00,0x00,0x08], 8)"
   ]
  },
  {
   "cell_type": "code",
   "execution_count": 20,
   "id": "fca1cace",
   "metadata": {
    "scrolled": true
   },
   "outputs": [],
   "source": [
    "c.setData([0x16,0x67,0x00,0x00,0x00,0x00,0x00,0x08], [0x11, 0x22, 0x33, 0x44])"
   ]
  },
  {
   "cell_type": "code",
   "execution_count": 11,
   "id": "1e88819a",
   "metadata": {},
   "outputs": [],
   "source": [
    "# c.client.close()"
   ]
  },
  {
   "cell_type": "code",
   "execution_count": null,
   "id": "fb325430",
   "metadata": {},
   "outputs": [],
   "source": [
    "# 0x11 0x22 0x33 0x44 0x08 0x00 0x00 0x00 0x00 0x00 0x67 0x16 0x44 0x33 0x22 0x11"
   ]
  }
 ],
 "metadata": {
  "kernelspec": {
   "display_name": "Python 3 (ipykernel)",
   "language": "python",
   "name": "python3"
  },
  "language_info": {
   "codemirror_mode": {
    "name": "ipython",
    "version": 3
   },
   "file_extension": ".py",
   "mimetype": "text/x-python",
   "name": "python",
   "nbconvert_exporter": "python",
   "pygments_lexer": "ipython3",
   "version": "3.7.8"
  }
 },
 "nbformat": 4,
 "nbformat_minor": 5
}
