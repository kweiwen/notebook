{
 "cells": [
  {
   "cell_type": "code",
   "execution_count": 1,
   "id": "750f64b0",
   "metadata": {},
   "outputs": [],
   "source": [
    "import subprocess\n",
    "import time\n",
    "import ipywidgets as widgets\n",
    "from ipywidgets import HBox, VBox\n",
    "from IPython.display import display"
   ]
  },
  {
   "cell_type": "code",
   "execution_count": 2,
   "id": "afe15111",
   "metadata": {},
   "outputs": [],
   "source": [
    "class tactileButton(object):\n",
    "    def __init__(self):\n",
    "        self.tactileButton = widgets.Button(\n",
    "            value=False,\n",
    "            description='Click me',\n",
    "            disabled=False,\n",
    "            button_style='', # 'success', 'info', 'warning', 'danger' or ''\n",
    "            tooltip='I am Description',\n",
    "            icon='adn' # (FontAwesome names without the `fa-` prefix)\n",
    "        )\n",
    "        self.tactile_out = widgets.Output()\n",
    "        self.tactileButton.on_click(self.on_tactileButton_clicked)\n",
    "    \n",
    "    def on_tactileButton_clicked(self, _):\n",
    "        # \"linking function with output\"\n",
    "        with self.tactile_out:\n",
    "            # what happens when we press the button\n",
    "            self.tactile_out.clear_output()\n",
    "            r = subprocess.check_output('QACTUtility.exe get_ADSP_RTC_datav2 COM4 0x00000008 0x00000000 0x11110000 0 0x11110001')\n",
    "            print('Something happens!')# linking button and function together using a button's method            \n",
    "            print(r.decode())"
   ]
  },
  {
   "cell_type": "code",
   "execution_count": 3,
   "id": "3a4d6885",
   "metadata": {},
   "outputs": [
    {
     "data": {
      "application/vnd.jupyter.widget-view+json": {
       "model_id": "80e81e7669784549b907057b25c05ff2",
       "version_major": 2,
       "version_minor": 0
      },
      "text/plain": [
       "VBox(children=(Button(description='Click me', icon='adn', style=ButtonStyle(), tooltip='I am Description'), Ou…"
      ]
     },
     "metadata": {},
     "output_type": "display_data"
    }
   ],
   "source": [
    "enableUI = tactileButton()\n",
    "widgets.VBox([enableUI.tactileButton, enableUI.tactile_out])"
   ]
  },
  {
   "cell_type": "code",
   "execution_count": null,
   "id": "1b68b045",
   "metadata": {},
   "outputs": [],
   "source": []
  },
  {
   "cell_type": "code",
   "execution_count": null,
   "id": "30cfeb0a",
   "metadata": {},
   "outputs": [],
   "source": []
  }
 ],
 "metadata": {
  "kernelspec": {
   "display_name": "Python 3 (ipykernel)",
   "language": "python",
   "name": "python3"
  },
  "language_info": {
   "codemirror_mode": {
    "name": "ipython",
    "version": 3
   },
   "file_extension": ".py",
   "mimetype": "text/x-python",
   "name": "python",
   "nbconvert_exporter": "python",
   "pygments_lexer": "ipython3",
   "version": "3.7.0"
  }
 },
 "nbformat": 4,
 "nbformat_minor": 5
}
