{
 "cells": [
  {
   "cell_type": "code",
   "execution_count": 1,
   "id": "mental-wedding",
   "metadata": {},
   "outputs": [],
   "source": [
    "import serial\n",
    "import serial.tools.list_ports\n",
    "import time\n",
    "import ipywidgets as widgets\n",
    "from ipywidgets import HBox, VBox\n",
    "from IPython.display import display"
   ]
  },
  {
   "cell_type": "code",
   "execution_count": 2,
   "id": "automotive-barrel",
   "metadata": {},
   "outputs": [
    {
     "name": "stdout",
     "output_type": "stream",
     "text": [
      "COM3 - Communications Port (COM3)\n",
      "COM4 - Qualcomm HS-USB Android DIAG 901D (COM4)\n"
     ]
    }
   ],
   "source": [
    "ports = list(serial.tools.list_ports.comports())\n",
    "for port in ports:\n",
    "    print (port)"
   ]
  },
  {
   "cell_type": "code",
   "execution_count": 3,
   "id": "handmade-cheese",
   "metadata": {},
   "outputs": [
    {
     "ename": "AttributeError",
     "evalue": "module 'serial' has no attribute 'Serial'",
     "output_type": "error",
     "traceback": [
      "\u001b[1;31m---------------------------------------------------------------------------\u001b[0m",
      "\u001b[1;31mAttributeError\u001b[0m                            Traceback (most recent call last)",
      "\u001b[1;32mC:\\Users\\ZENGKU~1\\AppData\\Local\\Temp/ipykernel_14904/811142348.py\u001b[0m in \u001b[0;36m<module>\u001b[1;34m\u001b[0m\n\u001b[1;32m----> 1\u001b[1;33m \u001b[0mserialPort\u001b[0m \u001b[1;33m=\u001b[0m \u001b[0mserial\u001b[0m\u001b[1;33m.\u001b[0m\u001b[0mSerial\u001b[0m\u001b[1;33m(\u001b[0m\u001b[0mport\u001b[0m\u001b[1;33m=\u001b[0m\u001b[1;34m\"COM4\"\u001b[0m\u001b[1;33m,\u001b[0m \u001b[0mbaudrate\u001b[0m\u001b[1;33m=\u001b[0m\u001b[1;36m576000\u001b[0m\u001b[1;33m,\u001b[0m \u001b[0mbytesize\u001b[0m\u001b[1;33m=\u001b[0m\u001b[0mserial\u001b[0m\u001b[1;33m.\u001b[0m\u001b[0mEIGHTBITS\u001b[0m\u001b[1;33m,\u001b[0m \u001b[0mparity\u001b[0m\u001b[1;33m=\u001b[0m\u001b[0mserial\u001b[0m\u001b[1;33m.\u001b[0m\u001b[0mPARITY_ODD\u001b[0m\u001b[1;33m,\u001b[0m \u001b[0mxonxoff\u001b[0m\u001b[1;33m=\u001b[0m\u001b[1;32mFalse\u001b[0m\u001b[1;33m,\u001b[0m \u001b[0mstopbits\u001b[0m\u001b[1;33m=\u001b[0m\u001b[0mserial\u001b[0m\u001b[1;33m.\u001b[0m\u001b[0mSTOPBITS_TWO\u001b[0m\u001b[1;33m)\u001b[0m\u001b[1;33m\u001b[0m\u001b[0m\n\u001b[0m",
      "\u001b[1;31mAttributeError\u001b[0m: module 'serial' has no attribute 'Serial'"
     ]
    }
   ],
   "source": [
    "serialPort = serial.Serial(port=\"COM4\", baudrate=576000, bytesize=serial.EIGHTBITS, parity=serial.PARITY_ODD, xonxoff=False, stopbits=serial.STOPBITS_TWO)"
   ]
  },
  {
   "cell_type": "code",
   "execution_count": 4,
   "id": "exceptional-congress",
   "metadata": {},
   "outputs": [
    {
     "ename": "NameError",
     "evalue": "name 'serialPort' is not defined",
     "output_type": "error",
     "traceback": [
      "\u001b[1;31m---------------------------------------------------------------------------\u001b[0m",
      "\u001b[1;31mNameError\u001b[0m                                 Traceback (most recent call last)",
      "\u001b[1;32mC:\\Users\\ZENGKU~1\\AppData\\Local\\Temp/ipykernel_14904/3805657555.py\u001b[0m in \u001b[0;36m<module>\u001b[1;34m\u001b[0m\n\u001b[1;32m----> 1\u001b[1;33m \u001b[0mraw_data\u001b[0m \u001b[1;33m=\u001b[0m \u001b[0mserialPort\u001b[0m\u001b[1;33m.\u001b[0m\u001b[0mread_all\u001b[0m\u001b[1;33m(\u001b[0m\u001b[1;33m)\u001b[0m\u001b[1;33m\u001b[0m\u001b[0m\n\u001b[0m\u001b[0;32m      2\u001b[0m \u001b[0mdata\u001b[0m \u001b[1;33m=\u001b[0m \u001b[0mraw_data\u001b[0m\u001b[1;33m.\u001b[0m\u001b[0mdecode\u001b[0m\u001b[1;33m(\u001b[0m\u001b[1;33m)\u001b[0m\u001b[1;33m\u001b[0m\u001b[0m\n\u001b[0;32m      3\u001b[0m \u001b[0mdata\u001b[0m \u001b[1;33m=\u001b[0m \u001b[0mdata\u001b[0m\u001b[1;33m.\u001b[0m\u001b[0mrstrip\u001b[0m\u001b[1;33m(\u001b[0m\u001b[1;34m'\\x00'\u001b[0m\u001b[1;33m)\u001b[0m\u001b[1;33m\u001b[0m\u001b[0m\n\u001b[0;32m      4\u001b[0m \u001b[0mdata\u001b[0m \u001b[1;33m=\u001b[0m \u001b[0mdata\u001b[0m\u001b[1;33m.\u001b[0m\u001b[0mrstrip\u001b[0m\u001b[1;33m(\u001b[0m\u001b[1;34m'\\x0c'\u001b[0m\u001b[1;33m)\u001b[0m\u001b[1;33m\u001b[0m\u001b[0m\n\u001b[0;32m      5\u001b[0m \u001b[0mprint\u001b[0m\u001b[1;33m(\u001b[0m\u001b[0mdata\u001b[0m\u001b[1;33m)\u001b[0m\u001b[1;33m\u001b[0m\u001b[0m\n",
      "\u001b[1;31mNameError\u001b[0m: name 'serialPort' is not defined"
     ]
    }
   ],
   "source": [
    "raw_data = serialPort.read_all()\n",
    "data = raw_data.decode()\n",
    "data = data.rstrip('\\x00')\n",
    "data = data.rstrip('\\x0c')\n",
    "print(data)"
   ]
  },
  {
   "cell_type": "code",
   "execution_count": 5,
   "id": "finished-singles",
   "metadata": {},
   "outputs": [
    {
     "ename": "NameError",
     "evalue": "name 'serialPort' is not defined",
     "output_type": "error",
     "traceback": [
      "\u001b[1;31m---------------------------------------------------------------------------\u001b[0m",
      "\u001b[1;31mNameError\u001b[0m                                 Traceback (most recent call last)",
      "\u001b[1;32mC:\\Users\\ZENGKU~1\\AppData\\Local\\Temp/ipykernel_14904/1107300488.py\u001b[0m in \u001b[0;36m<module>\u001b[1;34m\u001b[0m\n\u001b[0;32m      2\u001b[0m \u001b[0mstr_val\u001b[0m \u001b[1;33m=\u001b[0m \u001b[0mstr\u001b[0m\u001b[1;33m(\u001b[0m\u001b[0mint_val\u001b[0m\u001b[1;33m)\u001b[0m\u001b[1;33m\u001b[0m\u001b[0m\n\u001b[0;32m      3\u001b[0m \u001b[0mbyte_val\u001b[0m \u001b[1;33m=\u001b[0m \u001b[0mstr_val\u001b[0m\u001b[1;33m.\u001b[0m\u001b[0mencode\u001b[0m\u001b[1;33m(\u001b[0m\u001b[1;33m)\u001b[0m\u001b[1;33m\u001b[0m\u001b[0m\n\u001b[1;32m----> 4\u001b[1;33m \u001b[0mstatus\u001b[0m \u001b[1;33m=\u001b[0m \u001b[0mserialPort\u001b[0m\u001b[1;33m.\u001b[0m\u001b[0mwrite\u001b[0m\u001b[1;33m(\u001b[0m\u001b[0mbyte_val\u001b[0m\u001b[1;33m)\u001b[0m\u001b[1;33m\u001b[0m\u001b[0m\n\u001b[0m\u001b[0;32m      5\u001b[0m \u001b[1;32mif\u001b[0m\u001b[1;33m(\u001b[0m\u001b[0mserialPort\u001b[0m\u001b[1;33m.\u001b[0m\u001b[0mwritable\u001b[0m\u001b[1;33m)\u001b[0m\u001b[1;33m:\u001b[0m\u001b[1;33m\u001b[0m\u001b[0m\n\u001b[0;32m      6\u001b[0m     \u001b[0mprint\u001b[0m\u001b[1;33m(\u001b[0m\u001b[1;34m\"status:\"\u001b[0m\u001b[1;33m,\u001b[0m \u001b[0mstatus\u001b[0m\u001b[1;33m)\u001b[0m\u001b[1;33m\u001b[0m\u001b[0m\n",
      "\u001b[1;31mNameError\u001b[0m: name 'serialPort' is not defined"
     ]
    }
   ],
   "source": [
    "int_val = 87654321\n",
    "str_val = str(int_val)  \n",
    "byte_val = str_val.encode()\n",
    "status = serialPort.write(byte_val)\n",
    "if(serialPort.writable):\n",
    "    print(\"status:\", status)\n",
    "else:\n",
    "    print(\"write busy\")\n",
    "\n",
    "if(serialPort.read_until):\n",
    "    data = serialPort.read_until(b'\\x00')\n",
    "    if(data):\n",
    "        print(\"result: \", data.decode())\n",
    "        print(\"raw:    \", data)\n",
    "    else:\n",
    "        print(\"In Waiting\", serialPort.inWaiting())\n",
    "        print(\"NULL\")\n",
    "else:\n",
    "    print(\"read busy\")"
   ]
  },
  {
   "cell_type": "code",
   "execution_count": 6,
   "id": "arbitrary-perth",
   "metadata": {},
   "outputs": [
    {
     "data": {
      "application/vnd.jupyter.widget-view+json": {
       "model_id": "e442e9d3521a4ae794d1861149baef5d",
       "version_major": 2,
       "version_minor": 0
      },
      "text/plain": [
       "interactive(children=(IntSlider(value=0, description='position', max=16), IntSlider(value=0, description='para…"
      ]
     },
     "metadata": {},
     "output_type": "display_data"
    }
   ],
   "source": [
    "@widgets.interact(position=(0, 16), parameter=(0, 16), value=(0, 127))\n",
    "\n",
    "def f(position=0, parameter=0, value=0):\n",
    "    padding = 2\n",
    "    input_data1 = f\"{position:0{padding}x}\"\n",
    "    input_data2 = f\"{parameter:0{padding}x}\"\n",
    "    input_data3 = f\"{value:0{padding}x}\"\n",
    "    \n",
    "    str_val = \"00\" + str(input_data1) + str(input_data2) + str(input_data3)\n",
    "    byte_val = str_val.encode()\n",
    "    \n",
    "    if(serialPort.writable):\n",
    "        status = serialPort.write(byte_val)\n",
    "        print(\"USB TX, DSP RX\")\n",
    "        print(\"send data: \", str_val)\n",
    "        print(\"\\n\")\n",
    "    else:\n",
    "        print(\"write busy\")\n",
    "        \n",
    "    if(serialPort.readable):\n",
    "        data = serialPort.read_until(b'\\x00')\n",
    "        print(\"DSP TX, USB RX\")\n",
    "        print(\"read data: \", data.decode())\n",
    "        print(\"\\n\")\n",
    "    else:\n",
    "        print(\"read busy\")"
   ]
  },
  {
   "cell_type": "code",
   "execution_count": 7,
   "id": "identified-wales",
   "metadata": {},
   "outputs": [
    {
     "ename": "NameError",
     "evalue": "name 'serialPort' is not defined",
     "output_type": "error",
     "traceback": [
      "\u001b[1;31m---------------------------------------------------------------------------\u001b[0m",
      "\u001b[1;31mNameError\u001b[0m                                 Traceback (most recent call last)",
      "\u001b[1;32mC:\\Users\\ZENGKU~1\\AppData\\Local\\Temp/ipykernel_14904/287878686.py\u001b[0m in \u001b[0;36m<module>\u001b[1;34m\u001b[0m\n\u001b[0;32m      2\u001b[0m \u001b[0mstr_val\u001b[0m \u001b[1;33m=\u001b[0m \u001b[0mstr\u001b[0m\u001b[1;33m(\u001b[0m\u001b[0mint_val\u001b[0m\u001b[1;33m)\u001b[0m\u001b[1;33m\u001b[0m\u001b[0m\n\u001b[0;32m      3\u001b[0m \u001b[0mbyte_val\u001b[0m \u001b[1;33m=\u001b[0m \u001b[0mstr_val\u001b[0m\u001b[1;33m.\u001b[0m\u001b[0mencode\u001b[0m\u001b[1;33m(\u001b[0m\u001b[1;33m)\u001b[0m\u001b[1;33m\u001b[0m\u001b[0m\n\u001b[1;32m----> 4\u001b[1;33m \u001b[0mstatus\u001b[0m \u001b[1;33m=\u001b[0m \u001b[0mserialPort\u001b[0m\u001b[1;33m.\u001b[0m\u001b[0mwrite\u001b[0m\u001b[1;33m(\u001b[0m\u001b[0mbyte_val\u001b[0m\u001b[1;33m)\u001b[0m\u001b[1;33m\u001b[0m\u001b[0m\n\u001b[0m",
      "\u001b[1;31mNameError\u001b[0m: name 'serialPort' is not defined"
     ]
    }
   ],
   "source": [
    "int_val = 0\n",
    "str_val = str(int_val)  \n",
    "byte_val = str_val.encode()\n",
    "status = serialPort.write(byte_val)"
   ]
  },
  {
   "cell_type": "code",
   "execution_count": 8,
   "id": "enhanced-efficiency",
   "metadata": {},
   "outputs": [
    {
     "ename": "NameError",
     "evalue": "name 'serialPort' is not defined",
     "output_type": "error",
     "traceback": [
      "\u001b[1;31m---------------------------------------------------------------------------\u001b[0m",
      "\u001b[1;31mNameError\u001b[0m                                 Traceback (most recent call last)",
      "\u001b[1;32mC:\\Users\\ZENGKU~1\\AppData\\Local\\Temp/ipykernel_14904/717018259.py\u001b[0m in \u001b[0;36m<module>\u001b[1;34m\u001b[0m\n\u001b[1;32m----> 1\u001b[1;33m \u001b[0mdata\u001b[0m \u001b[1;33m=\u001b[0m \u001b[0mserialPort\u001b[0m\u001b[1;33m.\u001b[0m\u001b[0mread_all\u001b[0m\u001b[1;33m(\u001b[0m\u001b[1;33m)\u001b[0m\u001b[1;33m\u001b[0m\u001b[0m\n\u001b[0m\u001b[0;32m      2\u001b[0m \u001b[0mprint\u001b[0m\u001b[1;33m(\u001b[0m\u001b[1;34m\"result:\"\u001b[0m\u001b[1;33m,\u001b[0m \u001b[0mdata\u001b[0m\u001b[1;33m.\u001b[0m\u001b[0mdecode\u001b[0m\u001b[1;33m(\u001b[0m\u001b[1;33m)\u001b[0m\u001b[1;33m)\u001b[0m\u001b[1;33m\u001b[0m\u001b[0m\n",
      "\u001b[1;31mNameError\u001b[0m: name 'serialPort' is not defined"
     ]
    }
   ],
   "source": [
    "data = serialPort.read_all()\n",
    "print(\"result:\", data.decode())"
   ]
  },
  {
   "cell_type": "code",
   "execution_count": 33,
   "id": "roman-holder",
   "metadata": {},
   "outputs": [],
   "source": [
    "class toggleButton(object):\n",
    "    def __init__(self):\n",
    "        self.toggleButton = widgets.ToggleButton(\n",
    "            value=False,\n",
    "            description='Click me',\n",
    "            disabled=False,\n",
    "            button_style='', # 'success', 'info', 'warning', 'danger' or ''\n",
    "            tooltip='I am Description',\n",
    "            icon='adn' # (FontAwesome names without the `fa-` prefix)\n",
    "        )\n",
    "        self.toggle_out = widgets.Output()\n",
    "        self.toggleButton.observe(self.on_toggleButton_clicked)\n",
    "\n",
    "    def on_toggleButton_clicked(self, _):\n",
    "        # \"linking function with output\"\n",
    "        with self.toggle_out:\n",
    "            # what happens when we press the button\n",
    "            self.toggle_out.clear_output()\n",
    "            if(self.toggleButton.value):\n",
    "                print('On happens!')# linking button and function together using a button's method\n",
    "            else:\n",
    "                print('Off happens!')# linking button and function together using a button's method"
   ]
  },
  {
   "cell_type": "code",
   "execution_count": 35,
   "id": "technological-armor",
   "metadata": {},
   "outputs": [],
   "source": [
    "class tactileButton(object):\n",
    "    def __init__(self):\n",
    "        self.tactileButton = widgets.Button(\n",
    "            value=False,\n",
    "            description='Click me',\n",
    "            disabled=False,\n",
    "            button_style='', # 'success', 'info', 'warning', 'danger' or ''\n",
    "            tooltip='I am Description',\n",
    "            icon='adn' # (FontAwesome names without the `fa-` prefix)\n",
    "        )\n",
    "        self.tactile_out = widgets.Output()\n",
    "        self.tactileButton.on_click(self.on_tactileButton_clicked)\n",
    "    \n",
    "    def on_tactileButton_clicked(self, _):\n",
    "        # \"linking function with output\"\n",
    "        with self.tactile_out:\n",
    "            # what happens when we press the button\n",
    "            self.tactile_out.clear_output()\n",
    "            r = subprocess.check_output('QACTUtility.exe get_ADSP_RTC_datav2 COM4 0x00000008 0x00000000 0x11110000 0 0x11110001')\n",
    "            print(r.decode())\n",
    "            print('Something happens!')# linking button and function together using a button's method"
   ]
  },
  {
   "cell_type": "code",
   "execution_count": 36,
   "id": "f9be2b0b",
   "metadata": {},
   "outputs": [
    {
     "data": {
      "application/vnd.jupyter.widget-view+json": {
       "model_id": "3077f20f7a044c4f9982d6d307771bb1",
       "version_major": 2,
       "version_minor": 0
      },
      "text/plain": [
       "VBox(children=(Button(description='Click me', icon='adn', style=ButtonStyle(), tooltip='I am Description'), Ou…"
      ]
     },
     "metadata": {},
     "output_type": "display_data"
    }
   ],
   "source": [
    "enableUI = tactileButton()\n",
    "widgets.VBox([enableUI.tactileButton, enableUI.tactile_out])"
   ]
  },
  {
   "cell_type": "code",
   "execution_count": 28,
   "id": "unnecessary-samba",
   "metadata": {},
   "outputs": [
    {
     "data": {
      "application/vnd.jupyter.widget-view+json": {
       "model_id": "adcc26024bfd44fe884f31bb9e21c4df",
       "version_major": 2,
       "version_minor": 0
      },
      "text/plain": [
       "VBox(children=(ToggleButton(value=False, description='Click me', icon='adn', tooltip='I am Description'), Outp…"
      ]
     },
     "metadata": {},
     "output_type": "display_data"
    }
   ],
   "source": [
    "test1 = toggleButton()\n",
    "test2 = tactileButton()\n",
    "test3 = toggleButton()\n",
    "widgets.VBox([test1.toggleButton,test1.toggle_out,test2.tactileButton,test2.tactile_out,test3.toggleButton,test3.toggle_out])"
   ]
  },
  {
   "cell_type": "code",
   "execution_count": 25,
   "id": "ceb1c64d",
   "metadata": {},
   "outputs": [],
   "source": [
    "import subprocess\n",
    "r = subprocess.check_output('QACTUtility.exe get_ADSP_RTC_datav2 COM4 0x00000008 0x00000000 0x11110000 0 0x11110001')\n",
    "test1 = toggleButton()"
   ]
  },
  {
   "cell_type": "code",
   "execution_count": 26,
   "id": "ab3f018f",
   "metadata": {},
   "outputs": [
    {
     "name": "stdout",
     "output_type": "stream",
     "text": [
      "02000000\r\n",
      "\r\n",
      "\n"
     ]
    }
   ],
   "source": [
    "print(r.decode())"
   ]
  },
  {
   "cell_type": "code",
   "execution_count": null,
   "id": "e5dc718b",
   "metadata": {},
   "outputs": [],
   "source": []
  }
 ],
 "metadata": {
  "kernelspec": {
   "display_name": "Python 3 (ipykernel)",
   "language": "python",
   "name": "python3"
  },
  "language_info": {
   "codemirror_mode": {
    "name": "ipython",
    "version": 3
   },
   "file_extension": ".py",
   "mimetype": "text/x-python",
   "name": "python",
   "nbconvert_exporter": "python",
   "pygments_lexer": "ipython3",
   "version": "3.7.0"
  },
  "widgets": {
   "application/vnd.jupyter.widget-state+json": {
    "state": {},
    "version_major": 2,
    "version_minor": 0
   }
  }
 },
 "nbformat": 4,
 "nbformat_minor": 5
}
