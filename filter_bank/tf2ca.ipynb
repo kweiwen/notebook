{
 "cells": [
  {
   "cell_type": "code",
   "execution_count": 1,
   "id": "379b3a4f",
   "metadata": {},
   "outputs": [],
   "source": [
    "import numpy as np\n",
    "import coupledIIR as cf\n",
    "from math import pi\n",
    "from scipy import signal\n",
    "from matplotlib import pyplot as plt\n",
    "\n",
    "# References:\n",
    "# [1] P.P. Vaidyanathan, ROBUST DIGITAL FILTER STRUCTURES, in HANDBOOK FOR DIGITAL SIGNAL PROCESSING. S.K. Mitra and J.F. Kaiser Eds. Wiley-Interscience, N.Y., 1993, Chapter 7.\n",
    "# [2] P.P. Vaidyanathan, MULTIRATE SYSTEMS AND FILTER BANKS, Prentice Hall, N.Y., Englewood Cliffs, NJ, 1993, Chapter 3."
   ]
  },
  {
   "cell_type": "code",
   "execution_count": 2,
   "id": "7d69178f",
   "metadata": {},
   "outputs": [],
   "source": [
    "def numrecursion(r, N, c):\n",
    "    q = np.zeros(N + 1, dtype=complex)\n",
    "\n",
    "    # Initialize recursion\n",
    "    q[0] = np.sqrt(-r[0] / c, dtype=complex)\n",
    "    q[N] = np.conj(c * q[0], dtype=complex)\n",
    "    q[1] = -r[1] / (2 * c * q[0])\n",
    "    q[N - 1] = np.conj(c * q[1], dtype=complex)\n",
    "\n",
    "    # The limit of the for loop depends on the order being odd or even\n",
    "    for n in range(2, int(np.ceil(N / 2))):\n",
    "        q[n] = (-r[n] / c - np.sum(q[1:n] * q[n-1:0:-1])) / (2 * q[0])\n",
    "        q[N-n] = np.conj(c * q[n])\n",
    "\n",
    "    # Compute middle coefficient separately when order is even\n",
    "    if N % 2 == 0:\n",
    "        q[int((N+2) / 2) - 1] = (-r[int((N+2) / 2) - 1] / c - np.sum(q[1:int((N+2) / 2) - 1] * q[int((N+2) / 2) - 2::-1])) / (2 * q[0])\n",
    "\n",
    "    return q\n",
    "\n",
    "def powercompnum(b, r, N, c=1):\n",
    "    \"\"\"\n",
    "    Compute numerator of power complementary filter.\n",
    "    \"\"\"\n",
    "    # Check if b is real and c has default value\n",
    "    if np.isreal(b).all() and c == 1:\n",
    "        # Try to get a real q with c = 1 and c = -1\n",
    "        q = numrecursion(r, N, 1)\n",
    "\n",
    "        if not np.isreal(q).all():\n",
    "            q = numrecursion(r, N, -1)\n",
    "\n",
    "        if not np.isreal(q).all():\n",
    "            print('A real power complementary filter could not be found')\n",
    "            return q\n",
    "    else:\n",
    "        if np.size(c) > 1:\n",
    "            print('C must be a complex scalar.')\n",
    "            return None\n",
    "        if abs(c) - 1 > np.power(np.finfo(float).eps, 2/3):\n",
    "            print('C must be of magnitude one.')\n",
    "            return None\n",
    "\n",
    "        q = numrecursion(r, N, c)\n",
    "\n",
    "    return q\n",
    "\n",
    "def auxpoly(b, a):\n",
    "    revb = np.conj(b[::-1])\n",
    "    reva = np.conj(a[::-1])\n",
    "\n",
    "    r = np.subtract(np.convolve(revb, b), np.convolve(a, reva))\n",
    "\n",
    "    return r\n",
    "\n",
    "def iirpowcomp(b, a):\n",
    "    # Find the auxiliary polynomial R(z)\n",
    "    r = auxpoly(b, a)\n",
    "\n",
    "    # Compute the numerator of the power complementary transfer function\n",
    "    q = powercompnum(b, r, len(b) - 1)\n",
    "    return q, a\n",
    "\n",
    "def sortnums(b, bp):\n",
    "    # Sort numerators prior to calling ALLPASSDECOMPOSITION.\n",
    "    # ALLPASSDECOMPOSITION always requires the first argument to\n",
    "    # be symmetric. The second argument can be symmetric or antisymmetric.\n",
    "\n",
    "    # If b is real and antisymmetric, make it the second argument\n",
    "    if np.max(np.abs(np.add(b, b[::-1]))) < np.finfo(float).eps ** (2 / 3):\n",
    "        p = bp\n",
    "        q = b\n",
    "    else:\n",
    "        p = b\n",
    "        q = bp\n",
    "\n",
    "    return p, q\n",
    "\n",
    "def allpassdecomposition(p, q, a):\n",
    "    # If q is real and antisymmetric, make it imaginary\n",
    "    if np.all(np.isreal(q)):\n",
    "        if np.max(np.abs(np.add(q, q[::-1]))) < np.finfo(float).eps ** (2 / 3):\n",
    "            q = q * 1j\n",
    "\n",
    "    z = np.roots(p - 1j * q)\n",
    "\n",
    "    # Initialize the allpass functions\n",
    "    d1 = np.array([1.0])\n",
    "    d2 = np.array([1.0])\n",
    "\n",
    "    # Separate the zeros inside the unit circle and the ones outside to form the allpass functions\n",
    "    for n in range(len(z)):\n",
    "        if np.abs(z[n]) < 1:\n",
    "            d2 = np.convolve(d2, [1, -z[n]])\n",
    "        else:\n",
    "            d1 = np.convolve(d1, [1, -1 / np.conj(z[n])])\n",
    "\n",
    "    # Remove roundoff imaginary parts\n",
    "    d1 = imagprune(d1)\n",
    "    d2 = imagprune(d2)\n",
    "\n",
    "    beta = np.sum(d2) * (np.sum(p) + 1j * np.sum(q)) / np.sum(a) / np.sum(np.conj(d2))\n",
    "\n",
    "    return d1, d2, beta\n",
    "\n",
    "def imagprune(poly):\n",
    "    # Function to remove roundoff imaginary parts\n",
    "    real_part = np.real(poly)\n",
    "    imag_part = np.imag(poly)\n",
    "    imag_part[np.abs(imag_part) < np.finfo(float).eps] = 0\n",
    "    pruned_poly = real_part + imag_part * 1j\n",
    "    return pruned_poly\n",
    "\n",
    "def tf2ca(b, a):\n",
    "    bp, a = iirpowcomp(b, a)\n",
    "    p, q = sortnums(b, bp)\n",
    "    d1, d2, beta = allpassdecomposition(p,q,a)\n",
    "    return d1, d2, beta\n",
    "\n",
    "def err_diff(d1, d2, a, b):\n",
    "    \n",
    "    a0 = a[0]\n",
    "    \n",
    "    a = a / a0\n",
    "    b = b / a0\n",
    "    \n",
    "    num = 0.5 * np.convolve(d1[::-1], d2) * beta + 0.5 * np.convolve(d2[::-1], d1) * beta\n",
    "    den = np.convolve(d1, d2)\n",
    "    \n",
    "    return np.abs(np.max([np.max(b-num), np.max(a-den)]))\n",
    "\n",
    "def get_diff(d1, d2):\n",
    "    num = 0.5 * np.convolve(d1[::-1], d2) * beta - 0.5 * np.convolve(d2[::-1], d1) * beta\n",
    "    den = np.convolve(d1, d2)\n",
    "    return num, den\n",
    "\n",
    "def get_sum(d1, d2):\n",
    "    num = 0.5 * np.convolve(d1[::-1], d2) * beta + 0.5 * np.convolve(d2[::-1], d1) * beta\n",
    "    den = np.convolve(d1, d2)\n",
    "    return num, den"
   ]
  },
  {
   "cell_type": "code",
   "execution_count": 3,
   "id": "947ba5ec",
   "metadata": {},
   "outputs": [],
   "source": [
    "LP, HP = cf.Butterworth30dB(12000, 48000, False)\n",
    "\n",
    "b = LP[0]\n",
    "a = LP[1]\n",
    "\n",
    "d1, d2, beta = tf2ca(b, a)"
   ]
  },
  {
   "cell_type": "code",
   "execution_count": 4,
   "id": "884aed93",
   "metadata": {
    "scrolled": true
   },
   "outputs": [
    {
     "name": "stdout",
     "output_type": "stream",
     "text": [
      "b    :  [0.125 0.625 1.25  1.25  0.625 0.125]\n",
      "a    :  [ 2.36803399e+00 -5.13301327e-16  1.50000000e+00 -1.91276412e-16\n",
      "  1.31966011e-01 -7.32558521e-18]\n",
      "d1   :  [1.00000000e+00+0.j 1.40651236e-16+0.j 1.05572809e-01+0.j]\n",
      "d2   :  [ 1.00000000e+00+0.00000000e+00j -1.02180179e-15-2.22044605e-16j\n",
      "  5.27864045e-01+0.00000000e+00j -2.34418727e-17+0.00000000e+00j]\n",
      "beta :  (1-2.906601613561374e-16j)\n",
      "error:  7.005105889344437e-16\n"
     ]
    }
   ],
   "source": [
    "print(\"b    : \", b)\n",
    "print(\"a    : \", a)\n",
    "print(\"d1   : \", d1)\n",
    "print(\"d2   : \", d2)\n",
    "print(\"beta : \", beta)\n",
    "print(\"error: \", err_diff(d1, d2, a, b))"
   ]
  },
  {
   "cell_type": "markdown",
   "id": "5836c79b",
   "metadata": {},
   "source": [
    "- Reconstruction Transfer Function & Frequency Response\n",
    "\n",
    "Real vectors $d_1$ and $d_2$ containing the denominator coefficients of the allpass filters $H_1(z)$ and $H_2(z)$ are allpass filter.\n",
    "\n",
    "$$\n",
    "\\begin{align}\n",
    "H_{lp}(z) &= \\frac{B_{lp}(z)}{A_{lp}(z)} = \\frac{[H_1(z) + H_2(z)]}{2} \\\\\n",
    "H_{hp}(z) &= \\frac{B_{hp}(z)}{A_{hp}(z)} = \\frac{[H_1(z) - H_2(z)]}{2} \\\\\n",
    "H_1(z) &= \\frac{\\text{fliplr}(\\overline{D_1(z)})}{D_1(z)} \\\\\n",
    "H_2(z) &= \\frac{\\text{fliplr}(\\overline{D_2(z)})}{D_2(z)} \\\\\n",
    "\\end{align}\n",
    "$$\n",
    "\n",
    "\n",
    "$$\n",
    "\\begin{align}\n",
    "H_{lp}(z) &= \\frac{\\text{fliplr}(\\overline{D_1(z)})}{2D_1(z)} + \\frac{\\text{fliplr}(\\overline{D_2(z)})}{2D_2(z)} \\\\\n",
    "&= \\frac{\\text{fliplr}(\\overline{D_1(z)})D_2(z) + \\text{fliplr}(\\overline{D_2(z)})D_1(z)}{2D_1(z)D_2(z)} \\\\\n",
    "H_{hp}(z) &= \\frac{\\text{fliplr}(\\overline{D_1(z)})}{2D_1(z)} - \\frac{\\text{fliplr}(\\overline{D_2(z)})}{2D_2(z)} \\\\\n",
    "&= \\frac{\\text{fliplr}(\\overline{D_1(z)})D_2(z) - \\text{fliplr}(\\overline{D_2(z)})D_1(z)}{2D_1(z)D_2(z)}\n",
    "\\end{align}\n",
    "$$"
   ]
  },
  {
   "cell_type": "code",
   "execution_count": 5,
   "id": "50f90165",
   "metadata": {},
   "outputs": [
    {
     "name": "stdout",
     "output_type": "stream",
     "text": [
      "[ 0.0527864  -0.26393202  0.52786405 -0.52786405  0.26393202 -0.0527864 ]\n",
      "[ 1.00000000e+00 -8.81150550e-16  6.33436854e-01 -5.70716271e-17\n",
      "  5.57280900e-02 -2.47482435e-18]\n",
      "[0.0527864  0.26393202 0.52786405 0.52786405 0.26393202 0.0527864 ]\n",
      "[ 1.00000000e+00 -8.81150550e-16  6.33436854e-01 -5.70716271e-17\n",
      "  5.57280900e-02 -2.47482435e-18]\n"
     ]
    },
    {
     "data": {
      "image/png": "[encoded data removed]",
      "text/plain": [
       "<Figure size 640x480 with 1 Axes>"
      ]
     },
     "metadata": {},
     "output_type": "display_data"
    }
   ],
   "source": [
    "a, b = get_diff(d1, d2)\n",
    "print(a.real)\n",
    "print(b.real)\n",
    "w, h1 = signal.freqz(a.real, b.real)\n",
    "\n",
    "a, b = get_sum(d1, d2)\n",
    "print(a.real)\n",
    "print(b.real)\n",
    "w, h2 = signal.freqz(a.real, b.real)\n",
    "\n",
    "plt.plot(np.abs(h1))\n",
    "plt.plot(np.abs(h2))\n",
    "plt.show()"
   ]
  },
  {
   "cell_type": "markdown",
   "id": "034f79c5",
   "metadata": {},
   "source": [
    "- Original Transfer Function & Frequency Response\n",
    "\n",
    "$$\n",
    "H_{lp}(z) = \\frac{B_{lp}(z)}{A_{lp}(z)} \\\\\n",
    "H_{hp}(z) = \\frac{B_{hp}(z)}{A_{hp}(z)} \\\\\n",
    "$$"
   ]
  },
  {
   "cell_type": "code",
   "execution_count": 6,
   "id": "8a2e0942",
   "metadata": {},
   "outputs": [
    {
     "name": "stdout",
     "output_type": "stream",
     "text": [
      "[[ 5.27864045e-02  2.63932023e-01  5.27864045e-01  5.27864045e-01\n",
      "   2.63932023e-01  5.27864045e-02]\n",
      " [ 1.00000000e+00 -2.16762652e-16  6.33436854e-01 -8.07743525e-17\n",
      "   5.57280900e-02 -3.09353043e-18]]\n",
      "[[ 5.27864045e-02 -2.63932023e-01  5.27864045e-01 -5.27864045e-01\n",
      "   2.63932023e-01 -5.27864045e-02]\n",
      " [ 1.00000000e+00 -2.16762652e-16  6.33436854e-01 -8.07743525e-17\n",
      "   5.57280900e-02 -3.09353043e-18]]\n"
     ]
    },
    {
     "data": {
      "image/png": "[encoded data removed]",
      "text/plain": [
       "<Figure size 640x480 with 1 Axes>"
      ]
     },
     "metadata": {},
     "output_type": "display_data"
    }
   ],
   "source": [
    "a0 = LP[1][0]\n",
    "print(LP/a0)\n",
    "\n",
    "a0 = HP[1][0]\n",
    "print(HP/a0)\n",
    "\n",
    "w, h1 = signal.freqz(LP[0], LP[1])\n",
    "w, h2 = signal.freqz(HP[0], HP[1])\n",
    "\n",
    "plt.plot(np.abs(h1))\n",
    "plt.plot(np.abs(h2))\n",
    "plt.show()"
   ]
  }
 ],
 "metadata": {
  "kernelspec": {
   "display_name": "Python 3 (ipykernel)",
   "language": "python",
   "name": "python3"
  },
  "language_info": {
   "codemirror_mode": {
    "name": "ipython",
    "version": 3
   },
   "file_extension": ".py",
   "mimetype": "text/x-python",
   "name": "python",
   "nbconvert_exporter": "python",
   "pygments_lexer": "ipython3",
   "version": "3.7.8"
  }
 },
 "nbformat": 4,
 "nbformat_minor": 5
}
