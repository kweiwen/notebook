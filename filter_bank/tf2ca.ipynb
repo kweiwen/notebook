{
 "cells": [
  {
   "cell_type": "code",
   "execution_count": 1,
   "id": "379b3a4f",
   "metadata": {},
   "outputs": [],
   "source": [
    "import numpy as np\n",
    "from math import pi\n",
    "from scipy import signal\n",
    "from matplotlib import pyplot as plt\n",
    "\n",
    "# References:\n",
    "# [1] P.P. Vaidyanathan, ROBUST DIGITAL FILTER STRUCTURES, in HANDBOOK FOR DIGITAL SIGNAL PROCESSING. S.K. Mitra and J.F. Kaiser Eds. Wiley-Interscience, N.Y., 1993, Chapter 7.\n",
    "# [2] P.P. Vaidyanathan, MULTIRATE SYSTEMS AND FILTER BANKS, Prentice Hall, N.Y., Englewood Cliffs, NJ, 1993, Chapter 3."
   ]
  },
  {
   "cell_type": "code",
   "execution_count": 2,
   "id": "7d69178f",
   "metadata": {},
   "outputs": [],
   "source": [
    "def numrecursion(r, N, c):\n",
    "    q = np.zeros(N + 1, dtype=complex)\n",
    "\n",
    "    # Initialize recursion\n",
    "    q[0] = np.sqrt(-r[0] / c, dtype=complex)\n",
    "    q[N] = np.conj(c * q[0], dtype=complex)\n",
    "    q[1] = -r[1] / (2 * c * q[0])\n",
    "    q[N - 1] = np.conj(c * q[1], dtype=complex)\n",
    "\n",
    "    # The limit of the for loop depends on the order being odd or even\n",
    "    for n in range(3, int(np.ceil(N / 2)) + 1):\n",
    "        q[n - 1] = (-r[n - 1] / c - np.dot(q[1:n - 1], q[n - 2:0:-1])) / (2 * q[0])\n",
    "        q[N + 1 - n - 1] = np.conj(c * q[n - 1])\n",
    "\n",
    "    # Compute middle coefficient separately when order is even\n",
    "    if N % 2 == 0:\n",
    "        q[int((N + 2) / 2) - 1] = (-r[int((N + 2) / 2) - 1] / c - np.dot(q[1:int((N + 2) / 2) - 1],\n",
    "                                                                         q[int((N + 2) / 2) - 2:0:-1])) / (2 * q[0])\n",
    "    return q\n",
    "\n",
    "\n",
    "def powercompnum(b, r, N, c=1):\n",
    "    \"\"\"\n",
    "    Compute numerator of power complementary filter.\n",
    "    \"\"\"\n",
    "    # Check if b is real and c has default value\n",
    "    if np.isreal(b).all() and c == 1:\n",
    "        # Try to get a real q with c = 1 and c = -1\n",
    "        q = numrecursion(r, N, 1)\n",
    "\n",
    "        if not np.isreal(q).all():\n",
    "            q = numrecursion(r, N, -1)\n",
    "\n",
    "        if not np.isreal(q).all():\n",
    "            print('A real power complementary filter could not be found')\n",
    "            return q\n",
    "    else:\n",
    "        if np.size(c) > 1:\n",
    "            print('C must be a complex scalar.')\n",
    "            return None\n",
    "        if abs(c) - 1 > np.power(np.finfo(float).eps, 2/3):\n",
    "            print('C must be of magnitude one.')\n",
    "            return None\n",
    "\n",
    "        q = numrecursion(r, N, c)\n",
    "\n",
    "    return q\n",
    "\n",
    "def auxpoly(b, a):\n",
    "    revb = np.conj(b[::-1])\n",
    "    reva = np.conj(a[::-1])\n",
    "\n",
    "    r = np.subtract(np.convolve(revb, b), np.convolve(a, reva))\n",
    "\n",
    "    return r\n",
    "\n",
    "def iirpowcomp(b, a):\n",
    "    # Find the auxiliary polynomial R(z)\n",
    "    r = auxpoly(b, a)\n",
    "\n",
    "    # Compute the numerator of the power complementary transfer function\n",
    "    q = powercompnum(b, r, len(b) - 1)\n",
    "    return q, a\n",
    "\n",
    "def sortnums(b, bp):\n",
    "    # Sort numerators prior to calling ALLPASSDECOMPOSITION.\n",
    "    # ALLPASSDECOMPOSITION always requires the first argument to\n",
    "    # be symmetric. The second argument can be symmetric or antisymmetric.\n",
    "\n",
    "    # If b is real and antisymmetric, make it the second argument\n",
    "    if np.max(np.abs(np.add(b, b[::-1]))) < np.finfo(float).eps ** (2 / 3):\n",
    "        p = bp\n",
    "        q = b\n",
    "    else:\n",
    "        p = b\n",
    "        q = bp\n",
    "\n",
    "    return p, q\n",
    "\n",
    "def allpassdecomposition(p, q, a):\n",
    "    # If q is real and antisymmetric, make it imaginary\n",
    "    if np.all(np.isreal(q)):\n",
    "        if np.max(np.abs(np.add(q, q[::-1]))) < np.finfo(float).eps ** (2 / 3):\n",
    "            q = q * 1j\n",
    "\n",
    "    z = np.roots(p - 1j * q)\n",
    "\n",
    "    # Initialize the allpass functions\n",
    "    d1 = np.array([1.0])\n",
    "    d2 = np.array([1.0])\n",
    "\n",
    "    # Separate the zeros inside the unit circle and the ones outside to form the allpass functions\n",
    "    for n in range(len(z)):\n",
    "        if np.abs(z[n]) < 1:\n",
    "            d2 = np.convolve(d2, [1, -z[n]])\n",
    "        else:\n",
    "            d1 = np.convolve(d1, [1, -1 / np.conj(z[n])])\n",
    "\n",
    "    # Remove roundoff imaginary parts\n",
    "#     d1 = imagprune(d1)\n",
    "#     d2 = imagprune(d2)\n",
    "\n",
    "    beta = np.sum(d2) * (np.sum(p) + 1j * np.sum(q)) / np.sum(a) / np.sum(np.conj(d2))\n",
    "\n",
    "    return d1, d2, beta\n",
    "\n",
    "def imagprune(poly):\n",
    "    # Function to remove roundoff imaginary parts\n",
    "    real_part = np.real(poly)\n",
    "    imag_part = np.imag(poly)\n",
    "    imag_part[np.abs(imag_part) < np.finfo(float).eps] = 0\n",
    "    pruned_poly = real_part + imag_part * 1j\n",
    "    return pruned_poly"
   ]
  },
  {
   "cell_type": "code",
   "execution_count": 3,
   "id": "825994ff",
   "metadata": {},
   "outputs": [],
   "source": [
    "def tf2ca(b, a):\n",
    "    bp, a = iirpowcomp(b, a)\n",
    "    p, q = sortnums(b, bp)\n",
    "    d1, d2, beta = allpassdecomposition(p,q,a)\n",
    "    return d1, d2, beta"
   ]
  },
  {
   "cell_type": "code",
   "execution_count": 4,
   "id": "29acc4ac",
   "metadata": {},
   "outputs": [],
   "source": [
    "def LinkwitzRiley12dB(fc, sr):\n",
    "    omega = 2 * pi * fc / sr\n",
    "    \n",
    "    sineOmega = np.sin(omega)\n",
    "    cosineOmega = np.cos(omega)\n",
    "    A0 = 1 + sineOmega + cosineOmega\n",
    "    \n",
    "    A1 = (sineOmega - cosineOmega - 1)\n",
    "    B0 = (sineOmega)\n",
    "    B1 = (sineOmega)\n",
    "    \n",
    "    b_lp = np.convolve([B0, B1], [B0, B1])\n",
    "    a_lp = np.convolve([1, A1], [1, A1])\n",
    "    \n",
    "    A1 = (sineOmega - cosineOmega - 1)\n",
    "    B0 = (1 + cosineOmega)\n",
    "    B1 = -(1 + cosineOmega)\n",
    "    \n",
    "    b_hp = np.convolve([B0, B1], [B0, B1])\n",
    "    a_hp = np.convolve([A0, A1], [A0, A1])\n",
    "    \n",
    "    # two transfer function need to substract to achieve all-pass filter  \n",
    "    return [-b_lp, a_lp], [b_hp, a_hp]\n",
    "\n",
    "def LinkwitzRiley24dB(fc, sr):\n",
    "    omega = 2 * pi * fc / sr\n",
    "    \n",
    "    sineOmega = np.sin(omega)\n",
    "    cosinePmega = np.cos(omega)\n",
    "    alpha = sineOmega * np.sqrt(2) / 2\n",
    "    A0 = 1 + alpha\n",
    "    \n",
    "    A1 = -( 2 * cosinePmega)\n",
    "    A2 = (1 - alpha) \n",
    "    B1 = (1 - cosinePmega) \n",
    "    B0 = B1 / 2\n",
    "    B2 = B0\n",
    "    \n",
    "    b_lp = np.convolve([B0, B1, B2], [B0, B1, B2])\n",
    "    a_lp = np.convolve([A0, A1, A2], [A0, A1, A2])\n",
    "    \n",
    "    A1 = -(2 * cosinePmega) \n",
    "    A2 = (1 - alpha) \n",
    "    B1 = -(1 + cosinePmega) \n",
    "    B0 = -B1 / 2\n",
    "    B2 = B0\n",
    "    \n",
    "    b_hp = np.convolve([B0, B1, B2], [B0, B1, B2])\n",
    "    a_hp = np.convolve([A0, A1, A2], [A0, A1, A2])\n",
    "    \n",
    "    return [b_lp, a_lp], [b_hp, a_hp]"
   ]
  },
  {
   "cell_type": "code",
   "execution_count": 5,
   "id": "84992b7b",
   "metadata": {},
   "outputs": [
    {
     "name": "stdout",
     "output_type": "stream",
     "text": [
      "[ 1.        +0.00000000e+00j -0.50197898-4.68768145e-05j] [ 1.        +0.00000000e+00j -0.50197898+4.68768145e-05j] (-6.242006965383347e-05-1.0000000377113913j)\n"
     ]
    }
   ],
   "source": [
    "LP, HP = LinkwitzRiley12dB(60, 48000)\n",
    "d1, d2, beta = tf2ca(LP[0], LP[1])\n",
    "\n",
    "print(d1, d2, beta)"
   ]
  },
  {
   "cell_type": "code",
   "execution_count": 6,
   "id": "d8776ff1",
   "metadata": {},
   "outputs": [
    {
     "name": "stdout",
     "output_type": "stream",
     "text": [
      "[ 1.        +0.j         -1.76325972-0.04650996j  0.78765907+0.03706894j] [ 1.        +0.j         -1.76325972+0.04650996j  0.78765907-0.03706894j] (0.06653273528487683+1.41256618950328j)\n"
     ]
    }
   ],
   "source": [
    "LP, HP = LinkwitzRiley24dB(1200, 48000)\n",
    "d1, d2, beta = tf2ca(LP[0], LP[1])\n",
    "\n",
    "print(d1, d2, beta)"
   ]
  },
  {
   "cell_type": "code",
   "execution_count": 7,
   "id": "cecb8b8d",
   "metadata": {},
   "outputs": [
    {
     "name": "stdout",
     "output_type": "stream",
     "text": [
      "[ 1.       +0.00000000e+00j -0.9921767-4.26473933e-13j] [ 1.        +0.00000000e+00j -1.99211538+4.34098070e-13j\n",
      "  0.99217682-4.27423721e-13j] (-1.0000000006369814-2.1725183960632963e-10j)\n"
     ]
    }
   ],
   "source": [
    "b = np.array([-6.00862921190370605e-08, -1.80258876357111182e-07, -1.80258876357111182e-07, -6.00862921190370605e-08])\n",
    "a = np.array([1.0, -2.98429207710246303, 2.96870728140036411, -0.984414723607564435])\n",
    "d1, d2, beta = tf2ca(b, a)\n",
    "\n",
    "print(d1, d2, beta)"
   ]
  },
  {
   "cell_type": "code",
   "execution_count": 11,
   "id": "cb6c9224",
   "metadata": {},
   "outputs": [
    {
     "name": "stdout",
     "output_type": "stream",
     "text": [
      "[6.00862904e-08 1.80258878e-07 1.80258878e-07 6.00862904e-08] [-6.00862921e-08 -1.80258876e-07 -1.80258876e-07 -6.00862921e-08]\n",
      "[ 1.         -2.98429208  2.96870728 -0.98441472] [ 1.         -2.98429208  2.96870728 -0.98441472]\n"
     ]
    }
   ],
   "source": [
    "# b, a = signal.cheby1(3, 0.5, 0.4)\n",
    "# d1, d2, beta = tf2ca(b,a)\n",
    "\n",
    "num = 0.5 * np.convolve(d1[::-1].real, d2.real) + 0.5 * np.convolve(d2[::-1].real, d1.real)\n",
    "den = np.convolve(d1.real, d2.real)\n",
    "\n",
    "print(num, b)\n",
    "print(den, a)"
   ]
  },
  {
   "cell_type": "code",
   "execution_count": 9,
   "id": "d3778617",
   "metadata": {},
   "outputs": [
    {
     "data": {
      "image/png": "[encoded data removed]",
      "text/plain": [
       "<Figure size 640x480 with 2 Axes>"
      ]
     },
     "metadata": {},
     "output_type": "display_data"
    }
   ],
   "source": [
    "w, h = signal.freqz(num, den)\n",
    "\n",
    "amplitude = abs(h)\n",
    "angle = np.unwrap(np.angle(h))\n",
    "\n",
    "fig, ax1 = plt.subplots()\n",
    "ax2 = ax1.twinx()\n",
    "\n",
    "plt.title('frequency response of RIR')\n",
    "plt.xlabel(r'normalized frequency (x$\\pi$rad/sample)')\n",
    "\n",
    "ax1.plot(w/max(w), amplitude, 'g')\n",
    "ax1.set_ylabel('amplitude (dB)', color='g')\n",
    "# ax1.set_ylim(-120, 6)\n",
    "ax1.grid()\n",
    "\n",
    "ax2.plot(w/max(w), angle, 'b--')\n",
    "ax2.set_ylabel('phase (radians)', color='b')\n",
    "\n",
    "plt.xscale(\"log\")\n",
    "plt.show()"
   ]
  },
  {
   "cell_type": "code",
   "execution_count": null,
   "id": "83d261c9",
   "metadata": {},
   "outputs": [],
   "source": []
  },
  {
   "cell_type": "code",
   "execution_count": null,
   "id": "bcd155c0",
   "metadata": {},
   "outputs": [],
   "source": []
  }
 ],
 "metadata": {
  "kernelspec": {
   "display_name": "Python 3 (ipykernel)",
   "language": "python",
   "name": "python3"
  },
  "language_info": {
   "codemirror_mode": {
    "name": "ipython",
    "version": 3
   },
   "file_extension": ".py",
   "mimetype": "text/x-python",
   "name": "python",
   "nbconvert_exporter": "python",
   "pygments_lexer": "ipython3",
   "version": "3.7.8"
  }
 },
 "nbformat": 4,
 "nbformat_minor": 5
}
