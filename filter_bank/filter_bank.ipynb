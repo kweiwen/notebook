{
 "cells": [
  {
   "cell_type": "markdown",
   "id": "a78b2632",
   "metadata": {},
   "source": [
    "### Fourier Transform"
   ]
  },
  {
   "cell_type": "markdown",
   "id": "85d39a82",
   "metadata": {},
   "source": [
    "$$\n",
    "\\mathcal{F}\\left\\{ f(x)\\right\\} = \\hat{f}(\\xi)\n",
    "$$"
   ]
  },
  {
   "cell_type": "markdown",
   "id": "c5e87b1d",
   "metadata": {},
   "source": [
    "### Time Domain Shifting"
   ]
  },
  {
   "cell_type": "markdown",
   "id": "64fcdf66",
   "metadata": {},
   "source": [
    "$$\n",
    "\\mathcal{F}\\left\\{ f(x - a) \\right\\} = e^{-2 \\pi i a} \\hat{f}(\\xi) \n",
    "$$"
   ]
  },
  {
   "cell_type": "markdown",
   "id": "4fca153b",
   "metadata": {},
   "source": [
    "### Frequency Domain Shifting"
   ]
  },
  {
   "cell_type": "markdown",
   "id": "1348b5c3",
   "metadata": {},
   "source": [
    "$$\n",
    "\\mathcal{F}\\left\\{ e^{2 \\pi i a}f(x) \\right\\} =  \\hat{f}(\\xi-a) \n",
    "$$"
   ]
  },
  {
   "cell_type": "markdown",
   "id": "912e7462",
   "metadata": {},
   "source": [
    "### Modified Discrete Cosine Transform"
   ]
  },
  {
   "cell_type": "markdown",
   "id": "b59462bb",
   "metadata": {},
   "source": [
    "- Analysis Filter:\n",
    "$$\n",
    "h_k(L-1-n) = h(n)cos(\\frac{\\pi}{N}(k+\\frac{1}{2})(n+\\frac{1}{2}-\\frac{N}{2}))\\sqrt{\\frac{2}{N}}\n",
    "$$\n",
    "- Synthesis Filter:\n",
    "$$\n",
    "g_k(n) = g(n)cos(\\frac{\\pi}{N}(k+\\frac{1}{2})(n+\\frac{1}{2}-\\frac{N}{2}))\\sqrt{\\frac{2}{N}}\n",
    "$$\n",
    "\n",
    "$$\n",
    "\\begin{cases}\n",
    "\\text{ for } & n = 0,\\cdots,2N-1 \\\\\n",
    "\\text{ for } & k = 0,\\cdots,N-1 \\\\\n",
    "\\end{cases}\n",
    "$$\n",
    "\n"
   ]
  },
  {
   "cell_type": "code",
   "execution_count": 1,
   "id": "6a66e71b",
   "metadata": {},
   "outputs": [
    {
     "name": "stdout",
     "output_type": "stream",
     "text": [
      "[  0.5          0.62996052   0.79370053   1.           1.25992105\n",
      "   1.58740105   2.           2.5198421    3.1748021    4.\n",
      "   5.0396842    6.34960421   8.          10.0793684   12.69920842\n",
      "  16.          20.1587368   25.39841683  32.          40.3174736\n",
      "  50.79683366  64.          80.63494719 101.59366733 128.\n",
      " 161.26989439 203.18733465 256.         322.53978877]\n",
      "[  0.5          0.62996052   0.79370053   1.           1.25992105\n",
      "   1.58740105   2.           2.5198421    3.1748021    4.\n",
      "   5.0396842    6.34960421   8.          10.0793684   12.69920842\n",
      "  16.          20.1587368   25.39841683  32.          40.3174736\n",
      "  50.79683366  64.          80.63494719 101.59366733 128.\n",
      " 161.26989439 203.18733465 256.         322.53978877]\n"
     ]
    }
   ],
   "source": [
    "import scipy\n",
    "import numpy as np\n",
    "from scipy import signal\n",
    "from matplotlib import pyplot as plt\n",
    "\n",
    "def butter_bandpass(lowcut, highcut, fs, order=5, label=None):\n",
    "    nyq = 0.5 * fs\n",
    "    low = lowcut / nyq\n",
    "    high = highcut / nyq\n",
    "    sos = signal.butter(order, [low, high], btype='band', output='sos')\n",
    "    w, h = signal.sosfreqz(sos,worN=20000)\n",
    "    plt.plot((fs * 0.5 / np.pi) * w, abs(h), label=label)\n",
    "    return sos\n",
    "\n",
    "center_freqs = np.array([0.5 * 2 ** (n * 1 / 3.) for n in range(0, 29)])\n",
    "print(center_freqs)\n",
    "center_freqs.sort()\n",
    "print(center_freqs)\n",
    "# lower_freqs = 2. ** (-1 / 6.) * center_freqs\n",
    "\n",
    "# for lf in lower_freqs:\n",
    "#     butter_bandpass(lf, lf*2**(1/3.), fs=48000, order=5)\n",
    "\n",
    "# # plt.xlim(20,24000)\n",
    "# plt.show()"
   ]
  },
  {
   "cell_type": "code",
   "execution_count": 2,
   "id": "12c7c1e5",
   "metadata": {},
   "outputs": [
    {
     "data": {
      "image/png": "[encoded data removed]",
      "text/plain": [
       "<Figure size 432x288 with 2 Axes>"
      ]
     },
     "metadata": {
      "needs_background": "light"
     },
     "output_type": "display_data"
    }
   ],
   "source": [
    "b = [0.5]\n",
    "a = [1, -0.5]\n",
    "\n",
    "w, h = signal.freqz(b, a)\n",
    "\n",
    "# amplitude = 20 * np.log10(abs(h))\n",
    "amplitude = abs(h)\n",
    "angle = np.unwrap(np.angle(h))\n",
    "\n",
    "fig, ax1 = plt.subplots()\n",
    "ax2 = ax1.twinx()\n",
    "\n",
    "plt.title('frequency response of RIR')\n",
    "plt.xlabel(r'normalized frequency (x$\\pi$rad/sample)')\n",
    "\n",
    "ax1.plot(w/max(w), amplitude, 'g')\n",
    "ax1.set_ylabel('amplitude (dB)', color='g')\n",
    "# ax1.set_ylim(-120, 6)\n",
    "ax1.grid()\n",
    "\n",
    "ax2.plot(w/max(w), angle, 'b--')\n",
    "ax2.set_ylabel('phase (radians)', color='b')\n",
    "\n",
    "# plt.xscale(\"log\")\n",
    "plt.show()"
   ]
  },
  {
   "cell_type": "code",
   "execution_count": 3,
   "id": "c47b2b4c",
   "metadata": {},
   "outputs": [
    {
     "name": "stdout",
     "output_type": "stream",
     "text": [
      "0.752937760164676\n"
     ]
    }
   ],
   "source": [
    "fc = 0.2\n",
    "\n",
    "A = 0.5\n",
    "B = np.sqrt((np.cos(fc * np.pi) - 0.5) ** 2 + np.sin(fc * np.pi) ** 2)\n",
    "\n",
    "print(A/B)"
   ]
  },
  {
   "cell_type": "code",
   "execution_count": 4,
   "id": "432833dc",
   "metadata": {},
   "outputs": [],
   "source": [
    "A = 0.5 + 0j\n",
    "B = 1 - 0.5 * np.exp(-np.pi * 1j * fc)\n",
    "H = A / B"
   ]
  },
  {
   "cell_type": "code",
   "execution_count": 5,
   "id": "314b7ecd",
   "metadata": {},
   "outputs": [
    {
     "data": {
      "text/plain": [
       "0.752937760164676"
      ]
     },
     "execution_count": 5,
     "metadata": {},
     "output_type": "execute_result"
    }
   ],
   "source": [
    "abs(H)"
   ]
  },
  {
   "cell_type": "code",
   "execution_count": 18,
   "id": "d53cd13d",
   "metadata": {},
   "outputs": [
    {
     "name": "stdout",
     "output_type": "stream",
     "text": [
      "-0.4935295042131951\n",
      "-0.45845782665894885\n"
     ]
    }
   ],
   "source": [
    "print(H.imag/H.real)\n",
    "print(np.arctan(H.imag/H.real))"
   ]
  },
  {
   "cell_type": "code",
   "execution_count": 20,
   "id": "c965883f",
   "metadata": {},
   "outputs": [
    {
     "data": {
      "text/plain": [
       "-0.4584578266589488"
      ]
     },
     "execution_count": 20,
     "metadata": {},
     "output_type": "execute_result"
    }
   ],
   "source": [
    "np.angle(H)"
   ]
  },
  {
   "cell_type": "code",
   "execution_count": 23,
   "id": "eba925e5",
   "metadata": {},
   "outputs": [
    {
     "data": {
      "text/plain": [
       "45.0"
      ]
     },
     "execution_count": 23,
     "metadata": {},
     "output_type": "execute_result"
    }
   ],
   "source": [
    "np.angle(1+1j, deg=True)"
   ]
  },
  {
   "cell_type": "code",
   "execution_count": null,
   "id": "b9b1e7d8",
   "metadata": {},
   "outputs": [],
   "source": []
  }
 ],
 "metadata": {
  "kernelspec": {
   "display_name": "Python 3",
   "language": "python",
   "name": "python3"
  },
  "language_info": {
   "codemirror_mode": {
    "name": "ipython",
    "version": 3
   },
   "file_extension": ".py",
   "mimetype": "text/x-python",
   "name": "python",
   "nbconvert_exporter": "python",
   "pygments_lexer": "ipython3",
   "version": "3.10.2"
  }
 },
 "nbformat": 4,
 "nbformat_minor": 5
}
