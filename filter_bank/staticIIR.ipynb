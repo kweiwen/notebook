{
 "cells": [
  {
   "cell_type": "code",
   "execution_count": 1,
   "id": "cd829269-1f1a-4fc4-a508-4237dc6d34e8",
   "metadata": {
    "editable": true,
    "slideshow": {
     "slide_type": ""
    },
    "tags": []
   },
   "outputs": [],
   "source": [
    "#include \"iir.h\"\n",
    "#include \"allpass.h\""
   ]
  },
  {
   "cell_type": "code",
   "execution_count": 2,
   "id": "9e103a7b-72da-4d14-a96b-ae9c2d73c17c",
   "metadata": {},
   "outputs": [
    {
     "name": "stdout",
     "output_type": "stream",
     "text": [
      "6.000000\n",
      "-0.400000\n",
      "-0.500000\n",
      "-0.600000\n",
      "-0.700000\n",
      "-0.800000\n",
      "41.100000\n",
      "-38.800000\n",
      "-1.100000\n",
      "-1.200000\n"
     ]
    }
   ],
   "source": [
    "void iir_test()\n",
    "{\n",
    "    double b[] = {6.0, 5.0, 4.0, 3.0, 2.0, 1.0};\n",
    "    double a[] = {1.0, 2.0, 3.0, 4.0, 5.0, 6.0};\n",
    "    double coef_b[11];\n",
    "    double coef_a[9];\n",
    "    double x[6];\n",
    "    double y[5];\n",
    "    iir bw;\n",
    "    init_iir(&bw, b, a, 6, 6, coef_b, coef_a, x, y);\n",
    "    printf(\"%f\\n\", process_iir(&bw, 1.0));\n",
    "    printf(\"%f\\n\", process_iir(&bw, 1.1));\n",
    "    printf(\"%f\\n\", process_iir(&bw, 1.2));\n",
    "    printf(\"%f\\n\", process_iir(&bw, 1.3));\n",
    "    printf(\"%f\\n\", process_iir(&bw, 1.4));\n",
    "    printf(\"%f\\n\", process_iir(&bw, 1.5));\n",
    "    printf(\"%f\\n\", process_iir(&bw, 1.6));\n",
    "    printf(\"%f\\n\", process_iir(&bw, 1.7));\n",
    "    printf(\"%f\\n\", process_iir(&bw, 1.8));\n",
    "    printf(\"%f\\n\", process_iir(&bw, 1.9));\n",
    "}\n",
    "\n",
    "iir_test();"
   ]
  },
  {
   "cell_type": "code",
   "execution_count": 3,
   "id": "44b439b3-cf0d-41db-a4e7-713cbc983667",
   "metadata": {},
   "outputs": [
    {
     "name": "stdout",
     "output_type": "stream",
     "text": [
      "0.000002 0.000002\n",
      "0.000025 0.000025\n",
      "0.000127 0.000127\n",
      "0.000588 0.000588\n",
      "0.002659 0.002659\n",
      "0.011963 0.011963\n",
      "0.053758 0.053758\n",
      "0.241496 0.241496\n",
      "1.084785 1.084785\n",
      "4.872695 4.872695\n",
      "21.887352 21.887352\n",
      "98.314326 98.314327\n",
      "441.611373 441.611375\n",
      "1983.643672 1983.643682\n"
     ]
    }
   ],
   "source": [
    "void dual_iir_test()\n",
    "{\n",
    "    double b[] = {2.340991493085531e-06, 1.170495746542766e-05, 2.340991493085531e-05, 2.340991493085531e-05, 1.170495746542766e-05, 2.340991493085531e-06};\n",
    "    double a[] = {1.0, -4.491830965077048, 8.094055417826650, -7.312081280150386, 3.311047561988401, -0.601115822859839};\n",
    "    // double b[] = {2.0, 1.0};\n",
    "    // double a[] = {1.0, 2.0};\n",
    "    \n",
    "    double coef_b_L[11];\n",
    "    double coef_a_L[9];\n",
    "    double coef_b_R[11];\n",
    "    double coef_a_R[9];\n",
    "    \n",
    "    double x_L[6];\n",
    "    double y_L[5];\n",
    "    double x_R[6];\n",
    "    double y_R[5];\n",
    "    dual_iir inst;\n",
    "    init_dual_iir(&inst, b, a, 2, 2, coef_b_L, coef_a_L, x_L, y_L, coef_b_R, coef_a_R, x_R, y_R);\n",
    "    process_dual_iir(&inst, 1.0, 1.0f);\n",
    "    printf(\"%lf %lf\\n\", inst.L.filtered, inst.R.filtered);\n",
    "    process_dual_iir(&inst, 1.1, 1.1f);\n",
    "    printf(\"%lf %lf\\n\", inst.L.filtered, inst.R.filtered);\n",
    "    process_dual_iir(&inst, 1.2, 1.2f);\n",
    "    printf(\"%lf %lf\\n\", inst.L.filtered, inst.R.filtered);\n",
    "    process_dual_iir(&inst, 1.3, 1.3f);\n",
    "    printf(\"%lf %lf\\n\", inst.L.filtered, inst.R.filtered);\n",
    "    process_dual_iir(&inst, 1.4, 1.4f);\n",
    "    printf(\"%lf %lf\\n\", inst.L.filtered, inst.R.filtered);\n",
    "    process_dual_iir(&inst, 1.5, 1.5f);\n",
    "    printf(\"%lf %lf\\n\", inst.L.filtered, inst.R.filtered);\n",
    "    process_dual_iir(&inst, 1.6, 1.6f);\n",
    "    printf(\"%lf %lf\\n\", inst.L.filtered, inst.R.filtered);\n",
    "    process_dual_iir(&inst, 1.7, 1.7f);\n",
    "    printf(\"%lf %lf\\n\", inst.L.filtered, inst.R.filtered);\n",
    "    process_dual_iir(&inst, 1.8, 1.8f);\n",
    "    printf(\"%lf %lf\\n\", inst.L.filtered, inst.R.filtered);\n",
    "    process_dual_iir(&inst, 1.9, 1.9f);\n",
    "    printf(\"%lf %lf\\n\", inst.L.filtered, inst.R.filtered);\n",
    "    process_dual_iir(&inst, 2.9, 2.9f);\n",
    "    printf(\"%lf %lf\\n\", inst.L.filtered, inst.R.filtered);\n",
    "    process_dual_iir(&inst, 2.8, 2.8f);\n",
    "    printf(\"%lf %lf\\n\", inst.L.filtered, inst.R.filtered);\n",
    "    process_dual_iir(&inst, 2.7, 2.7f);\n",
    "    printf(\"%lf %lf\\n\", inst.L.filtered, inst.R.filtered);\n",
    "    process_dual_iir(&inst, 0.0, 0.0);\n",
    "    printf(\"%lf %lf\\n\", inst.L.filtered, inst.R.filtered);\n",
    "}\n",
    "\n",
    "dual_iir_test();"
   ]
  },
  {
   "cell_type": "code",
   "execution_count": 4,
   "id": "c631134c-d835-449b-a7a7-6a7a132563a8",
   "metadata": {},
   "outputs": [
    {
     "name": "stdout",
     "output_type": "stream",
     "text": [
      "2.000000\n",
      "-0.800000\n",
      "5.100000\n",
      "-6.400000\n",
      "16.900000\n",
      "-29.400000\n",
      "63.500000\n",
      "-122.000000\n",
      "249.300000\n",
      "-493.000000\n",
      "993.700000\n",
      "-1978.900000\n",
      "3966.000000\n",
      "-7929.300000\n"
     ]
    }
   ],
   "source": [
    "void allpass_test()\n",
    "{\n",
    "    iir inst;\n",
    "    double a[] = {1.0, 2.0};\n",
    "    double x[2];\n",
    "    double y[2];\n",
    "    init_allpass(&inst, 2, a, x, y);\n",
    "    \n",
    "    printf(\"%f\\n\", process_allpass(&inst, 1.0));\n",
    "    printf(\"%f\\n\", process_allpass(&inst, 1.1));\n",
    "    printf(\"%f\\n\", process_allpass(&inst, 1.2));\n",
    "    printf(\"%f\\n\", process_allpass(&inst, 1.3));\n",
    "    printf(\"%f\\n\", process_allpass(&inst, 1.4));\n",
    "    printf(\"%f\\n\", process_allpass(&inst, 1.5));\n",
    "    printf(\"%f\\n\", process_allpass(&inst, 1.6));\n",
    "    printf(\"%f\\n\", process_allpass(&inst, 1.7));\n",
    "    printf(\"%f\\n\", process_allpass(&inst, 1.8));\n",
    "    printf(\"%f\\n\", process_allpass(&inst, 1.9));\n",
    "    printf(\"%f\\n\", process_allpass(&inst, 2.9));\n",
    "    printf(\"%f\\n\", process_allpass(&inst, 2.8));\n",
    "    printf(\"%f\\n\", process_allpass(&inst, 2.7));\n",
    "    printf(\"%f\\n\", process_allpass(&inst, 0.0));\n",
    "}\n",
    "\n",
    "allpass_test();"
   ]
  },
  {
   "cell_type": "code",
   "execution_count": 5,
   "id": "acb02f9b-2851-44c4-bb95-e2852ac4614c",
   "metadata": {},
   "outputs": [
    {
     "name": "stdout",
     "output_type": "stream",
     "text": [
      "0.000007 0.961489\n",
      "0.000051 0.982127\n",
      "0.000183 0.998209\n",
      "0.000464 1.009973\n",
      "0.000953 1.017651\n",
      "0.001712 1.021471\n",
      "0.002804 1.021654\n",
      "0.004290 1.018413\n",
      "0.006231 1.011958\n",
      "0.008689 1.002492\n"
     ]
    }
   ],
   "source": [
    "void coupled_allpass_test()\n",
    "{\n",
    "    coupled_allpass inst;\n",
    "    double d1[] = { 1.0, -1.9599837715993710940409755494329147040843963623046875, 0.9614960139400998695435873742098920047283172607421875 };\n",
    "    double d2[] = { 1.0, -0.961481451595149305688892127363942563533782958984375 };\n",
    "    double x1[3];\n",
    "    double y1[3];\n",
    "    double x2[2];\n",
    "    double y2[2];\n",
    "    init_coupled_allpass(&inst, 3, d1, 2, d2, x1, y1, x2, y2);\n",
    "    \n",
    "    process_coupled_allpass(&inst, 1.0); printf(\"%f %f\\n\", inst.pos, inst.neg);\n",
    "    process_coupled_allpass(&inst, 1.1); printf(\"%f %f\\n\", inst.pos, inst.neg);\n",
    "    process_coupled_allpass(&inst, 1.2); printf(\"%f %f\\n\", inst.pos, inst.neg);\n",
    "    process_coupled_allpass(&inst, 1.3); printf(\"%f %f\\n\", inst.pos, inst.neg);\n",
    "    process_coupled_allpass(&inst, 1.4); printf(\"%f %f\\n\", inst.pos, inst.neg);\n",
    "    process_coupled_allpass(&inst, 1.5); printf(\"%f %f\\n\", inst.pos, inst.neg);\n",
    "    process_coupled_allpass(&inst, 1.6); printf(\"%f %f\\n\", inst.pos, inst.neg);\n",
    "    process_coupled_allpass(&inst, 1.7); printf(\"%f %f\\n\", inst.pos, inst.neg);\n",
    "    process_coupled_allpass(&inst, 1.8); printf(\"%f %f\\n\", inst.pos, inst.neg);\n",
    "    process_coupled_allpass(&inst, 1.9); printf(\"%f %f\\n\", inst.pos, inst.neg);\n",
    "}\n",
    "\n",
    "coupled_allpass_test();"
   ]
  },
  {
   "cell_type": "code",
   "execution_count": 6,
   "id": "ab6ff7ca-ca21-4070-b30c-3fbea210ef72",
   "metadata": {},
   "outputs": [
    {
     "name": "stdout",
     "output_type": "stream",
     "text": [
      "0.000007 0.961489 0.000014 1.826829\n",
      "0.000051 0.982127 0.000095 1.587210\n",
      "0.000183 0.998209 0.000331 1.360832\n",
      "0.000464 1.009973 0.000813 1.147279\n",
      "0.000953 1.017651 0.001615 0.946143\n",
      "0.001712 1.021471 0.002801 0.757021\n",
      "0.002804 1.021654 0.004424 0.579518\n",
      "0.004290 1.018413 0.006524 0.413244\n",
      "0.006231 1.011958 0.009130 0.257814\n",
      "0.008689 1.002492 0.012265 0.112851\n"
     ]
    }
   ],
   "source": [
    "void stereo_coupled_allpass_test()\n",
    "{\n",
    "    stereo_coupled_allpass inst;\n",
    "    double d1[] = { 1.0, -1.9599837715993710940409755494329147040843963623046875, 0.9614960139400998695435873742098920047283172607421875 };\n",
    "    double d2[] = { 1.0, -0.961481451595149305688892127363942563533782958984375 };\n",
    "    \n",
    "    double h1xL[3];\n",
    "    double h1yL[3];\n",
    "    double h1xR[3];\n",
    "    double h1yR[3];\n",
    "    \n",
    "    double h2xL[2];\n",
    "    double h2yL[2];\n",
    "    double h2xR[2];\n",
    "    double h2yR[2];\n",
    "\n",
    "    init_stereo_coupled_allpass(&inst, 3, d1, 2, d2, h1xL, h1yL, h2xL, h2yL, h1xR, h1yR, h2xR, h2yR);\n",
    "    process_stereo_coupled_allpass(&inst, 1.0, 1.9); printf(\"%f %f %f %f\\n\", inst.L.pos, inst.L.neg, inst.R.pos, inst.R.neg);\n",
    "    process_stereo_coupled_allpass(&inst, 1.1, 1.8); printf(\"%f %f %f %f\\n\", inst.L.pos, inst.L.neg, inst.R.pos, inst.R.neg);\n",
    "    process_stereo_coupled_allpass(&inst, 1.2, 1.7); printf(\"%f %f %f %f\\n\", inst.L.pos, inst.L.neg, inst.R.pos, inst.R.neg);\n",
    "    process_stereo_coupled_allpass(&inst, 1.3, 1.6); printf(\"%f %f %f %f\\n\", inst.L.pos, inst.L.neg, inst.R.pos, inst.R.neg);\n",
    "    process_stereo_coupled_allpass(&inst, 1.4, 1.5); printf(\"%f %f %f %f\\n\", inst.L.pos, inst.L.neg, inst.R.pos, inst.R.neg);\n",
    "    process_stereo_coupled_allpass(&inst, 1.5, 1.4); printf(\"%f %f %f %f\\n\", inst.L.pos, inst.L.neg, inst.R.pos, inst.R.neg);\n",
    "    process_stereo_coupled_allpass(&inst, 1.6, 1.3); printf(\"%f %f %f %f\\n\", inst.L.pos, inst.L.neg, inst.R.pos, inst.R.neg);\n",
    "    process_stereo_coupled_allpass(&inst, 1.7, 1.2); printf(\"%f %f %f %f\\n\", inst.L.pos, inst.L.neg, inst.R.pos, inst.R.neg);\n",
    "    process_stereo_coupled_allpass(&inst, 1.8, 1.1); printf(\"%f %f %f %f\\n\", inst.L.pos, inst.L.neg, inst.R.pos, inst.R.neg);\n",
    "    process_stereo_coupled_allpass(&inst, 1.9, 1.0); printf(\"%f %f %f %f\\n\", inst.L.pos, inst.L.neg, inst.R.pos, inst.R.neg);       \n",
    "}\n",
    "\n",
    "stereo_coupled_allpass_test();"
   ]
  }
 ],
 "metadata": {
  "kernelspec": {
   "display_name": "C++11",
   "language": "C++11",
   "name": "xcpp11"
  },
  "language_info": {
   "codemirror_mode": "text/x-c++src",
   "file_extension": ".cpp",
   "mimetype": "text/x-c++src",
   "name": "c++",
   "version": "11"
  }
 },
 "nbformat": 4,
 "nbformat_minor": 5
}
