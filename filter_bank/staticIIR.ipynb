{
 "cells": [
  {
   "cell_type": "code",
   "execution_count": 1,
   "id": "cd829269-1f1a-4fc4-a508-4237dc6d34e8",
   "metadata": {
    "editable": true,
    "slideshow": {
     "slide_type": ""
    },
    "tags": []
   },
   "outputs": [],
   "source": [
    "#include \"iir.h\"\n",
    "#include \"allpass.h\""
   ]
  },
  {
   "cell_type": "code",
   "execution_count": 2,
   "id": "9e103a7b-72da-4d14-a96b-ae9c2d73c17c",
   "metadata": {},
   "outputs": [
    {
     "name": "stdout",
     "output_type": "stream",
     "text": [
      "6.000000\n",
      "-0.400000\n",
      "-0.500000\n",
      "-0.600000\n",
      "-0.700000\n",
      "-0.800000\n",
      "41.100000\n",
      "-38.800000\n",
      "-1.100000\n",
      "-1.200000\n"
     ]
    }
   ],
   "source": [
    "void iir_test()\n",
    "{\n",
    "    double b[] = {6.0, 5.0, 4.0, 3.0, 2.0, 1.0};\n",
    "    double a[] = {1.0, 2.0, 3.0, 4.0, 5.0, 6.0};\n",
    "    double coef_b[11];\n",
    "    double coef_a[9];\n",
    "    double x[6];\n",
    "    double y[5];\n",
    "    iir bw;\n",
    "    init_iir(&bw, b, a, 6, 6, coef_b, coef_a, x, y);\n",
    "    printf(\"%f\\n\", process_iir(&bw, 1.0));\n",
    "    printf(\"%f\\n\", process_iir(&bw, 1.1));\n",
    "    printf(\"%f\\n\", process_iir(&bw, 1.2));\n",
    "    printf(\"%f\\n\", process_iir(&bw, 1.3));\n",
    "    printf(\"%f\\n\", process_iir(&bw, 1.4));\n",
    "    printf(\"%f\\n\", process_iir(&bw, 1.5));\n",
    "    printf(\"%f\\n\", process_iir(&bw, 1.6));\n",
    "    printf(\"%f\\n\", process_iir(&bw, 1.7));\n",
    "    printf(\"%f\\n\", process_iir(&bw, 1.8));\n",
    "    printf(\"%f\\n\", process_iir(&bw, 1.9));\n",
    "}\n",
    "\n",
    "iir_test();"
   ]
  },
  {
   "cell_type": "code",
   "execution_count": 3,
   "id": "44b439b3-cf0d-41db-a4e7-713cbc983667",
   "metadata": {},
   "outputs": [
    {
     "name": "stdout",
     "output_type": "stream",
     "text": [
      "0.000002 0.000002\n",
      "0.000025 0.000025\n",
      "0.000127 0.000127\n",
      "0.000588 0.000588\n",
      "0.002659 0.002659\n",
      "0.011963 0.011963\n",
      "0.053758 0.053758\n",
      "0.241496 0.241496\n",
      "1.084785 1.084785\n",
      "4.872695 4.872695\n",
      "21.887352 21.887352\n",
      "98.314326 98.314327\n",
      "441.611373 441.611375\n",
      "1983.643672 1983.643682\n"
     ]
    }
   ],
   "source": [
    "void dual_iir_test()\n",
    "{\n",
    "    double b[] = {2.340991493085531e-06, 1.170495746542766e-05, 2.340991493085531e-05, 2.340991493085531e-05, 1.170495746542766e-05, 2.340991493085531e-06};\n",
    "    double a[] = {1.0, -4.491830965077048, 8.094055417826650, -7.312081280150386, 3.311047561988401, -0.601115822859839};\n",
    "    // double b[] = {2.0, 1.0};\n",
    "    // double a[] = {1.0, 2.0};\n",
    "    \n",
    "    double coef_b_L[11];\n",
    "    double coef_a_L[9];\n",
    "    double coef_b_R[11];\n",
    "    double coef_a_R[9];\n",
    "    \n",
    "    double x_L[6];\n",
    "    double y_L[5];\n",
    "    double x_R[6];\n",
    "    double y_R[5];\n",
    "    dual_iir inst;\n",
    "    init_dual_iir(&inst, b, a, 2, 2, coef_b_L, coef_a_L, x_L, y_L, coef_b_R, coef_a_R, x_R, y_R);\n",
    "    process_dual_iir(&inst, 1.0, 1.0f);\n",
    "    printf(\"%lf %lf\\n\", inst.L.filtered, inst.R.filtered);\n",
    "    process_dual_iir(&inst, 1.1, 1.1f);\n",
    "    printf(\"%lf %lf\\n\", inst.L.filtered, inst.R.filtered);\n",
    "    process_dual_iir(&inst, 1.2, 1.2f);\n",
    "    printf(\"%lf %lf\\n\", inst.L.filtered, inst.R.filtered);\n",
    "    process_dual_iir(&inst, 1.3, 1.3f);\n",
    "    printf(\"%lf %lf\\n\", inst.L.filtered, inst.R.filtered);\n",
    "    process_dual_iir(&inst, 1.4, 1.4f);\n",
    "    printf(\"%lf %lf\\n\", inst.L.filtered, inst.R.filtered);\n",
    "    process_dual_iir(&inst, 1.5, 1.5f);\n",
    "    printf(\"%lf %lf\\n\", inst.L.filtered, inst.R.filtered);\n",
    "    process_dual_iir(&inst, 1.6, 1.6f);\n",
    "    printf(\"%lf %lf\\n\", inst.L.filtered, inst.R.filtered);\n",
    "    process_dual_iir(&inst, 1.7, 1.7f);\n",
    "    printf(\"%lf %lf\\n\", inst.L.filtered, inst.R.filtered);\n",
    "    process_dual_iir(&inst, 1.8, 1.8f);\n",
    "    printf(\"%lf %lf\\n\", inst.L.filtered, inst.R.filtered);\n",
    "    process_dual_iir(&inst, 1.9, 1.9f);\n",
    "    printf(\"%lf %lf\\n\", inst.L.filtered, inst.R.filtered);\n",
    "    process_dual_iir(&inst, 2.9, 2.9f);\n",
    "    printf(\"%lf %lf\\n\", inst.L.filtered, inst.R.filtered);\n",
    "    process_dual_iir(&inst, 2.8, 2.8f);\n",
    "    printf(\"%lf %lf\\n\", inst.L.filtered, inst.R.filtered);\n",
    "    process_dual_iir(&inst, 2.7, 2.7f);\n",
    "    printf(\"%lf %lf\\n\", inst.L.filtered, inst.R.filtered);\n",
    "    process_dual_iir(&inst, 0.0, 0.0);\n",
    "    printf(\"%lf %lf\\n\", inst.L.filtered, inst.R.filtered);\n",
    "}\n",
    "\n",
    "dual_iir_test();"
   ]
  },
  {
   "cell_type": "code",
   "execution_count": 4,
   "id": "c631134c-d835-449b-a7a7-6a7a132563a8",
   "metadata": {},
   "outputs": [
    {
     "name": "stdout",
     "output_type": "stream",
     "text": [
      "2.000000\n",
      "-0.800000\n",
      "5.100000\n",
      "-6.400000\n",
      "16.900000\n",
      "-29.400000\n",
      "63.500000\n",
      "-122.000000\n",
      "249.300000\n",
      "-493.000000\n",
      "993.700000\n",
      "-1978.900000\n",
      "3966.000000\n",
      "-7929.300000\n"
     ]
    }
   ],
   "source": [
    "void allpass_test()\n",
    "{\n",
    "    iir inst;\n",
    "    double a[] = {1.0, 2.0};\n",
    "    double x[2];\n",
    "    double y[2];\n",
    "    init_allpass(&inst, 2, a, x, y);\n",
    "    \n",
    "    printf(\"%f\\n\", process_allpass(&inst, 1.0));\n",
    "    printf(\"%f\\n\", process_allpass(&inst, 1.1));\n",
    "    printf(\"%f\\n\", process_allpass(&inst, 1.2));\n",
    "    printf(\"%f\\n\", process_allpass(&inst, 1.3));\n",
    "    printf(\"%f\\n\", process_allpass(&inst, 1.4));\n",
    "    printf(\"%f\\n\", process_allpass(&inst, 1.5));\n",
    "    printf(\"%f\\n\", process_allpass(&inst, 1.6));\n",
    "    printf(\"%f\\n\", process_allpass(&inst, 1.7));\n",
    "    printf(\"%f\\n\", process_allpass(&inst, 1.8));\n",
    "    printf(\"%f\\n\", process_allpass(&inst, 1.9));\n",
    "    printf(\"%f\\n\", process_allpass(&inst, 2.9));\n",
    "    printf(\"%f\\n\", process_allpass(&inst, 2.8));\n",
    "    printf(\"%f\\n\", process_allpass(&inst, 2.7));\n",
    "    printf(\"%f\\n\", process_allpass(&inst, 0.0));\n",
    "}\n",
    "\n",
    "allpass_test();"
   ]
  },
  {
   "cell_type": "code",
   "execution_count": 5,
   "id": "acb02f9b-2851-44c4-bb95-e2852ac4614c",
   "metadata": {},
   "outputs": [
    {
     "name": "stdout",
     "output_type": "stream",
     "text": [
      "0.000007 0.961489\n",
      "0.000051 0.982127\n",
      "0.000183 0.998209\n",
      "0.000464 1.009973\n",
      "0.000953 1.017651\n",
      "0.001712 1.021471\n",
      "0.002804 1.021654\n",
      "0.004290 1.018413\n",
      "0.006231 1.011958\n",
      "0.008689 1.002492\n"
     ]
    }
   ],
   "source": [
    "void coupled_allpass_test()\n",
    "{\n",
    "    coupled_allpass inst;\n",
    "    double d1[] = { 1.0, -1.9599837715993710940409755494329147040843963623046875, 0.9614960139400998695435873742098920047283172607421875 };\n",
    "    double d2[] = { 1.0, -0.961481451595149305688892127363942563533782958984375 };\n",
    "    double x1[3];\n",
    "    double y1[3];\n",
    "    double x2[2];\n",
    "    double y2[2];\n",
    "    init_coupled_allpass(&inst, 3, d1, 2, d2, x1, y1, x2, y2);\n",
    "    \n",
    "    process_coupled_allpass(&inst, 1.0); printf(\"%f %f\\n\", inst.pos, inst.neg);\n",
    "    process_coupled_allpass(&inst, 1.1); printf(\"%f %f\\n\", inst.pos, inst.neg);\n",
    "    process_coupled_allpass(&inst, 1.2); printf(\"%f %f\\n\", inst.pos, inst.neg);\n",
    "    process_coupled_allpass(&inst, 1.3); printf(\"%f %f\\n\", inst.pos, inst.neg);\n",
    "    process_coupled_allpass(&inst, 1.4); printf(\"%f %f\\n\", inst.pos, inst.neg);\n",
    "    process_coupled_allpass(&inst, 1.5); printf(\"%f %f\\n\", inst.pos, inst.neg);\n",
    "    process_coupled_allpass(&inst, 1.6); printf(\"%f %f\\n\", inst.pos, inst.neg);\n",
    "    process_coupled_allpass(&inst, 1.7); printf(\"%f %f\\n\", inst.pos, inst.neg);\n",
    "    process_coupled_allpass(&inst, 1.8); printf(\"%f %f\\n\", inst.pos, inst.neg);\n",
    "    process_coupled_allpass(&inst, 1.9); printf(\"%f %f\\n\", inst.pos, inst.neg);\n",
    "}\n",
    "\n",
    "coupled_allpass_test();"
   ]
  },
  {
   "cell_type": "code",
   "execution_count": 6,
   "id": "ab6ff7ca-ca21-4070-b30c-3fbea210ef72",
   "metadata": {},
   "outputs": [
    {
     "name": "stdout",
     "output_type": "stream",
     "text": [
      "0.000007 0.961489 0.000014 1.826829\n",
      "0.000051 0.982127 0.000095 1.587210\n",
      "0.000183 0.998209 0.000331 1.360832\n",
      "0.000464 1.009973 0.000813 1.147279\n",
      "0.000953 1.017651 0.001615 0.946143\n",
      "0.001712 1.021471 0.002801 0.757021\n",
      "0.002804 1.021654 0.004424 0.579518\n",
      "0.004290 1.018413 0.006524 0.413244\n",
      "0.006231 1.011958 0.009130 0.257814\n",
      "0.008689 1.002492 0.012265 0.112851\n"
     ]
    }
   ],
   "source": [
    "void stereo_coupled_allpass_test()\n",
    "{\n",
    "    stereo_coupled_allpass inst;\n",
    "    double d1[] = { 1.0, -1.9599837715993710940409755494329147040843963623046875, 0.9614960139400998695435873742098920047283172607421875 };\n",
    "    double d2[] = { 1.0, -0.961481451595149305688892127363942563533782958984375 };\n",
    "    \n",
    "    double h1xL[3];\n",
    "    double h1yL[3];\n",
    "    double h1xR[3];\n",
    "    double h1yR[3];\n",
    "    \n",
    "    double h2xL[2];\n",
    "    double h2yL[2];\n",
    "    double h2xR[2];\n",
    "    double h2yR[2];\n",
    "\n",
    "    init_stereo_coupled_allpass(&inst, 3, d1, 2, d2, h1xL, h1yL, h2xL, h2yL, h1xR, h1yR, h2xR, h2yR);\n",
    "    process_stereo_coupled_allpass(&inst, 1.0, 1.9); printf(\"%f %f %f %f\\n\", inst.L.pos, inst.L.neg, inst.R.pos, inst.R.neg);\n",
    "    process_stereo_coupled_allpass(&inst, 1.1, 1.8); printf(\"%f %f %f %f\\n\", inst.L.pos, inst.L.neg, inst.R.pos, inst.R.neg);\n",
    "    process_stereo_coupled_allpass(&inst, 1.2, 1.7); printf(\"%f %f %f %f\\n\", inst.L.pos, inst.L.neg, inst.R.pos, inst.R.neg);\n",
    "    process_stereo_coupled_allpass(&inst, 1.3, 1.6); printf(\"%f %f %f %f\\n\", inst.L.pos, inst.L.neg, inst.R.pos, inst.R.neg);\n",
    "    process_stereo_coupled_allpass(&inst, 1.4, 1.5); printf(\"%f %f %f %f\\n\", inst.L.pos, inst.L.neg, inst.R.pos, inst.R.neg);\n",
    "    process_stereo_coupled_allpass(&inst, 1.5, 1.4); printf(\"%f %f %f %f\\n\", inst.L.pos, inst.L.neg, inst.R.pos, inst.R.neg);\n",
    "    process_stereo_coupled_allpass(&inst, 1.6, 1.3); printf(\"%f %f %f %f\\n\", inst.L.pos, inst.L.neg, inst.R.pos, inst.R.neg);\n",
    "    process_stereo_coupled_allpass(&inst, 1.7, 1.2); printf(\"%f %f %f %f\\n\", inst.L.pos, inst.L.neg, inst.R.pos, inst.R.neg);\n",
    "    process_stereo_coupled_allpass(&inst, 1.8, 1.1); printf(\"%f %f %f %f\\n\", inst.L.pos, inst.L.neg, inst.R.pos, inst.R.neg);\n",
    "    process_stereo_coupled_allpass(&inst, 1.9, 1.0); printf(\"%f %f %f %f\\n\", inst.L.pos, inst.L.neg, inst.R.pos, inst.R.neg);       \n",
    "}\n",
    "\n",
    "stereo_coupled_allpass_test();"
   ]
  },
  {
   "cell_type": "code",
   "execution_count": 7,
   "id": "60b3c84d-c90c-481b-b45a-1e8200551d71",
   "metadata": {},
   "outputs": [],
   "source": [
    "void stereo_filterbank_test()\n",
    "{\n",
    "    typedef struct f_ \n",
    "    {\n",
    "        stereo_coupled_allpass inst;\n",
    "        double *d1;\n",
    "        int d1_size;\n",
    "        double *d2;\n",
    "        int d2_size;\n",
    "        double h1xL[3];\n",
    "        double h1yL[3];\n",
    "        double h1xR[3];\n",
    "        double h1yR[3];\n",
    "        double h2xL[2];\n",
    "        double h2yL[2];\n",
    "        double h2xR[2];\n",
    "        double h2yR[2];\n",
    "    }F;\n",
    "        \n",
    "    double f1d1[] = { 1.0, -1.9599837715993710940409755494329147040843963623046875, 0.9614960139400998695435873742098920047283172607421875 };\n",
    "    double f1d2[] = { 1.0, -0.961481451595149305688892127363942563533782958984375 };\n",
    "    double f2d1[] = { 1.0, -1.9185700325442638369821679589222185313701629638671875, 0.92450263188809345127339156533707864582538604736328125 };\n",
    "    double f2d2[] = { 1.0, -0.9243904916581986430657025266555137932300567626953125 };\n",
    "    double f3d1[] = { 1.0, -1.8320767110846463143758455771603621542453765869140625, 0.85491377774159393876374224419123493134975433349609375 };\n",
    "    double f3d2[] = { 1.0, -0.85408068546344428906280654700822196900844573974609375 };\n",
    "    double f4d1[] = { 1.0, -1.647552215703985023509403617936186492443084716796875, 0.7323389172727996498934999181074090301990509033203125 };\n",
    "    double f4d2[] = { 1.0, -0.726542528005357013398679555393755435943603515625 };\n",
    "    double f5d1[] = { 1.0, -1.2505164308487393132196530132205225527286529541015625, 0.54572331550945651912343237199820578098297119140625 };\n",
    "    double f5d2[] = { 1.0, -0.5095254494944285728053046113927848637104034423828125 };\n",
    "\n",
    "    F F1 = {.d1 = f1d1, .d2 = f1d2, .d1_size = 3, .d2_size = 2};\n",
    "    F F2 = {.d1 = f2d1, .d2 = f2d2, .d1_size = 3, .d2_size = 2};\n",
    "    F F3 = {.d1 = f3d1, .d2 = f3d2, .d1_size = 3, .d2_size = 2};\n",
    "    F F4 = {.d1 = f4d1, .d2 = f4d2, .d1_size = 3, .d2_size = 2};\n",
    "    F F5 = {.d1 = f5d1, .d2 = f5d2, .d1_size = 3, .d2_size = 2};\n",
    "    \n",
    "    init_stereo_coupled_allpass(&F1.inst, F1.d1_size, F1.d1, F1.d2_size, F1.d2, F1.h1xL, F1.h1yL, F1.h2xL, F1.h2yL, F1.h1xR, F1.h1yR, F1.h2xR, F1.h2yR);\n",
    "    init_stereo_coupled_allpass(&F2.inst, F2.d1_size, F2.d1, F2.d2_size, F2.d2, F2.h1xL, F2.h1yL, F2.h2xL, F2.h2yL, F2.h1xR, F2.h1yR, F2.h2xR, F2.h2yR);\n",
    "    init_stereo_coupled_allpass(&F3.inst, F3.d1_size, F3.d1, F3.d2_size, F3.d2, F3.h1xL, F3.h1yL, F3.h2xL, F3.h2yL, F3.h1xR, F3.h1yR, F3.h2xR, F3.h2yR);\n",
    "    init_stereo_coupled_allpass(&F4.inst, F4.d1_size, F4.d1, F4.d2_size, F4.d2, F4.h1xL, F4.h1yL, F4.h2xL, F4.h2yL, F4.h1xR, F4.h1yR, F4.h2xR, F4.h2yR);\n",
    "    init_stereo_coupled_allpass(&F5.inst, F5.d1_size, F5.d1, F5.d2_size, F5.d2, F5.h1xL, F5.h1yL, F5.h2xL, F5.h2yL, F5.h1xR, F5.h1yR, F5.h2xR, F5.h2yR);\n",
    "       \n",
    "    typedef struct A_ \n",
    "    {\n",
    "        dual_iir inst;\n",
    "        double *a;\n",
    "        int a_size;\n",
    "        double xL[3];\n",
    "        double yL[3];\n",
    "        double xR[3];\n",
    "        double yR[3];\n",
    "    }A;\n",
    "    \n",
    "    double a10[] = { 1.0, -1.9599837715993710940409755494329147040843963623046875, 0.9614960139400998695435873742098920047283172607421875 };\n",
    "    double a11[] = { 1.0, -1.9599837715993710940409755494329147040843963623046875, 0.9614960139400998695435873742098920047283172607421875 };\n",
    "\n",
    "    double a30[] = { 1.0, -1.8320767110846463143758455771603621542453765869140625, 0.85491377774159393876374224419123493134975433349609375 };\n",
    "    double a31[] = { 1.0, -1.8320767110846463143758455771603621542453765869140625, 0.85491377774159393876374224419123493134975433349609375 };\n",
    "\n",
    "    double a21[] = { 1.0, -1.9185700325442638369821679589222185313701629638671875, 0.92450263188809345127339156533707864582538604736328125 };\n",
    "\n",
    "    double a50[] = { 1.0, -1.2505164308487393132196530132205225527286529541015625, 0.54572331550945651912343237199820578098297119140625 };\n",
    "    \n",
    "    A A10 = {.a = a10, .a_size = 3};\n",
    "    A A11 = {.a = a11, .a_size = 3};\n",
    "    A A30 = {.a = a30, .a_size = 3};\n",
    "    A A31 = {.a = a31, .a_size = 3};\n",
    "    A A21 = {.a = a21, .a_size = 3};\n",
    "    A A50 = {.a = a50, .a_size = 3};\n",
    "    \n",
    "    init_stereo_allpass(&A10.inst, A10.a_size, A10.a, A10.xL, A10.yL, A10.xR, A10.yR);\n",
    "    init_stereo_allpass(&A11.inst, A11.a_size, A11.a, A11.xL, A11.yL, A11.xR, A11.yR);\n",
    "    init_stereo_allpass(&A30.inst, A30.a_size, A30.a, A30.xL, A30.yL, A30.xR, A30.yR);\n",
    "    init_stereo_allpass(&A31.inst, A31.a_size, A31.a, A31.xL, A31.yL, A31.xR, A31.yR);\n",
    "    init_stereo_allpass(&A21.inst, A21.a_size, A21.a, A21.xL, A21.yL, A21.xR, A21.yR);\n",
    "    init_stereo_allpass(&A50.inst, A50.a_size, A50.a, A50.xL, A50.yL, A50.xR, A50.yR);\n",
    "    \n",
    "    double xn_L[] = { 1.0, 1.1, 1.2, 1.3, 1.4, 1.5, 1.6, 1.7, 1.8, 1.9};\n",
    "    double xn_R[] = { 2.0, 1.9, 1.8, 1.7, 1.6, 1.5, 1.4, 1.3, 1.2, 1.1};\n",
    "    for (int i = 0; i < 10; i++)\n",
    "    {\n",
    "        process_stereo_coupled_allpass(&F4.inst, xn_L[i], xn_R[i]);\n",
    "        process_stereo_allpass(&A50.inst, F4.inst.L.pos, F4.inst.R.pos);\n",
    "        process_stereo_coupled_allpass(&F2.inst, A50.inst.L.filtered, A50.inst.R.filtered);\n",
    "        process_stereo_allpass(&A30.inst, F2.inst.L.pos, F2.inst.R.pos);\n",
    "        process_stereo_coupled_allpass(&F1.inst, A30.inst.L.filtered, A30.inst.R.filtered);\n",
    "        process_stereo_allpass(&A10.inst, F2.inst.L.neg, F2.inst.R.neg);\n",
    "        process_stereo_coupled_allpass(&F3.inst, A10.inst.L.filtered, A10.inst.R.filtered);\n",
    "        process_stereo_allpass(&A11.inst, F4.inst.L.neg, F4.inst.R.neg);\n",
    "        process_stereo_allpass(&A21.inst, A11.inst.L.filtered, A11.inst.R.filtered);\n",
    "        process_stereo_allpass(&A31.inst, A21.inst.L.filtered, A21.inst.R.filtered);\n",
    "        process_stereo_coupled_allpass(&F5.inst, A31.inst.L.filtered, A31.inst.R.filtered);\n",
    "\n",
    "        printf(\"index: %d\\n\", i);\n",
    "        printf(\"%.10f %.10f %.10f %.10f\\n\", F1.inst.L.pos, F1.inst.R.pos, F1.inst.L.neg, F1.inst.R.neg);\n",
    "        printf(\"%.10f %.10f %.10f %.10f\\n\", F3.inst.L.pos, F3.inst.R.pos, F3.inst.L.neg, F3.inst.R.neg);\n",
    "        printf(\"%.10f %.10f %.10f %.10f\\n\", F5.inst.L.pos, F5.inst.R.pos, F5.inst.L.neg, F5.inst.R.neg);\n",
    "    }\n",
    "}"
   ]
  },
  {
   "cell_type": "code",
   "execution_count": 8,
   "id": "c5a68c85-d287-423d-bfef-c65fae520fd2",
   "metadata": {},
   "outputs": [
    {
     "name": "stdout",
     "output_type": "stream",
     "text": [
      "index: 0\n",
      "0.0000000000 0.0000000000 0.0000000729 0.0000001458\n",
      "0.0000005856 0.0000011712 0.0012012683 0.0024025366\n",
      "0.0100327718 0.0200655436 0.2924777400 0.5849554799\n",
      "index: 1\n",
      "0.0000000000 0.0000000000 0.0000007936 0.0000015653\n",
      "0.0000063734 0.0000125711 0.0058667006 0.0113730206\n",
      "0.0470341611 0.0910584907 -0.3837154328 -0.8551741875\n",
      "index: 2\n",
      "0.0000000001 0.0000000002 0.0000042387 0.0000082196\n",
      "0.0000340273 0.0000659845 0.0129801754 0.0238759983\n",
      "0.0933194531 0.1698198094 -0.2418359201 -0.4475262002\n",
      "index: 3\n",
      "0.0000000004 0.0000000008 0.0000150465 0.0000285893\n",
      "0.0001207092 0.0002293471 0.0184913684 0.0312127669\n",
      "0.0961934005 0.1492537779 0.0479919895 0.2010658311\n",
      "index: 4\n",
      "0.0000000018 0.0000000035 0.0000406764 0.0000754857\n",
      "0.0003259904 0.0006049039 0.0219227751 0.0331051667\n",
      "0.0299683648 -0.0077410111 0.2163951040 0.5129662781\n",
      "index: 5\n",
      "0.0000000063 0.0000000118 0.0000910824 0.0001646815\n",
      "0.0007288624 0.0013175585 0.0278192189 0.0393952602\n",
      "-0.0788297535 -0.2275599832 0.2219639681 0.4511678681\n",
      "index: 6\n",
      "0.0000000182 0.0000000339 0.0001792091 0.0003153585\n",
      "0.0014311000 0.0025173915 0.0410620391 0.0591594526\n",
      "-0.1791917810 -0.3976450645 0.1239623041 0.1878513564\n",
      "index: 7\n",
      "0.0000000465 0.0000000853 0.0003232774 0.0005540382\n",
      "0.0025746464 0.0044096351 0.0626142107 0.0922416467\n",
      "-0.2280729226 -0.4377236631 0.0006781453 -0.0898983272\n",
      "index: 8\n",
      "0.0000001075 0.0000001940 0.0005502135 0.0009201789\n",
      "0.0043677008 0.0072973158 0.0882489650 0.1280255696\n",
      "-0.2081791861 -0.3313565316 -0.0917267654 -0.2657861305\n",
      "index: 9\n",
      "0.0000002291 0.0000004072 0.0008983894 0.0014694915\n",
      "0.0071045760 0.0116045645 0.1100977224 0.1500956308\n",
      "-0.1291028417 -0.1192502710 -0.1304525703 -0.3074864507\n"
     ]
    }
   ],
   "source": [
    "stereo_filterbank_test();"
   ]
  },
  {
   "cell_type": "code",
   "execution_count": 9,
   "id": "9c9399b0-2417-4fac-8e41-af43a20cc5ef",
   "metadata": {},
   "outputs": [],
   "source": [
    "float Q_rsqrt(float number)\n",
    "{\n",
    "    long i;\n",
    "    float x2, y;\n",
    "    const float threehalfs = 1.5F;\n",
    "    \n",
    "    x2 = number * 0.5F;\n",
    "    y = number;\n",
    "    i = *(long *) &y;\n",
    "    i = 0x5f3759df - (i >> 1);\n",
    "    y = *(float *) &i;\n",
    "    y = y * ( threehalfs - x2 * y * y);\n",
    "    y = y * ( threehalfs - x2 * y * y);\n",
    "    y = y * ( threehalfs - x2 * y * y);\n",
    "    return y;\n",
    "}"
   ]
  },
  {
   "cell_type": "code",
   "execution_count": 10,
   "id": "4d93dc8d-fa3c-4071-87a8-de86f41c51fe",
   "metadata": {},
   "outputs": [
    {
     "name": "stdout",
     "output_type": "stream",
     "text": [
      "  0.500000\n"
     ]
    }
   ],
   "source": [
    "printf(\"%10f\\n\", Q_rsqrt(4));"
   ]
  },
  {
   "cell_type": "code",
   "execution_count": 11,
   "id": "1a1f2062-1fef-464e-8da0-99cfffdf9eca",
   "metadata": {},
   "outputs": [
    {
     "name": "stdout",
     "output_type": "stream",
     "text": [
      "  0.333333\n"
     ]
    }
   ],
   "source": [
    "printf(\"%10f\\n\", Q_rsqrt(9));"
   ]
  },
  {
   "cell_type": "code",
   "execution_count": 13,
   "id": "074aa243-3f99-4e9c-bc44-3a0383c12769",
   "metadata": {},
   "outputs": [
    {
     "name": "stderr",
     "output_type": "stream",
     "text": [
      "\u001b[1minput_line_19:1:10: \u001b[0m\u001b[0;1;31mfatal error: \u001b[0m\u001b[1m'Eigen/Core' file not found\u001b[0m\n",
      "#include <Eigen/Core>\n",
      "\u001b[0;1;32m         ^~~~~~~~~~~~\n",
      "\u001b[0m"
     ]
    },
    {
     "ename": "Interpreter Error",
     "evalue": "",
     "output_type": "error",
     "traceback": [
      "Interpreter Error: "
     ]
    }
   ],
   "source": [
    "#include <Eigen/Core>\n",
    "#include <Eigen/Dense>"
   ]
  },
  {
   "cell_type": "code",
   "execution_count": null,
   "id": "87844c76-1acf-4ae8-b2a1-0dba3f607b45",
   "metadata": {},
   "outputs": [],
   "source": []
  }
 ],
 "metadata": {
  "kernelspec": {
   "display_name": "C++11",
   "language": "C++11",
   "name": "xcpp11"
  },
  "language_info": {
   "codemirror_mode": "text/x-c++src",
   "file_extension": ".cpp",
   "mimetype": "text/x-c++src",
   "name": "c++",
   "version": "11"
  }
 },
 "nbformat": 4,
 "nbformat_minor": 5
}
