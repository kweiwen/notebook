{
 "cells": [
  {
   "cell_type": "code",
   "execution_count": 1,
   "id": "3a4327ba",
   "metadata": {},
   "outputs": [],
   "source": [
    "from math import pi\n",
    "import numpy as np\n",
    "from scipy import signal\n",
    "import coupledIIR as cf\n",
    "import tf2ca as tf\n",
    "import matplotlib.pyplot as plt\n",
    "import IPython"
   ]
  },
  {
   "cell_type": "markdown",
   "id": "664b07b6",
   "metadata": {},
   "source": [
    "Linkwitz-Riley filter is derived from butterworth filter, decomposition\n",
    "\n",
    "$$\n",
    "\\begin{align}\n",
    "H_{\\text{L-R}{lp}}(z) &= {H_{\\text{BW}{lp}}(z)}^2 = \\frac{B_{lp}(z)B_{lp}(z)}{A_{lp}(z)A_{lp}(z)} \\\\\n",
    "H_{\\text{L-R}{hp}}(z) &= {H_{\\text{BW}{hp}}(z)}^2 = \\frac{B_{hp}(z)B_{hp}(z)}{A_{hp}(z)A_{hp}(z)} \\\\\n",
    "H_{\\text{BW}{lp}}(z) &= \\frac{B_{lp}(z)}{A_{lp}(z)} = \\frac{[H_1(z) + H_2(z)]}{2}\\\\\n",
    "H_{\\text{BW}{hp}}(z) &= \\frac{B_{hp}(z)}{A_{hp}(z)} = \\frac{[H_1(z) - H_2(z)]}{2}\\\\\n",
    "\\end{align}\n",
    "$$"
   ]
  },
  {
   "cell_type": "code",
   "execution_count": 2,
   "id": "f00f511e",
   "metadata": {},
   "outputs": [
    {
     "name": "stdout",
     "output_type": "stream",
     "text": [
      "LR num:  [9.27338042e-07 5.56402825e-06 1.39100706e-05 1.85467608e-05\n",
      " 1.39100706e-05 5.56402825e-06 9.27338042e-07]\n",
      "LR den:  [  5.34455868 -28.71265165  64.42732824 -77.27953737  52.25593581\n",
      " -18.88498002   2.84940566]\n",
      "LR num(norm):  [1.73510686e-07 1.04106412e-06 2.60266029e-06 3.47021372e-06\n",
      " 2.60266029e-06 1.04106412e-06 1.73510686e-07]\n",
      "LR den(norm):  [  1.          -5.37231479  12.05475178 -14.45947964   9.77740894\n",
      "  -3.53349662   0.53314143]\n"
     ]
    }
   ],
   "source": [
    "LP, HP = cf.LinkwitzRiley36dB(1200, 48000, False)\n",
    "print(\"LR num: \", LP[0])\n",
    "print(\"LR den: \", LP[1])\n",
    "\n",
    "a0 = LP[1][0]\n",
    "print(\"LR num(norm): \", LP[0] / a0)\n",
    "print(\"LR den(norm): \", LP[1] / a0)"
   ]
  },
  {
   "cell_type": "code",
   "execution_count": 3,
   "id": "7809d28f",
   "metadata": {
    "scrolled": false
   },
   "outputs": [
    {
     "name": "stdout",
     "output_type": "stream",
     "text": [
      "BW num:  [0.00096298 0.00288895 0.00288895 0.00096298]\n",
      "BW den:  [ 2.31183016 -6.20993968  5.59383166 -1.68801827]\n",
      "LR num(BW cascaded):  [9.27338042e-07 5.56402825e-06 1.39100706e-05 1.85467608e-05\n",
      " 1.39100706e-05 5.56402825e-06 9.27338042e-07]\n",
      "LR den(BW cascaded):  [  5.34455868 -28.71265165  64.42732824 -77.27953737  52.25593581\n",
      " -18.88498002   2.84940566]\n",
      "num(reconstructed):  [1.73510686e-07+0.j 1.04106412e-06+0.j 2.60266029e-06+0.j\n",
      " 3.47021372e-06+0.j 2.60266029e-06+0.j 1.04106412e-06+0.j\n",
      " 1.73510686e-07+0.j]\n",
      "den(reconstructed):  [  1.        +0.j  -5.37231479+0.j  12.05475178+0.j -14.45947964+0.j\n",
      "   9.77740894+0.j  -3.53349662+0.j   0.53314143+0.j]\n"
     ]
    }
   ],
   "source": [
    "LP, HP = cf.Butterworth18dB(1200, 48000, False)\n",
    "print(\"BW num: \", LP[0])\n",
    "print(\"BW den: \", LP[1])\n",
    "print(\"LR num(BW cascaded): \", np.convolve(LP[0],LP[0]))\n",
    "print(\"LR den(BW cascaded): \", np.convolve(LP[1],LP[1]))\n",
    "\n",
    "d1, d2, beta = tf.tf2ca(LP[0], LP[1])\n",
    "num, den = tf.get_sum(d1, d2, beta)\n",
    "print(\"num(reconstructed): \", np.convolve(num,num))\n",
    "print(\"den(reconstructed): \", np.convolve(den,den))"
   ]
  }
 ],
 "metadata": {
  "kernelspec": {
   "display_name": "Python 3 (ipykernel)",
   "language": "python",
   "name": "python3"
  },
  "language_info": {
   "codemirror_mode": {
    "name": "ipython",
    "version": 3
   },
   "file_extension": ".py",
   "mimetype": "text/x-python",
   "name": "python",
   "nbconvert_exporter": "python",
   "pygments_lexer": "ipython3",
   "version": "3.7.8"
  }
 },
 "nbformat": 4,
 "nbformat_minor": 5
}
