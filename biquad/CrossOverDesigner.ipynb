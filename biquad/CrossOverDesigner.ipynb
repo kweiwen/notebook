{
 "cells": [
  {
   "cell_type": "code",
   "execution_count": 1,
   "id": "701b670b",
   "metadata": {},
   "outputs": [],
   "source": [
    "from math import pi\n",
    "import numpy as np\n",
    "from scipy import signal\n",
    "import matplotlib.pyplot as plt\n",
    "import IPython"
   ]
  },
  {
   "cell_type": "code",
   "execution_count": 2,
   "id": "31067420",
   "metadata": {},
   "outputs": [],
   "source": [
    "def LinkwitzRiley24dB(fc, sr):\n",
    "    omega = 2 * pi * fc / sr\n",
    "    \n",
    "    sineOmega = np.sin(omega)\n",
    "    cosinePmega = np.cos(omega)\n",
    "    alpha = sineOmega * np.sqrt(2) / 2\n",
    "    a0 = 1 + alpha\n",
    "    \n",
    "    A1 = -( 2 * cosinePmega) / a0\n",
    "    A2 = (1 - alpha) / a0\n",
    "    B1 = (1 - cosinePmega) / a0 \n",
    "    B0 = B1 / 2\n",
    "    B2 = B0\n",
    "    \n",
    "    b_lp = np.convolve([B0, B1, B2], [B0, B1, B2])\n",
    "    a_lp = np.convolve([1, A1, A2], [1, A1, A2])\n",
    "    \n",
    "    A1 = -(2 * cosinePmega) / a0\n",
    "    A2 = (1 - alpha) / a0\n",
    "    B1 = -(1 + cosinePmega) / a0\n",
    "    B0 = -B1 / 2\n",
    "    B2 = B0\n",
    "    \n",
    "    b_hp = np.convolve([B0, B1, B2], [B0, B1, B2])\n",
    "    a_hp = np.convolve([1, A1, A2], [1, A1, A2])\n",
    "    \n",
    "    return b_lp, a_lp, b_hp, a_hp"
   ]
  },
  {
   "cell_type": "code",
   "execution_count": 3,
   "id": "ef21ca66",
   "metadata": {},
   "outputs": [],
   "source": [
    "def LinkwitzRiley48dB(fc, sr):\n",
    "    omega = 2 * pi * fc / sr\n",
    "    \n",
    "    sineOmega = np.sin(omega)\n",
    "    cosinePmega = np.cos(omega)\n",
    "    \n",
    "    orderindex = [0, 1, 0, 1]\n",
    "    b_lp = [1]\n",
    "    a_lp = [1]\n",
    "    b_hp = [1]\n",
    "    a_hp = [1]\n",
    "    for index in orderindex:\n",
    "        orderangle = (np.pi / 4) * (index + 0.5)\n",
    "        alpha = sineOmega / (2 * (1 / (2 * np.sin(orderangle))))\n",
    "    \n",
    "        a0 = 1 + alpha\n",
    "\n",
    "        A1 = -( 2 * cosinePmega) / a0\n",
    "        A2 = (1 - alpha) / a0\n",
    "        B1 = (1 - cosinePmega) / a0 \n",
    "        B0 = B1 / 2\n",
    "        B2 = B0\n",
    "        A0 = 1\n",
    "\n",
    "        b_lp = np.convolve(b_lp, [B0, B1, B2])\n",
    "        a_lp = np.convolve(a_lp, [A0, A1, A2])\n",
    "    \n",
    "        A1 = -(2 * cosinePmega) / a0\n",
    "        A2 = (1 - alpha) / a0\n",
    "        B1 = -(1 + cosinePmega) / a0\n",
    "        B0 = -B1 / 2\n",
    "        B2 = B0\n",
    "\n",
    "        b_hp = np.convolve(b_hp, [B0, B1, B2])\n",
    "        a_hp = np.convolve(a_hp, [A0, A1, A2])\n",
    "\n",
    "    return b_lp, a_lp, b_hp, a_hp"
   ]
  },
  {
   "cell_type": "code",
   "execution_count": null,
   "id": "f9ed51a0",
   "metadata": {},
   "outputs": [],
   "source": [
    "b_lp, a_lp, b_hp, a_hp = LinkwitzRiley24dB(1200, 48000)\n",
    "\n",
    "w, h1 = signal.freqz(b_lp, b_lp, 8192)\n",
    "w, h2 = signal.freqz(b_hp, b_lp, 8192)\n",
    "\n"
   ]
  },
  {
   "cell_type": "code",
   "execution_count": 4,
   "id": "e0507447",
   "metadata": {},
   "outputs": [
    {
     "data": {
      "image/png": "[encoded data removed]",
      "text/plain": [
       "<Figure size 432x288 with 1 Axes>"
      ]
     },
     "metadata": {
      "needs_background": "light"
     },
     "output_type": "display_data"
    }
   ],
   "source": [
    "b_lp0, a_lp0, b_hp0, a_hp0 = LinkwitzRiley48dB(1200, 48000)\n",
    "b_lp1, a_lp1, b_hp1, a_hp1 = LinkwitzRiley48dB(4800, 48000)\n",
    "\n",
    "w, apf = signal.freqz(b_lp1 + b_hp1, a_hp1, 8192)\n",
    "\n",
    "w, h1 = signal.freqz(b_lp0, a_lp0, 8192)\n",
    "w, h2 = signal.freqz(b_hp0, a_hp0, 8192)\n",
    "w, h3 = signal.freqz(b_lp1, a_lp1, 8192)\n",
    "w, h4 = signal.freqz(b_hp1, a_hp1, 8192)\n",
    "\n",
    "amplitude  = 20 * np.log10(abs(h1*apf+h3*h2+h4*h2))\n",
    "amplitude1 = 20 * np.log10(abs(h1))\n",
    "# amplitude2 = 20 * np.log10(abs(h2))\n",
    "amplitude3 = 20 * np.log10(abs(h3*h2))\n",
    "amplitude4 = 20 * np.log10(abs(h4*h2))\n",
    "\n",
    "\n",
    "plt.plot(amplitude)\n",
    "plt.plot(amplitude1)\n",
    "# plt.plot(amplitude2)\n",
    "plt.plot(amplitude3)\n",
    "plt.plot(amplitude4)\n",
    "\n",
    "plt.ylim(-60, 6)\n",
    "plt.xscale('log')\n",
    "plt.show()"
   ]
  }
 ],
 "metadata": {
  "kernelspec": {
   "display_name": "Python 3",
   "language": "python",
   "name": "python3"
  },
  "language_info": {
   "codemirror_mode": {
    "name": "ipython",
    "version": 3
   },
   "file_extension": ".py",
   "mimetype": "text/x-python",
   "name": "python",
   "nbconvert_exporter": "python",
   "pygments_lexer": "ipython3",
   "version": "3.10.2"
  }
 },
 "nbformat": 4,
 "nbformat_minor": 5
}
