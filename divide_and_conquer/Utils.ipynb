{
 "cells": [
  {
   "cell_type": "code",
   "execution_count": 1,
   "id": "d410d5b0",
   "metadata": {},
   "outputs": [],
   "source": [
    "import numpy as np\n",
    "import struct"
   ]
  },
  {
   "cell_type": "code",
   "execution_count": 2,
   "id": "cba6474c",
   "metadata": {},
   "outputs": [],
   "source": [
    "def float_to_byte_array_little(input_data):\n",
    "    return list(struct.pack('<f', input_data))\n",
    "\n",
    "def byte_to_string(input_data):\n",
    "    output_data = \"\"\n",
    "    for data in input_data:\n",
    "        output_data += ('{:02x}'.format(data))\n",
    "    return output_data\n",
    "\n",
    "def convert_all(input_data):\n",
    "    output_data = \"\"\n",
    "    for data in input_data:\n",
    "        output_data += byte_to_string(float_to_byte_array_little(data))\n",
    "    print(output_data)"
   ]
  },
  {
   "cell_type": "code",
   "execution_count": 3,
   "id": "2935c443",
   "metadata": {},
   "outputs": [
    {
     "name": "stdout",
     "output_type": "stream",
     "text": [
      "0000803f0000803f000000000000803f\n"
     ]
    }
   ],
   "source": [
    "convert_all([1,1,0,1])"
   ]
  },
  {
   "cell_type": "code",
   "execution_count": null,
   "id": "bb8102bd",
   "metadata": {},
   "outputs": [],
   "source": []
  }
 ],
 "metadata": {
  "kernelspec": {
   "display_name": "Python 3 (ipykernel)",
   "language": "python",
   "name": "python3"
  },
  "language_info": {
   "codemirror_mode": {
    "name": "ipython",
    "version": 3
   },
   "file_extension": ".py",
   "mimetype": "text/x-python",
   "name": "python",
   "nbconvert_exporter": "python",
   "pygments_lexer": "ipython3",
   "version": "3.7.8"
  }
 },
 "nbformat": 4,
 "nbformat_minor": 5
}
