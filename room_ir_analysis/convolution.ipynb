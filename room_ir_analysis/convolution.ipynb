{
 "cells": [
  {
   "cell_type": "code",
   "execution_count": 1,
   "metadata": {},
   "outputs": [],
   "source": [
    "from math import pi\n",
    "import numpy as np\n",
    "import matplotlib.pyplot as plt\n",
    "import wavio\n",
    "from scipy import fftpack, signal\n",
    "import IPython"
   ]
  },
  {
   "cell_type": "code",
   "execution_count": 2,
   "metadata": {},
   "outputs": [],
   "source": [
    "def taps_convolver(sig, win, mode):\n",
    "    u = np.zeros(len(win))\n",
    "    M = len(win)\n",
    "    \n",
    "    if mode == 'full':\n",
    "        # we will add (M-1) zeros at the end of input data\n",
    "        # assume the last data is \"C\"\n",
    "        # the last dot mutiply will look like this\n",
    "        # [0,0,0,0,0,0,0,0,...., C] .* w[n0,n1,n2,n3,n4...]\n",
    "        ITER = len(sig)+M-1\n",
    "        y = np.zeros(len(sig)+M-1)\n",
    "        sig = np.append(sig, np.zeros(M-1))\n",
    "    elif mode == 'same':\n",
    "        # the input length and output length is same\n",
    "        ITER = len(sig)\n",
    "        y = np.zeros(ITER)\n",
    "    \n",
    "    # fir taps processing\n",
    "    for n in range(ITER):\n",
    "        u[1:M] = u[0:M-1]\n",
    "        u[0] = sig[n]\n",
    "        y[n] = np.dot(win.T, u)\n",
    "    return y"
   ]
  },
  {
   "cell_type": "code",
   "execution_count": 3,
   "metadata": {},
   "outputs": [],
   "source": [
    "sig = np.array([6, -3, 13, 4, -5, 6, 7, -8, 1, 10, -1, -17, 3, 7])\n",
    "# sig = np.array([6, -3, 13, 4, -5, 6, 7, -8])\n",
    "win = np.array([1, -1, 1, -0.5, -1.5, 0, 1, 1])"
   ]
  },
  {
   "cell_type": "code",
   "execution_count": 4,
   "metadata": {},
   "outputs": [
    {
     "name": "stdout",
     "output_type": "stream",
     "text": [
      "[  6.   -9.   22.  -15.   -3.5  13.  -19.5  -9.5  30.5   5.5 -17.5   6.5\n",
      "  25.5 -28.5]\n",
      "[  6.   -9.   22.  -15.   -3.5  13.  -19.5  -9.5  30.5   5.5 -17.5   6.5\n",
      "  25.5 -28.5]\n",
      "[ True  True  True  True  True  True  True  True  True  True  True  True\n",
      "  True  True]\n"
     ]
    }
   ],
   "source": [
    "# Compare signal.lfilter() and current implementation taps_convolver('full')\n",
    "# the result is same!\n",
    "a = signal.lfilter(win, 1, sig)\n",
    "b = taps_convolver(sig, win, 'same')\n",
    "print(a)\n",
    "print(b)\n",
    "print(a == b)"
   ]
  },
  {
   "cell_type": "code",
   "execution_count": 5,
   "metadata": {},
   "outputs": [
    {
     "name": "stdout",
     "output_type": "stream",
     "text": [
      "[  6.   -9.   22.  -15.   -3.5  13.  -19.5  -9.5  30.5   5.5 -17.5   6.5\n",
      "  25.5 -28.5  -1.   42.    1.  -28.5 -14.   10.    7. ]\n",
      "[-15.   -3.5  13.  -19.5  -9.5  30.5   5.5 -17.5   6.5  25.5 -28.5  -1.\n",
      "  42.    1. ]\n",
      "[ -9.5  30.5   5.5 -17.5   6.5  25.5 -28.5]\n"
     ]
    }
   ],
   "source": [
    "# The output is the full discrete linear convolution of the inputs. (Default)\n",
    "print(signal.convolve(sig, win, mode='full') / sum(win))\n",
    "\n",
    "# the output is the same size as in1, centered with respect to the ‘full’ output.\n",
    "print(signal.convolve(sig, win, mode='same') / sum(win))\n",
    "\n",
    "# The output consists only of those elements that do not rely on the zero-padding. \n",
    "# In ‘valid’ mode, either in1 or in2 must be at least as large as the other in every dimension.\n",
    "print(signal.convolve(sig, win, mode='valid') / sum(win)) "
   ]
  },
  {
   "cell_type": "code",
   "execution_count": 6,
   "metadata": {},
   "outputs": [
    {
     "name": "stdout",
     "output_type": "stream",
     "text": [
      "[  6.   -9.   22.  -15.   -3.5  13.  -19.5  -9.5  30.5   5.5 -17.5   6.5\n",
      "  25.5 -28.5  -1.   42.    1.  -28.5 -14.   10.    7. ]\n",
      "[  6.   -9.   22.  -15.   -3.5  13.  -19.5  -9.5  30.5   5.5 -17.5   6.5\n",
      "  25.5 -28.5  -1.   42.    1.  -28.5 -14.   10.    7. ]\n",
      "[ True  True  True  True  True  True  True  True  True  True  True  True\n",
      "  True  True  True  True  True  True  True  True  True]\n"
     ]
    }
   ],
   "source": [
    "# Compare signal.convolve('full') and current implementation taps_convolver('full')\n",
    "# the result is same!\n",
    "a = signal.convolve(sig, win, mode='full') / sum(win)\n",
    "b = taps_convolver(sig, win, 'full')\n",
    "print(a)\n",
    "print(b)\n",
    "print(a == b)"
   ]
  },
  {
   "cell_type": "code",
   "execution_count": 7,
   "metadata": {},
   "outputs": [
    {
     "name": "stdout",
     "output_type": "stream",
     "text": [
      "[  6.   -9.   22.  -15.   -3.5  13.  -19.5  -9.5  30.5   5.5 -17.5   6.5\n",
      "  25.5 -28.5  -1.   42.    1.  -28.5 -14.   10.    7. ]\n",
      "[  6.   -9.   22.  -15.   -3.5  13.  -19.5  -9.5  30.5   5.5 -17.5   6.5\n",
      "  25.5 -28.5  -1.   42.    1.  -28.5 -14.   10.    7. ]\n",
      "[False False False  True False  True False  True  True False False  True\n",
      "  True  True False  True False False False  True False]\n"
     ]
    }
   ],
   "source": [
    "# if we use fft method which means the signal and win were process in frequency domain\n",
    "# so the result of two product is a little bit different\n",
    "a = signal.convolve(sig, win, mode='full', method='fft') / sum(win)\n",
    "b = taps_convolver(sig, win, 'full')\n",
    "print(a)\n",
    "print(b)\n",
    "print(a == b)"
   ]
  },
  {
   "cell_type": "code",
   "execution_count": 8,
   "metadata": {},
   "outputs": [
    {
     "name": "stdout",
     "output_type": "stream",
     "text": [
      "[  6.   -9.   22.  -15.   -3.5  13.  -19.5  -9.5  30.5   5.5 -17.5   6.5\n",
      "  25.5 -28.5  -1.   42.    1.  -28.5 -14.   10.    7. ]\n",
      "[False False False False False  True False  True  True False False False\n",
      " False  True False  True False False False False False]\n"
     ]
    }
   ],
   "source": [
    "# ifft(fft(sig) * fft(win))\n",
    "#\n",
    "# the result should match the convolution result(time domain)\n",
    "# actually the full size of convolution(u[n]) is len(sig)+len(win)-1 \n",
    "# we ignore the last dot multiply because it is 0.\n",
    "#\n",
    "# if we're going to do the convolution with fft approach\n",
    "# we should double the size of fft first, so we could get len(sig)+len(win) number of fft product\n",
    "# (and ignore the last element because it's 0)\n",
    "\n",
    "# to make sure the size of ifft product will align the convolution result\n",
    "sig_f = np.fft.fft(sig, (len(sig) + len(win)))\n",
    "\n",
    "# to make sure the size of ifft product will align the convolution result\n",
    "win_f = np.fft.fft(win, (len(sig) + len(win)))\n",
    "\n",
    "# [a0b0,a1b1,a2b2,a3b3] = [a0,a1,a2,a3] * [b0,b1,b2,b3]\n",
    "raw = np.fft.ifft(sig_f * win_f)\n",
    "\n",
    "# we can ignore imaginary part, because it's all 0 :)\n",
    "result = np.real(raw)\n",
    "\n",
    "# disable science notation\n",
    "np.set_printoptions(suppress=True)\n",
    "\n",
    "# ignore the last element\n",
    "print(result[:-1])\n",
    "print(result[:-1] == a)"
   ]
  }
 ],
 "metadata": {
  "kernelspec": {
   "display_name": "Python 3",
   "language": "python",
   "name": "python3"
  },
  "language_info": {
   "codemirror_mode": {
    "name": "ipython",
    "version": 3
   },
   "file_extension": ".py",
   "mimetype": "text/x-python",
   "name": "python",
   "nbconvert_exporter": "python",
   "pygments_lexer": "ipython3",
   "version": "3.7.2"
  }
 },
 "nbformat": 4,
 "nbformat_minor": 4
}
