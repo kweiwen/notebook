{
 "cells": [
  {
   "cell_type": "markdown",
   "id": "9dca964c",
   "metadata": {},
   "source": [
    "The output $y[n]$ is convolution of $x[n]$ and $h[n]$:\n",
    "\n",
    "$$\n",
    "\\begin{align}\n",
    "y[n] &= x[n] \\ast h[n] \\\\ &= \\sum_{l= -\\infty}^{l= \\infty} x[n]h[n-l]\n",
    "\\end{align}\n",
    "$$\n",
    "\n",
    "Assume that $h$ has $N$ in the length of vector and $x$ has $M$ in the length of vector. Now we can expand the definition of $x[n]$ and $h[n]$ during implementation.\n",
    "\n",
    "$$\n",
    "\\begin{align}\n",
    "x[n] &= \n",
    "\\begin{cases}\n",
    "x[n], & \\text{if}\\ 0 < n < M-1 \\\\\n",
    "0, & \\text{otherwise} \\\\\n",
    "\\end{cases} \\\\\n",
    "h[n] &= \n",
    "\\begin{cases}\n",
    " h[n], & \\text{if}\\ 0 < n < N-1 \\\\\n",
    "0, & \\text{otherwise} \\\\\n",
    "\\end{cases} \\\\\n",
    "\\end{align}\n",
    "$$\n",
    "\n",
    "* As long as $0 \\le l \\le M-1$, we have non-zero $x[l]$.\n",
    "* As long as $0 \\le n-l \\le N-1$, we have non-zero $h[n-l]$.\n",
    "\n",
    "Add up the sides of the two inequalities, we can get:\n",
    "\n",
    "$$\n",
    "0 \\le n \\le N+M-2\n",
    "$$\n",
    "\n",
    "which is the non-zero product of $y[n]$, and the $y$ has $N+M-2+1 = N+M-1$ terms."
   ]
  },
  {
   "cell_type": "code",
   "execution_count": 1,
   "id": "10f8091c",
   "metadata": {},
   "outputs": [],
   "source": [
    "from math import pi\n",
    "import numpy as np\n",
    "from scipy import signal\n",
    "import matplotlib.pyplot as plt\n",
    "import IPython"
   ]
  },
  {
   "cell_type": "code",
   "execution_count": 2,
   "id": "beb5895c",
   "metadata": {},
   "outputs": [
    {
     "name": "stdout",
     "output_type": "stream",
     "text": [
      "[ 1.  4. 10. 20. 30. 40. 50. 60. 61. 52. 32.]\n",
      "[ 1.  4. 10. 20. 30. 40. 50. 60. 61. 52. 32.]\n"
     ]
    }
   ],
   "source": [
    "h = np.array([1.0, 2.0, 3.0, 4.0, 5.0, 6.0, 7.0, 8.0])\n",
    "x = np.array([1.0, 2.0, 3.0, 4.0])\n",
    "\n",
    "N = len(h)\n",
    "M = len(x)\n",
    "\n",
    "y_linear = np.convolve(h, x)\n",
    "\n",
    "h_ = np.append(h, np.zeros(16 - N))\n",
    "x_ = np.append(x, np.zeros(16 - M))\n",
    "y_circular = np.fft.ifft(np.fft.fft(h_) * np.fft.fft(x_)).real[:M+N-1]\n",
    "\n",
    "print(y_circular)\n",
    "print(y_linear)"
   ]
  }
 ],
 "metadata": {
  "kernelspec": {
   "display_name": "Python 3 (ipykernel)",
   "language": "python",
   "name": "python3"
  },
  "language_info": {
   "codemirror_mode": {
    "name": "ipython",
    "version": 3
   },
   "file_extension": ".py",
   "mimetype": "text/x-python",
   "name": "python",
   "nbconvert_exporter": "python",
   "pygments_lexer": "ipython3",
   "version": "3.7.0"
  }
 },
 "nbformat": 4,
 "nbformat_minor": 5
}
