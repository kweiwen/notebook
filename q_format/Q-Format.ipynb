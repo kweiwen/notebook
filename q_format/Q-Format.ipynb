{
 "cells": [
  {
   "cell_type": "code",
   "execution_count": 1,
   "id": "3a1bd945",
   "metadata": {},
   "outputs": [],
   "source": [
    "import math\n",
    "import numpy as np\n",
    "\n",
    "class QFromat:\n",
    "    \n",
    "    def __init__(self, m: int, n: int, U: bool=False):\n",
    "        '''\n",
    "        :param m: Integer bits \n",
    "        :param n: Fractional bits\n",
    "        :param U: Signed?\n",
    "        '''\n",
    "        self.m = m\n",
    "        self.n = n\n",
    "        self.size = m + n \n",
    "        self.signed = U\n",
    "        \n",
    "        if(self.signed):\n",
    "            self.minimum = 0\n",
    "            self.maximum = pow(2, self.m) - pow(2, -self.n)\n",
    "            self.resolution = pow(2, -self.n)\n",
    "            self.wordSize = pow(2, self.size)\n",
    "            self.decRange = [self.minimum, self.maximum]\n",
    "            self.hexRange = [hex(0 - round(self.minimum / self.resolution)), hex(0 + round(self.maximum / self.resolution))]\n",
    "        else:\n",
    "            self.minimum = -pow(2, self.m - 1)\n",
    "            self.maximum = pow(2, self.m - 1) - pow(2, -self.n)\n",
    "            self.resolution = pow(2, -self.n)\n",
    "            self.wordSize = pow(2, self.size)\n",
    "            self.decRange = [self.minimum, self.maximum]\n",
    "            self.hexRange = [hex(0 - round(self.minimum / self.resolution)), hex(0 + round(self.maximum / self.resolution))]    \n",
    "            \n",
    "#     def Q(self, m, n):\n",
    "#         self.minimum = -pow(2, m - 1)\n",
    "#         self.maximum = pow(2, m - 1) - pow(2, -n)\n",
    "#         self.resolution = pow(2, -n)\n",
    "#         self.wordSize = pow(2, m + n)\n",
    "#         self.decRange = [self.minimum, self.maximum]\n",
    "#         self.hexRange = [hex(0 - round(self.minimum / self.resolution)), hex(0 + round(self.maximum / self.resolution))]    \n",
    "    \n",
    "#     def UQ(self, m, n):\n",
    "#         self.minimum = 0\n",
    "#         self.maximum = pow(2, m) - pow(2, -n)\n",
    "#         self.resolution = pow(2, -n)\n",
    "#         self.wordSize = pow(2, m + n)\n",
    "#         self.decRange = [self.minimum, self.maximum]\n",
    "#         self.hexRange = [hex(0 - round(self.minimum / self.resolution)), hex(0 + round(self.maximum / self.resolution))]\n",
    "    \n",
    "    def RtoF(self, input_data: hex) -> float:\n",
    "        if(self.wordSize > input_data > self.maximum / self.resolution):\n",
    "            return input_data * self.resolution - self.wordSize * self.resolution\n",
    "        elif(self.maximum / self.resolution >= input_data >= 0):\n",
    "            return input_data * self.resolution\n",
    "        else:\n",
    "            # overflow condition\n",
    "            pass\n",
    "    \n",
    "    def FtoR(self, input_data: float) -> hex:\n",
    "        if(self.maximum >= input_data >= 0):        \n",
    "            input_data = (input_data / self.resolution)\n",
    "            return hex(round(input_data))\n",
    "        elif(self.minimum <= input_data < 0):\n",
    "            input_data = (input_data / self.resolution)\n",
    "            return hex(round(input_data) + self.wordSize)\n",
    "        else:\n",
    "            # overflow condition\n",
    "            pass\n",
    "        \n",
    "    def Error(self, input_data: float) -> None:\n",
    "        # Representation Error\n",
    "        integer = self.FtoR(input_data)\n",
    "        representation = self.RtoF(int(integer, 16))\n",
    "        error = abs(input_data - representation)\n",
    "        print(\"Input Value             : \", input_data)\n",
    "        print(\"Fixed-point Value       : \", representation)\n",
    "        print(\"Representation Error    : \", error)\n",
    "        \n",
    "        if(abs(error) == 0):\n",
    "            print(\"Representation Error(dB): \", \"-Infinty\")\n",
    "        else:\n",
    "            print(\"Representation Error(dB): \", round(20 * math.log(error, 10), 2))\n"
   ]
  },
  {
   "cell_type": "code",
   "execution_count": 2,
   "id": "97e7f67d",
   "metadata": {},
   "outputs": [
    {
     "name": "stdout",
     "output_type": "stream",
     "text": [
      "0x91eb851f\n",
      "Input Value             :  1.14\n",
      "Fixed-point Value       :  1.1400000001303852\n",
      "Representation Error    :  1.3038525814579316e-10\n",
      "Representation Error(dB):  -197.7\n"
     ]
    }
   ],
   "source": [
    "obj = QFromat(1, 31, 1)\n",
    "print(obj.FtoR(1.14))\n",
    "obj.Error(1.14)"
   ]
  },
  {
   "cell_type": "code",
   "execution_count": 3,
   "id": "c3f8d903",
   "metadata": {},
   "outputs": [],
   "source": [
    "# print(obj.FtoR(-2.5))\n",
    "# print(obj.FtoR(-2))\n",
    "# print(obj.FtoR(-1.5))\n",
    "# print(obj.FtoR(-1))\n",
    "# print(obj.FtoR(-0.5))\n",
    "# print(obj.FtoR(0))\n",
    "# print(obj.FtoR(0.5))\n",
    "# print(obj.FtoR(1))\n",
    "# print(obj.FtoR(1.5))\n",
    "# print(obj.FtoR(2.0))"
   ]
  },
  {
   "cell_type": "code",
   "execution_count": 4,
   "id": "d9b16c90",
   "metadata": {},
   "outputs": [],
   "source": [
    "# for i in range(64):\n",
    "#     print(i, hex(i), obj.RtoF(i)) "
   ]
  },
  {
   "cell_type": "code",
   "execution_count": null,
   "id": "1ca69708",
   "metadata": {},
   "outputs": [],
   "source": []
  }
 ],
 "metadata": {
  "kernelspec": {
   "display_name": "Python 3 (ipykernel)",
   "language": "python",
   "name": "python3"
  },
  "language_info": {
   "codemirror_mode": {
    "name": "ipython",
    "version": 3
   },
   "file_extension": ".py",
   "mimetype": "text/x-python",
   "name": "python",
   "nbconvert_exporter": "python",
   "pygments_lexer": "ipython3",
   "version": "3.7.0"
  }
 },
 "nbformat": 4,
 "nbformat_minor": 5
}
