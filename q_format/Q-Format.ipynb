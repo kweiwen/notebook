{
 "cells": [
  {
   "cell_type": "code",
   "execution_count": 1,
   "id": "f91dc366",
   "metadata": {},
   "outputs": [],
   "source": [
    "import math\n",
    "import numpy as np\n",
    "\n",
    "class QFromat:\n",
    "    \n",
    "    def __init__(self, m: int, n: int, U: bool=False):\n",
    "        '''\n",
    "        :param m: Integer bits \n",
    "        :param n: Fractional bits\n",
    "        :param U: Signed?\n",
    "        '''\n",
    "        self.m = m\n",
    "        self.n = n\n",
    "        self.size = m + n \n",
    "        self.signed = U\n",
    "        \n",
    "        if(self.signed):\n",
    "            self.minimum = 0\n",
    "            self.maximum = pow(2, self.m) - pow(2, -self.n)\n",
    "            self.resolution = pow(2, -self.n)\n",
    "            self.wordSize = pow(2, self.size)\n",
    "            self.decRange = [self.minimum, self.maximum]\n",
    "            self.hexRange = [hex(0 - round(self.minimum / self.resolution)), hex(0 + round(self.maximum / self.resolution))]\n",
    "        else:\n",
    "            self.minimum = -pow(2, self.m - 1)\n",
    "            self.maximum = pow(2, self.m - 1) - pow(2, -self.n)\n",
    "            self.resolution = pow(2, -self.n)\n",
    "            self.wordSize = pow(2, self.size)\n",
    "            self.decRange = [self.minimum, self.maximum]\n",
    "            self.hexRange = [hex(0 - round(self.minimum / self.resolution)), hex(0 + round(self.maximum / self.resolution))]    \n",
    "        \n",
    "        self.headroom = (self.maximum - self.minimum + self.resolution)\n",
    "            \n",
    "    def RtoF(self, input_data: hex) -> float:\n",
    "        if(self.wordSize > input_data > self.maximum / self.resolution):\n",
    "            return input_data * self.resolution - self.wordSize * self.resolution\n",
    "        elif(self.maximum / self.resolution >= input_data >= 0):\n",
    "            return input_data * self.resolution\n",
    "        else:\n",
    "            # overflow condition\n",
    "            pass\n",
    "    \n",
    "    def FtoR(self, input_data: float) -> hex:\n",
    "        if(self.maximum >= input_data >= 0):        \n",
    "            input_data = (input_data / self.resolution)\n",
    "            return hex(round(input_data))\n",
    "        elif(self.minimum <= input_data < 0):\n",
    "            input_data = (input_data / self.resolution)\n",
    "            return hex(round(input_data) + self.wordSize)\n",
    "        else:\n",
    "            # overflow condition\n",
    "            pass\n",
    "        \n",
    "    def Error(self, input_data: float) -> None:\n",
    "        # Representation Error\n",
    "        integer = self.FtoR(input_data)\n",
    "        representation = self.RtoF(int(integer, 16))\n",
    "        error = abs(input_data - representation)\n",
    "        print(\"Input Value         : \", input_data)\n",
    "        print(\"Integer Value       : \", integer)\n",
    "        print(\"Fixed-point Value   : \", representation)\n",
    "        print(\"Representation Error: \", error)\n",
    "        print(\"Headroom            : \", self.headroom)\n",
    "        \n",
    "        if(abs(error) == 0):\n",
    "            print(\"dBFS                : \", 0)\n",
    "        else:\n",
    "            print(\"dBFS                : \", round(20 * math.log(error/self.headroom, 10), 2))\n"
   ]
  },
  {
   "cell_type": "code",
   "execution_count": 2,
   "id": "7380a1b2",
   "metadata": {},
   "outputs": [],
   "source": [
    "# print(obj.FtoR(-2.5))\n",
    "# print(obj.FtoR(-2))\n",
    "# print(obj.FtoR(-1.5))\n",
    "# print(obj.FtoR(-1))\n",
    "# print(obj.FtoR(-0.5))\n",
    "# print(obj.FtoR(0))\n",
    "# print(obj.FtoR(0.5))\n",
    "# print(obj.FtoR(1))\n",
    "# print(obj.FtoR(1.5))\n",
    "# print(obj.FtoR(2.0))"
   ]
  },
  {
   "cell_type": "code",
   "execution_count": 3,
   "id": "49b87593",
   "metadata": {},
   "outputs": [],
   "source": [
    "# for i in range(64):\n",
    "#     print(i, hex(i), obj.RtoF(i)) "
   ]
  },
  {
   "cell_type": "markdown",
   "id": "426d1bc1",
   "metadata": {},
   "source": [
    "Gain recovery constan. Controls how fast or slow the gain change should recover; a high value implies slower recovery: \n",
    "    \n",
    "Q0.15, \n",
    "0 “ 0x0000, \n",
    "0.5 “ 0x4000, \n",
    "1 “ 0x7FFF, \n",
    "\n",
    "Gc(hex) “ dec2hex(round(Gc * 2^15))"
   ]
  },
  {
   "cell_type": "markdown",
   "id": "1f1a3faa",
   "metadata": {},
   "source": [
    "Maximum window size in ms, not used when delay is set to a nonzero value: \n",
    "\n",
    "Q0.15, \n",
    "8ms “ 0x62, \n",
    "MaxWait(hex) “ dec2hex(round(MaxWait(ms)*2^15))"
   ]
  },
  {
   "cell_type": "markdown",
   "id": "4a510b1b",
   "metadata": {},
   "source": [
    "Threshold in dB to limit peaks: \n",
    "\n",
    "Q2.13, \n",
    "0 dB “ 0x2000, \n",
    "Thresh(hex) “ dec2hex(round(4096*10^ [Thresh(dB)/20]))"
   ]
  },
  {
   "cell_type": "markdown",
   "id": "62cf9cfa",
   "metadata": {},
   "source": [
    "Makeup gain in dB to increase overall signal level after peak limiting: \n",
    "\n",
    "Q7.8, \n",
    "0 dB “ 0x0100, \n",
    "Gain(hex) “ dec2hex(round(256*10^ [Gain(dB)/20]))"
   ]
  },
  {
   "cell_type": "markdown",
   "id": "47831799",
   "metadata": {},
   "source": [
    "Static input gain when aigMode is set to 0: \n",
    "\n",
    "Q3.12, 0 dB = 0x1000, \n",
    "\n",
    "staticGainL16Q12 = dec2hex(round(10^(staticGaindB /20) * 4096))"
   ]
  },
  {
   "cell_type": "markdown",
   "id": "68389d07",
   "metadata": {},
   "source": [
    "Attack/release time for AIG update: \n",
    "\n",
    "Q1.31, \n",
    "5000 ms = 0x0001CD5C at 8 kHz, \n",
    "10000 ms = 0x0000E6AF at 8kHz, \n",
    "gainAtRtUL32Q31 = dec2hex(round((1-exp(-2200 /fs/gainAtRtms))*2^31))"
   ]
  }
 ],
 "metadata": {
  "kernelspec": {
   "display_name": "Python 3 (ipykernel)",
   "language": "python",
   "name": "python3"
  },
  "language_info": {
   "codemirror_mode": {
    "name": "ipython",
    "version": 3
   },
   "file_extension": ".py",
   "mimetype": "text/x-python",
   "name": "python",
   "nbconvert_exporter": "python",
   "pygments_lexer": "ipython3",
   "version": "3.7.0"
  }
 },
 "nbformat": 4,
 "nbformat_minor": 5
}
