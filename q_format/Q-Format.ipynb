{
 "cells": [
  {
   "cell_type": "code",
   "execution_count": 1,
   "id": "4cedd02e",
   "metadata": {},
   "outputs": [],
   "source": [
    "import math\n",
    "import numpy as np\n",
    "\n",
    "class QFromat:\n",
    "    \n",
    "    def __init__(self, m: int, n: int, U: bool=False):\n",
    "        '''\n",
    "        :param m: Integer bits \n",
    "        :param n: Fractional bits\n",
    "        :param U: Signed?\n",
    "        '''\n",
    "        self.m = m\n",
    "        self.n = n\n",
    "        self.size = m + n \n",
    "        self.signed = U\n",
    "        \n",
    "        if(self.signed):\n",
    "            self.minimum = 0\n",
    "            self.maximum = pow(2, self.m) - pow(2, -self.n)\n",
    "            self.resolution = pow(2, -self.n)\n",
    "            self.wordSize = pow(2, self.size)\n",
    "            self.decRange = [self.minimum, self.maximum]\n",
    "            self.hexRange = [hex(0 - round(self.minimum / self.resolution)), hex(0 + round(self.maximum / self.resolution))]\n",
    "        else:\n",
    "            self.minimum = -pow(2, self.m - 1)\n",
    "            self.maximum = pow(2, self.m - 1) - pow(2, -self.n)\n",
    "            self.resolution = pow(2, -self.n)\n",
    "            self.wordSize = pow(2, self.size)\n",
    "            self.decRange = [self.minimum, self.maximum]\n",
    "            self.hexRange = [hex(0 - round(self.minimum / self.resolution)), hex(0 + round(self.maximum / self.resolution))]    \n",
    "        \n",
    "        self.headroom = (self.maximum - self.minimum + self.resolution)\n",
    "            \n",
    "#     def Q(self, m, n):\n",
    "#         self.minimum = -pow(2, m - 1)\n",
    "#         self.maximum = pow(2, m - 1) - pow(2, -n)\n",
    "#         self.resolution = pow(2, -n)\n",
    "#         self.wordSize = pow(2, m + n)\n",
    "#         self.decRange = [self.minimum, self.maximum]\n",
    "#         self.hexRange = [hex(0 - round(self.minimum / self.resolution)), hex(0 + round(self.maximum / self.resolution))]    \n",
    "    \n",
    "#     def UQ(self, m, n):\n",
    "#         self.minimum = 0\n",
    "#         self.maximum = pow(2, m) - pow(2, -n)\n",
    "#         self.resolution = pow(2, -n)\n",
    "#         self.wordSize = pow(2, m + n)\n",
    "#         self.decRange = [self.minimum, self.maximum]\n",
    "#         self.hexRange = [hex(0 - round(self.minimum / self.resolution)), hex(0 + round(self.maximum / self.resolution))]\n",
    "    \n",
    "    def RtoF(self, input_data: hex) -> float:\n",
    "        if(self.wordSize > input_data > self.maximum / self.resolution):\n",
    "            return input_data * self.resolution - self.wordSize * self.resolution\n",
    "        elif(self.maximum / self.resolution >= input_data >= 0):\n",
    "            return input_data * self.resolution\n",
    "        else:\n",
    "            # overflow condition\n",
    "            pass\n",
    "    \n",
    "    def FtoR(self, input_data: float) -> hex:\n",
    "        if(self.maximum >= input_data >= 0):        \n",
    "            input_data = (input_data / self.resolution)\n",
    "            return hex(round(input_data))\n",
    "        elif(self.minimum <= input_data < 0):\n",
    "            input_data = (input_data / self.resolution)\n",
    "            return hex(round(input_data) + self.wordSize)\n",
    "        else:\n",
    "            # overflow condition\n",
    "            pass\n",
    "        \n",
    "    def Error(self, input_data: float) -> None:\n",
    "        # Representation Error\n",
    "        integer = self.FtoR(input_data)\n",
    "        representation = self.RtoF(int(integer, 16))\n",
    "        error = abs(input_data - representation)\n",
    "        print(\"Input Value         : \", input_data)\n",
    "        print(\"Integer Value       : \", integer)\n",
    "        print(\"Fixed-point Value   : \", representation)\n",
    "        print(\"Representation Error: \", error)\n",
    "        print(\"Headroom            : \", self.headroom)\n",
    "        \n",
    "        if(abs(error) == 0):\n",
    "            print(\"dBFS                : \", 0)\n",
    "        else:\n",
    "            print(\"dBFS                : \", round(20 * math.log(error/self.headroom, 10), 2))\n"
   ]
  },
  {
   "cell_type": "code",
   "execution_count": 35,
   "id": "13a556e5",
   "metadata": {
    "scrolled": true
   },
   "outputs": [
    {
     "name": "stdout",
     "output_type": "stream",
     "text": [
      "[0, 0.999969482421875]\n",
      "['0x0', '0x7fff']\n"
     ]
    }
   ],
   "source": [
    "obj = QFromat(0, 15, 1)\n",
    "print(obj.decRange)\n",
    "print(obj.hexRange)"
   ]
  },
  {
   "cell_type": "code",
   "execution_count": 27,
   "id": "1e6af5d4",
   "metadata": {},
   "outputs": [],
   "source": [
    "# print(obj.FtoR(-2.5))\n",
    "# print(obj.FtoR(-2))\n",
    "# print(obj.FtoR(-1.5))\n",
    "# print(obj.FtoR(-1))\n",
    "# print(obj.FtoR(-0.5))\n",
    "# print(obj.FtoR(0))\n",
    "# print(obj.FtoR(0.5))\n",
    "# print(obj.FtoR(1))\n",
    "# print(obj.FtoR(1.5))\n",
    "# print(obj.FtoR(2.0))"
   ]
  },
  {
   "cell_type": "code",
   "execution_count": 4,
   "id": "64a95f37",
   "metadata": {},
   "outputs": [],
   "source": [
    "# for i in range(64):\n",
    "#     print(i, hex(i), obj.RtoF(i)) "
   ]
  },
  {
   "cell_type": "code",
   "execution_count": 18,
   "id": "2409f98c",
   "metadata": {},
   "outputs": [
    {
     "data": {
      "text/plain": [
       "'0x1000'"
      ]
     },
     "execution_count": 18,
     "metadata": {},
     "output_type": "execute_result"
    }
   ],
   "source": [
    "hex(4096)"
   ]
  },
  {
   "cell_type": "code",
   "execution_count": 33,
   "id": "4041226a",
   "metadata": {},
   "outputs": [
    {
     "data": {
      "text/plain": [
       "'0x100'"
      ]
     },
     "execution_count": 33,
     "metadata": {},
     "output_type": "execute_result"
    }
   ],
   "source": [
    "hex(256)"
   ]
  },
  {
   "cell_type": "code",
   "execution_count": 36,
   "id": "b192958e",
   "metadata": {},
   "outputs": [
    {
     "name": "stdout",
     "output_type": "stream",
     "text": [
      "[0, 127.99609375]\n",
      "['0x0', '0x7fff']\n"
     ]
    }
   ],
   "source": [
    "obj = QFromat(7, 8, 1)\n",
    "print(obj.decRange)\n",
    "print(obj.hexRange)"
   ]
  },
  {
   "cell_type": "markdown",
   "id": "56cb6aee",
   "metadata": {},
   "source": [
    "Gain recovery constan. Controls how fast or slow the gain change should recover; a high value implies slower recovery: \n",
    "    \n",
    "Q0.15, \n",
    "0 “ 0x0000, \n",
    "0.5 “ 0x4000, \n",
    "1 “ 0x7FFF, \n",
    "\n",
    "Gc(hex) “ dec2hex(round(Gc * 2^15))"
   ]
  },
  {
   "cell_type": "markdown",
   "id": "1a427476",
   "metadata": {},
   "source": [
    "Maximum window size in ms, not used when delay is set to a nonzero value: \n",
    "\n",
    "Q0.15, \n",
    "8ms “ 0x62, MaxWait(hex) “ \n",
    "dec2hex(round(MaxWait(ms)*2^15))"
   ]
  },
  {
   "cell_type": "code",
   "execution_count": 47,
   "id": "273bb11c",
   "metadata": {},
   "outputs": [
    {
     "name": "stdout",
     "output_type": "stream",
     "text": [
      "[0, 0.999969482421875]\n",
      "['0x0', '0x7fff']\n",
      "0.003021240234375\n",
      "0.00299072265625\n",
      "0.002960205078125\n"
     ]
    }
   ],
   "source": [
    "obj = QFromat(0, 15, 1)\n",
    "print(obj.decRange)\n",
    "print(obj.hexRange)\n",
    "print(obj.RtoF(0x63))\n",
    "print(obj.RtoF(0x62))\n",
    "print(obj.RtoF(0x61))"
   ]
  },
  {
   "cell_type": "markdown",
   "id": "d539e1bc",
   "metadata": {},
   "source": [
    "Threshold in dB to limit peaks: \n",
    "\n",
    "Q2.13, \n",
    "0 dB “ 0x2000, Thresh(hex) “ \n",
    "dec2hex(round(4096*10^ [Thresh(dB)/20]))"
   ]
  },
  {
   "cell_type": "code",
   "execution_count": 58,
   "id": "d609e3a7",
   "metadata": {},
   "outputs": [
    {
     "data": {
      "text/plain": [
       "'0x2000'"
      ]
     },
     "execution_count": 58,
     "metadata": {},
     "output_type": "execute_result"
    }
   ],
   "source": [
    "hex(round(4096*2))"
   ]
  },
  {
   "cell_type": "code",
   "execution_count": 60,
   "id": "292cc088",
   "metadata": {},
   "outputs": [
    {
     "data": {
      "text/plain": [
       "'0x1000'"
      ]
     },
     "execution_count": 60,
     "metadata": {},
     "output_type": "execute_result"
    }
   ],
   "source": [
    "hex(4096)"
   ]
  },
  {
   "cell_type": "markdown",
   "id": "4fc70b87",
   "metadata": {},
   "source": [
    "Makeup gain in dB to increase overall signal level after peak limiting: \n",
    "\n",
    "Q7.8, \n",
    "0 dB “ 0x0100, Gain(hex) “ \n",
    "dec2hex(round(256*10^ [Gain(dB)/20]))"
   ]
  },
  {
   "cell_type": "markdown",
   "id": "71d09bc8",
   "metadata": {},
   "source": [
    "Static input gain when aigMode is set to 0: \n",
    "\n",
    "Q3.12, 0 dB = 0x1000, \n",
    "\n",
    "staticGainL16Q12 = dec2hex(round(10^(staticGaindB /20) * 4096))"
   ]
  },
  {
   "cell_type": "markdown",
   "id": "fda7c77d",
   "metadata": {},
   "source": [
    "Attack/release time for AIG update: \n",
    "\n",
    "Q1.31, \n",
    "5000 ms = 0x0001CD5C at 8 kHz, \n",
    "10000 ms = 0x0000E6AF at 8kHz, \n",
    "gainAtRtUL32Q31 = dec2hex(round((1-exp(-2200 /fs/gainAtRtms))*2^31))"
   ]
  },
  {
   "cell_type": "code",
   "execution_count": 67,
   "id": "ac72f2e8",
   "metadata": {},
   "outputs": [
    {
     "name": "stdout",
     "output_type": "stream",
     "text": [
      "[-1, 0.9999999995343387]\n",
      "['0x80000000', '0x7fffffff']\n",
      "1.9073486328125e-06\n"
     ]
    }
   ],
   "source": [
    "obj = QFromat(1, 31, 0)\n",
    "print(obj.decRange)\n",
    "print(obj.hexRange)\n",
    "\n",
    "print(obj.RtoF(0x1000))"
   ]
  },
  {
   "cell_type": "code",
   "execution_count": 68,
   "id": "0a30dd00",
   "metadata": {},
   "outputs": [
    {
     "data": {
      "text/plain": [
       "'0x1cd5c'"
      ]
     },
     "execution_count": 68,
     "metadata": {},
     "output_type": "execute_result"
    }
   ],
   "source": [
    "hex(round((1-math.exp(-2200 /8000/5000))*pow(2, 31)))"
   ]
  },
  {
   "cell_type": "code",
   "execution_count": 69,
   "id": "d4deeaaf",
   "metadata": {},
   "outputs": [
    {
     "data": {
      "text/plain": [
       "'0xe6af'"
      ]
     },
     "execution_count": 69,
     "metadata": {},
     "output_type": "execute_result"
    }
   ],
   "source": [
    "hex(round((1-math.exp(-2200 /8000/10000))*pow(2, 31)))"
   ]
  },
  {
   "cell_type": "code",
   "execution_count": 71,
   "id": "4139b0b5",
   "metadata": {},
   "outputs": [
    {
     "data": {
      "text/plain": [
       "'0x1000'"
      ]
     },
     "execution_count": 71,
     "metadata": {},
     "output_type": "execute_result"
    }
   ],
   "source": [
    "hex(4096)"
   ]
  },
  {
   "cell_type": "code",
   "execution_count": null,
   "id": "b7fac136",
   "metadata": {},
   "outputs": [],
   "source": []
  }
 ],
 "metadata": {
  "kernelspec": {
   "display_name": "Python 3 (ipykernel)",
   "language": "python",
   "name": "python3"
  },
  "language_info": {
   "codemirror_mode": {
    "name": "ipython",
    "version": 3
   },
   "file_extension": ".py",
   "mimetype": "text/x-python",
   "name": "python",
   "nbconvert_exporter": "python",
   "pygments_lexer": "ipython3",
   "version": "3.7.0"
  }
 },
 "nbformat": 4,
 "nbformat_minor": 5
}
