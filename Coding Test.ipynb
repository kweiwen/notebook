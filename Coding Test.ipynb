{
 "cells": [
  {
   "cell_type": "markdown",
   "id": "cosmetic-design",
   "metadata": {},
   "source": [
    "有一整數陣列$nums$與一正整數$k$作為移動的窗。\n",
    "- 這個窗會由左至右滑動\n",
    "- 每次窗移動的時候只移動一個單位\n",
    "- 每次你只能透過這個窗取得$nums$中的$k$個數列\n",
    "\n",
    "返回一矩陣，此矩陣為每個滑動的窗的最大值。"
   ]
  },
  {
   "cell_type": "markdown",
   "id": "tropical-cutting",
   "metadata": {},
   "source": [
    "You are given an array of integers nums, there is a sliding window of size k which is moving from the very left of the array to the very right. You can only see the k numbers in the window. Each time the sliding window moves right by one position. Return the max sliding window."
   ]
  },
  {
   "cell_type": "markdown",
   "id": "welcome-experiment",
   "metadata": {},
   "source": [
    "Input: $nums$ = [1, 3, -1, -3, 5, 3, 6, 7], $k$ = 3 <br>\n",
    "Output: [3, 3, 5, 5, 6, 7]"
   ]
  },
  {
   "cell_type": "code",
   "execution_count": 1,
   "id": "presidential-monkey",
   "metadata": {},
   "outputs": [],
   "source": [
    "def maxSlidingWindow(nums, k):\n",
    "    output = list()\n",
    "    length = len(nums)\n",
    "    for index in range(length):\n",
    "        if(len(nums[index:index+k]) == k):\n",
    "            output.append(max(nums[index:index+k]))       \n",
    "    return output"
   ]
  },
  {
   "cell_type": "code",
   "execution_count": 2,
   "id": "coupled-answer",
   "metadata": {},
   "outputs": [],
   "source": [
    "def maxSlidingWindow(nums, k):\n",
    "    output = list()\n",
    "    length = len(nums)\n",
    "    for i in range(length-k+1):\n",
    "        max_num = nums[i]\n",
    "        for j in range(k):\n",
    "            if(nums[j+i] > max_num): \n",
    "                max_num = nums[j+i]\n",
    "        output.append(max_num)\n",
    "    return output"
   ]
  },
  {
   "cell_type": "markdown",
   "id": "interim-legend",
   "metadata": {},
   "source": [
    "有一正整數陣列$nums$\n",
    "- 從$nums$中取任意個數相加並等到總和\n",
    "- 且相鄰的數不能相加\n",
    "\n",
    "返回一整數，此整數滿足上述條件且為最大值。"
   ]
  },
  {
   "cell_type": "markdown",
   "id": "interstate-polish",
   "metadata": {},
   "source": [
    "Given an array of positive numbers nums, find the maximum sum of a subsequence with the constraint that no 2 numbers in the sequence should be adjacent in the array. Return the maximum value."
   ]
  },
  {
   "cell_type": "markdown",
   "id": "frequent-uniform",
   "metadata": {},
   "source": [
    "Input: $nums$ = [3, 2, 7, 10] <br>\n",
    "Output: 13"
   ]
  },
  {
   "cell_type": "markdown",
   "id": "lonely-coral",
   "metadata": {},
   "source": [
    "Input: $nums$ = [3, 2, 5, 10, 7] <br>\n",
    "Output: 15"
   ]
  },
  {
   "cell_type": "markdown",
   "id": "fatty-stereo",
   "metadata": {},
   "source": [
    "Input: $nums$ = [24, 25, 2, 10, 10, 21] <br>\n",
    "Output: 56"
   ]
  },
  {
   "cell_type": "code",
   "execution_count": 3,
   "id": "lonely-promotion",
   "metadata": {
    "scrolled": true
   },
   "outputs": [],
   "source": [
    "def MaximumSumNonAdjacent(nums):\n",
    "    previous_1 = 0\n",
    "    previous_2 = 0\n",
    "    res = 0\n",
    "    length = len(nums)\n",
    "    for i in range(length):\n",
    "        if(i == 0):\n",
    "            res = nums[0]\n",
    "        elif(i == 1):\n",
    "            res = max(nums[0], nums[1])\n",
    "        else:\n",
    "            res = max(previous_1, nums[i] + previous_2)\n",
    "        previous_2 = previous_1\n",
    "        previous_1 = res\n",
    "    return res"
   ]
  },
  {
   "cell_type": "code",
   "execution_count": 3,
   "id": "invisible-nepal",
   "metadata": {},
   "outputs": [],
   "source": [
    "import numpy as np"
   ]
  },
  {
   "cell_type": "code",
   "execution_count": 14,
   "id": "inside-danger",
   "metadata": {
    "scrolled": true
   },
   "outputs": [
    {
     "name": "stdout",
     "output_type": "stream",
     "text": [
      "[24, 25, 2, 10, 10, 21, 3, 2, 5, 10, 7, 1, 3, -1, -3, 5, 3, 6, 7]\n",
      "[0. 0. 0. 1. 0. 0. 0. 0. 0. 0. 0. 0. 0. 0. 1. 0. 0. 0. 0.]\n"
     ]
    }
   ],
   "source": [
    "nums = [24, 25, 2, 10, 10, 21, 3, 2, 5, 10, 7, 1, 3, -1, -3, 5, 3, 6, 7] \n",
    "labels = np.zeros(len(nums))\n",
    "labels[3] = 1\n",
    "labels[14] = 1\n",
    "print(nums)\n",
    "print(labels)"
   ]
  },
  {
   "cell_type": "code",
   "execution_count": 22,
   "id": "significant-pocket",
   "metadata": {
    "scrolled": false
   },
   "outputs": [
    {
     "name": "stdout",
     "output_type": "stream",
     "text": [
      "326.25 fft(nums[index:index+k]) 1.0\n",
      "207.25 fft(nums[index:index+k]) 1.0\n",
      "161.25 fft(nums[index:index+k]) 1.0\n",
      "162.5 fft(nums[index:index+k]) 1.0\n",
      "138.5 fft(nums[index:index+k]) 0.0\n",
      "119.75 fft(nums[index:index+k]) 0.0\n",
      "34.5 fft(nums[index:index+k]) 0.0\n",
      "44.5 fft(nums[index:index+k]) 0.0\n",
      "43.75 fft(nums[index:index+k]) 0.0\n",
      "39.75 fft(nums[index:index+k]) 0.0\n",
      "15.0 fft(nums[index:index+k]) 0.0\n",
      "5.0 fft(nums[index:index+k]) 1.0\n",
      "11.0 fft(nums[index:index+k]) 1.0\n",
      "11.0 fft(nums[index:index+k]) 1.0\n",
      "19.75 fft(nums[index:index+k]) 1.0\n",
      "29.75 fft(nums[index:index+k]) 0.0\n"
     ]
    }
   ],
   "source": [
    "k = 4\n",
    "length = len(nums)\n",
    "for index in range(length):\n",
    "    if(len(nums[index:index+k]) == k):\n",
    "        energy = np.sum(np.multiply(nums[index:index+k], nums[index:index+k]) / k)\n",
    "        print(energy, \"fft(nums[index:index+k])\", np.sum(labels[index:index+k]))"
   ]
  },
  {
   "cell_type": "code",
   "execution_count": null,
   "id": "widespread-ontario",
   "metadata": {},
   "outputs": [],
   "source": []
  }
 ],
 "metadata": {
  "kernelspec": {
   "display_name": "Python 3",
   "language": "python",
   "name": "python3"
  },
  "language_info": {
   "codemirror_mode": {
    "name": "ipython",
    "version": 3
   },
   "file_extension": ".py",
   "mimetype": "text/x-python",
   "name": "python",
   "nbconvert_exporter": "python",
   "pygments_lexer": "ipython3",
   "version": "3.7.9"
  }
 },
 "nbformat": 4,
 "nbformat_minor": 5
}
