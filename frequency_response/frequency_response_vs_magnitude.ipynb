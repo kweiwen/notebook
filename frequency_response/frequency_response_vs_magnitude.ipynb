{
 "cells": [
  {
   "cell_type": "code",
   "execution_count": 1,
   "id": "radio-hobby",
   "metadata": {},
   "outputs": [],
   "source": [
    "import numpy as np\n",
    "import matplotlib.pyplot as plt\n",
    "from scipy import signal, fft, interpolate\n",
    "import wavio"
   ]
  },
  {
   "cell_type": "code",
   "execution_count": null,
   "id": "funded-settlement",
   "metadata": {},
   "outputs": [],
   "source": [
    "raw = wavio.read(\"chirp.wav\")\n",
    "left_channel = raw.data[:, 0]\n",
    "right_channel = raw.data[:, 1]\n",
    "\n",
    "left_channel = left_channel.astype(np.float32, order='C') / 32767.0\n",
    "right_channel = right_channel.astype(np.float32, order='C') / 32767.0\n",
    "\n",
    "x = np.arange(len(left_channel))\n",
    "y = np.fft.fft(left_channel)\n",
    "linear = abs(y / len(left_channel))\n",
    "magnitude = 20 * np.log10(abs(linear))\n",
    "\n",
    "fig, axes = plt.subplots(2, 1, figsize=(10, 10))\n",
    "\n",
    "axes[0].plot(x, left_channel)\n",
    "axes[0].grid()\n",
    "\n",
    "axes[1].plot(x, magnitude)\n",
    "axes[1].grid()\n",
    "\n",
    "plt.tight_layout()\n",
    "plt.show()"
   ]
  },
  {
   "cell_type": "code",
   "execution_count": null,
   "id": "casual-broadcast",
   "metadata": {},
   "outputs": [],
   "source": [
    "raw = wavio.read(\"chirp_loop.wav\")\n",
    "left_channel = raw.data[:, 0]\n",
    "\n",
    "left_channel = left_channel.astype(np.float32, order='C') / 32767.0\n",
    "\n",
    "x = np.arange(len(left_channel))\n",
    "y = np.fft.fft(left_channel)\n",
    "linear = abs(y / len(left_channel))\n",
    "magnitude = 20 * np.log10(abs(linear))\n",
    "\n",
    "fig, axes = plt.subplots(2, 1, figsize=(10, 10))\n",
    "\n",
    "axes[0].plot(x, left_channel)\n",
    "axes[0].grid()\n",
    "\n",
    "axes[1].plot(x, magnitude)\n",
    "axes[1].grid()\n",
    "\n",
    "plt.tight_layout()\n",
    "plt.show()"
   ]
  },
  {
   "cell_type": "code",
   "execution_count": null,
   "id": "demographic-revelation",
   "metadata": {},
   "outputs": [],
   "source": [
    "raw = wavio.read(\"chirp_passthru.wav\")\n",
    "left_channel = raw.data[:, 0]\n",
    "\n",
    "left_channel = left_channel.astype(np.float32, order='C') / 32767.0\n",
    "\n",
    "x = np.arange(len(left_channel))\n",
    "y = np.fft.fft(left_channel)\n",
    "linear = abs(y / len(left_channel))\n",
    "magnitude = 20 * np.log10(abs(linear))\n",
    "\n",
    "fig, axes = plt.subplots(2, 1, figsize=(10, 10))\n",
    "\n",
    "axes[0].plot(x, left_channel)\n",
    "axes[0].grid()\n",
    "\n",
    "axes[1].plot(x, magnitude)\n",
    "axes[1].grid()\n",
    "\n",
    "plt.tight_layout()\n",
    "plt.show()"
   ]
  },
  {
   "cell_type": "code",
   "execution_count": null,
   "id": "musical-california",
   "metadata": {},
   "outputs": [],
   "source": [
    "raw = wavio.read(\"chirp_fft_ifft_passthru.wav\")\n",
    "left_channel = raw.data[:, 0]\n",
    "\n",
    "left_channel = left_channel.astype(np.float32, order='C') / 32767.0\n",
    "\n",
    "x = np.arange(len(left_channel))\n",
    "y = np.fft.fft(left_channel)\n",
    "linear = abs(y / len(left_channel))\n",
    "magnitude = 20 * np.log10(abs(linear))\n",
    "\n",
    "fig, axes = plt.subplots(2, 1, figsize=(10, 10))\n",
    "\n",
    "axes[0].plot(x, left_channel)\n",
    "axes[0].grid()\n",
    "\n",
    "axes[1].plot(x, magnitude)\n",
    "axes[1].grid()\n",
    "\n",
    "plt.tight_layout()\n",
    "plt.show()"
   ]
  }
 ],
 "metadata": {
  "kernelspec": {
   "display_name": "Python 3",
   "language": "python",
   "name": "python3"
  },
  "language_info": {
   "codemirror_mode": {
    "name": "ipython",
    "version": 3
   },
   "file_extension": ".py",
   "mimetype": "text/x-python",
   "name": "python",
   "nbconvert_exporter": "python",
   "pygments_lexer": "ipython3",
   "version": "3.7.9"
  }
 },
 "nbformat": 4,
 "nbformat_minor": 5
}
