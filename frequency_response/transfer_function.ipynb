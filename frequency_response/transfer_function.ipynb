{
 "cells": [
  {
   "cell_type": "code",
   "execution_count": 1,
   "id": "2b949405",
   "metadata": {},
   "outputs": [],
   "source": [
    "import scipy\n",
    "import numpy as np\n",
    "from scipy import signal\n",
    "from matplotlib import pyplot as plt"
   ]
  },
  {
   "cell_type": "code",
   "execution_count": 2,
   "id": "f91af1b6",
   "metadata": {},
   "outputs": [],
   "source": [
    "b = [0.5]\n",
    "a = [1, -0.5]\n",
    "\n",
    "w, h = signal.freqz(b, a)"
   ]
  },
  {
   "cell_type": "code",
   "execution_count": 3,
   "id": "ad31e713",
   "metadata": {},
   "outputs": [
    {
     "data": {
      "image/png": "[encoded data removed]",
      "text/plain": [
       "<Figure size 432x288 with 2 Axes>"
      ]
     },
     "metadata": {
      "needs_background": "light"
     },
     "output_type": "display_data"
    }
   ],
   "source": [
    "gain = np.abs(h)\n",
    "angle = np.unwrap(np.angle(h))\n",
    "\n",
    "fig, ax1 = plt.subplots()\n",
    "ax2 = ax1.twinx()\n",
    "\n",
    "plt.title('frequency response of RIR')\n",
    "plt.xlabel(r'normalized frequency (x$\\pi$rad/sample)')\n",
    "\n",
    "ax1.plot(w/max(w), gain, 'g')\n",
    "ax1.set_ylabel('gain', color='g')\n",
    "ax1.grid()\n",
    "\n",
    "ax2.plot(w/max(w), angle, 'b--')\n",
    "ax2.set_ylabel('phase (radians)', color='b')\n",
    "\n",
    "plt.show()"
   ]
  },
  {
   "cell_type": "markdown",
   "id": "128114f2",
   "metadata": {},
   "source": [
    "Transfer function could be written in below's equation:\n",
    "$$\n",
    "H(z) = \\frac{B(z)}{A(z)} = \\frac{0.5}{1 - 0.5z^{-1}}\n",
    "$$\n",
    "\n",
    "And we know:\n",
    "\n",
    "$$\n",
    "z = e^{jw}\n",
    "$$\n",
    "\n",
    "To express transfer function in polar form:\n",
    "$$\n",
    "H(e^{jw}) = \\frac{B(e^{jw})}{A(e^{jw})} = \\frac{0.5}{1 - 0.5e^{-jw}}\n",
    "$$\n",
    "\n",
    "And we like to evaluate the range from $0$ to $\\pi$ which is dc to nyquist, so $f_c$ became a variable.\n",
    "$$\n",
    "w = f_c \\pi\n",
    "$$\n",
    "\n",
    "Finally we could evaluate frequency response and phase response in below's equation:\n",
    "$$\n",
    "H(e^{j f_c \\pi}) = \\frac{0.5}{1 - 0.5e^{-j f_c \\pi}}\n",
    "$$"
   ]
  },
  {
   "cell_type": "markdown",
   "id": "abc24d1c",
   "metadata": {},
   "source": [
    "$H(e^{j f_c \\pi})$ is a complex number, which can be derived this complex number as a vector.\n",
    "\n",
    "In order to calculate the distance of the vector, we could adopt pythagorean theorem to find the amplitude under certain $f_c$, which will be:\n",
    "\n",
    "$$\n",
    "\\text{Amplitude}_{f_{c}} = \\sqrt{(\\text{H.Real}_{f_{c}})^2 + (\\text{H.Imag}_{f_{c}})^2}\n",
    "$$\n",
    "\n",
    "In order to calculate the phase of the vector, we could adopt $tan()$ and $arctan()$ to find the radius under certain $f_c$, which will be:\n",
    "\n",
    "$$\n",
    "tan(\\theta) = \\frac{\\text{H.Imag}_{f_{c}}}{\\text{H.Real}_{f_{c}}} \n",
    "$$\n",
    "$$\n",
    "\\text{Phase}_{f_{c}}(rad) = arctan(tan(\\theta))\n",
    "$$\n",
    "$$\n",
    "\\text{Phase}_{f_{c}}(deg) = \\frac{arctan(tan(\\theta))}{2 \\pi}360^{\\circ}\n",
    "$$"
   ]
  },
  {
   "cell_type": "code",
   "execution_count": 4,
   "id": "c393a9e3",
   "metadata": {},
   "outputs": [],
   "source": [
    "fc = 0.5\n",
    "A = 0.5\n",
    "B = 1 - 0.5 * np.exp(-np.pi * 1j * fc)\n",
    "H = A / B"
   ]
  },
  {
   "cell_type": "code",
   "execution_count": 5,
   "id": "296604ef",
   "metadata": {},
   "outputs": [
    {
     "name": "stdout",
     "output_type": "stream",
     "text": [
      "0.447213595499958\n",
      "-26.565051177077994\n"
     ]
    }
   ],
   "source": [
    "amplitude = np.sqrt(H.real ** 2 + H.imag **2)\n",
    "degree = np.arctan(H.imag / H.real) / (2 * np.pi) * 360\n",
    "print(amplitude)\n",
    "print(degree)"
   ]
  },
  {
   "cell_type": "code",
   "execution_count": 6,
   "id": "b5ef91be",
   "metadata": {},
   "outputs": [
    {
     "name": "stdout",
     "output_type": "stream",
     "text": [
      "0.447213595499958\n",
      "-0.4636476090008061\n"
     ]
    }
   ],
   "source": [
    "print(np.abs(H))\n",
    "print(np.angle(H))"
   ]
  }
 ],
 "metadata": {
  "kernelspec": {
   "display_name": "Python 3 (ipykernel)",
   "language": "python",
   "name": "python3"
  },
  "language_info": {
   "codemirror_mode": {
    "name": "ipython",
    "version": 3
   },
   "file_extension": ".py",
   "mimetype": "text/x-python",
   "name": "python",
   "nbconvert_exporter": "python",
   "pygments_lexer": "ipython3",
   "version": "3.10.2"
  }
 },
 "nbformat": 4,
 "nbformat_minor": 5
}
