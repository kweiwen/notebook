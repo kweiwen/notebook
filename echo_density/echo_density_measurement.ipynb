{
 "cells": [
  {
   "cell_type": "code",
   "execution_count": 1,
   "id": "a58583af",
   "metadata": {},
   "outputs": [],
   "source": [
    "from math import pi, erfc\n",
    "import numpy as np\n",
    "import scipy.signal\n",
    "import scipy.interpolate\n",
    "import matplotlib.pyplot as plt\n",
    "import wavio"
   ]
  },
  {
   "cell_type": "code",
   "execution_count": 2,
   "id": "7c7ccde1",
   "metadata": {},
   "outputs": [],
   "source": [
    "sr = 44100\n",
    "wav = wavio.read(\"dirac16_44_stereo.wav\")\n",
    "channel_data = wav.data[:, 0] / 32767.0"
   ]
  },
  {
   "cell_type": "code",
   "execution_count": 3,
   "id": "8aa89fb6",
   "metadata": {},
   "outputs": [],
   "source": [
    "# Tapped Delay Line\n",
    "\n",
    "time = np.array([1, 955, 1055, 1699, 1867, 1987, 3055, 3321])\n",
    "gain = np.array([0.6, 0.75, 0.56, 0.4, 0.3, 0.3, 0.13, 0.12])\n",
    "sample = np.around(time).astype(int)\n",
    "\n",
    "numerator = np.zeros(int(sample[-1])+1)\n",
    "denominator = 1\n",
    "\n",
    "for i in range(0, len(sample)):\n",
    "    numerator[sample[i]] = gain[i]\n",
    "    \n",
    "channel_data = scipy.signal.lfilter(numerator, denominator, channel_data)\n",
    "\n",
    "# Feedback Comb Filter\n",
    "\n",
    "lbcf_delaylist = np.array([2200, 2926, 2956, 3744])\n",
    "comb_size = len(lbcf_delaylist)\n",
    "roomsize = np.array([0.45, 0.49, 0.52, 0.39])\n",
    "damp = np.array([0.45, 0.42, 0.39, 0.36])\n",
    "\n",
    "lbcf_output = []\n",
    "\n",
    "for i in range(len(lbcf_delaylist)):\n",
    "    delaysample = lbcf_delaylist[i]\n",
    "    arraysize = delaysample + 1\n",
    "\n",
    "    numerator = np.zeros(arraysize + 1)\n",
    "    denominator = np.zeros(arraysize)\n",
    "\n",
    "    numerator[arraysize-1] = 1\n",
    "    numerator[arraysize] = -damp[i]\n",
    "\n",
    "    denominator[0] = 1\n",
    "    denominator[1] = -damp[i]\n",
    "    denominator[arraysize-1] = -roomsize[i]*(1-damp[i])\n",
    "\n",
    "    lbcf_output.append(scipy.signal.lfilter(numerator, denominator, channel_data))\n",
    "\n",
    "channel_data = sum(lbcf_output)/comb_size\n",
    "\n",
    "# All-Pass Filter\n",
    "\n",
    "g = 0.7\n",
    "apf_delaylist = np.array([1511])\n",
    "\n",
    "for i in range(len(apf_delaylist)):\n",
    "    delaysample = apf_delaylist[i]\n",
    "    arraysize = delaysample+1\n",
    "\n",
    "    numerator = np.zeros(arraysize)\n",
    "    denominator = np.zeros(arraysize)\n",
    "    \n",
    "    numerator[0] = g\n",
    "    numerator[delaysample] = 1\n",
    "\n",
    "    denominator[0] = 1\n",
    "    denominator[delaysample] = g\n",
    "    \n",
    "    channel_data = scipy.signal.lfilter(numerator, denominator, channel_data)\n",
    "    \n",
    "g = 0.7\n",
    "apf_delaylist = np.array([1523])\n",
    "\n",
    "for i in range(len(apf_delaylist)):\n",
    "    delaysample = apf_delaylist[i]\n",
    "    arraysize = delaysample+1\n",
    "\n",
    "    numerator = np.zeros(arraysize)\n",
    "    denominator = np.zeros(arraysize)\n",
    "    \n",
    "    numerator[0] = g\n",
    "    numerator[delaysample] = 1\n",
    "\n",
    "    denominator[0] = 1\n",
    "    denominator[delaysample] = g\n",
    "    \n",
    "    channel_data = scipy.signal.lfilter(numerator, denominator, channel_data)\n",
    "    \n",
    "g = 0.7\n",
    "apf_delaylist = np.array([1531])\n",
    "\n",
    "for i in range(len(apf_delaylist)):\n",
    "    delaysample = apf_delaylist[i]\n",
    "    arraysize = delaysample+1\n",
    "\n",
    "    numerator = np.zeros(arraysize)\n",
    "    denominator = np.zeros(arraysize)\n",
    "    \n",
    "    numerator[0] = g\n",
    "    numerator[delaysample] = 1\n",
    "\n",
    "    denominator[0] = 1\n",
    "    denominator[delaysample] = g\n",
    "    \n",
    "    channel_data = scipy.signal.lfilter(numerator, denominator, channel_data)   "
   ]
  },
  {
   "cell_type": "code",
   "execution_count": 4,
   "id": "3fb07a70",
   "metadata": {},
   "outputs": [
    {
     "data": {
      "image/png": "[encoded data removed]",
      "text/plain": [
       "<Figure size 432x288 with 1 Axes>"
      ]
     },
     "metadata": {
      "needs_background": "light"
     },
     "output_type": "display_data"
    }
   ],
   "source": [
    "x_axis = np.arange(len(channel_data))\n",
    "\n",
    "plt.figure(1)\n",
    "plt.suptitle('Impulse Response')\n",
    "\n",
    "plt.subplot(211)\n",
    "plt.plot(x_axis, channel_data, 'g--')\n",
    "plt.ylabel('left channel', color='g')\n",
    "plt.grid()\n",
    "\n",
    "plt.xlabel(r'time(sample)')\n",
    "\n",
    "plt.show()"
   ]
  },
  {
   "cell_type": "code",
   "execution_count": 5,
   "id": "particular-guest",
   "metadata": {},
   "outputs": [],
   "source": [
    "def echoDensity(IR, N, fs, preDelay):\n",
    "    mixingThresh = 1.0\n",
    "    s = np.zeros(len(IR))\n",
    "    echo_dens = np.zeros(len(IR))\n",
    "\n",
    "    wTau = scipy.signal.hann(N).T\n",
    "    wTau = wTau / sum(wTau)\n",
    "    halfWin = round(N / 2)\n",
    "\n",
    "    sparseInd = np.arange(0, len(IR), 500)\n",
    "\n",
    "    for n in sparseInd:\n",
    "        if n <= halfWin + 1:\n",
    "            hTau = IR[0:n + halfWin].T\n",
    "            # end = int(wTau[-1])\n",
    "            wT = wTau[(-1 - halfWin - n + 1):]\n",
    "\n",
    "        elif (n > halfWin+1) and (n <= len(IR)-halfWin+1):\n",
    "            hTau = IR[(n - halfWin):(n + halfWin)].T\n",
    "            wT = wTau\n",
    "\n",
    "        elif n > len(IR)-halfWin+1:\n",
    "            hTau = IR[n - halfWin:].T\n",
    "            wT = wTau[0:len(hTau)]\n",
    "\n",
    "        s[n] = np.sqrt(np.dot(wT, (hTau * hTau)))\n",
    "\n",
    "        tipCt = np.zeros(len(hTau))\n",
    "        for i in range(len(hTau)):\n",
    "            if abs(hTau[i]) > s[n]:\n",
    "                tipCt[i] = 1\n",
    "            else:\n",
    "                tipCt[i] = 0\n",
    "\n",
    "        echo_dens[n] = np.dot(wT, tipCt.T)\n",
    "\n",
    "    echo_dens = echo_dens / erfc(1 / np.sqrt(2))\n",
    "    fill = np.arange(0, len(IR))\n",
    "    echo_dens_new = scipy.interpolate.interp1d(sparseInd, echo_dens[sparseInd],axis=0, fill_value=\"extrapolate\")\n",
    "        # a = (echo_dens[sparseInd])\n",
    "        # d = np.argwhere(echo_dens > mixingThresh)[0]\n",
    "        # t_abel = (d -preDelay)/fs * 1000\n",
    "    return echo_dens_new(fill)"
   ]
  },
  {
   "cell_type": "code",
   "execution_count": 6,
   "id": "08568bf9",
   "metadata": {},
   "outputs": [],
   "source": [
    "mean = sum(channel_data)/len(channel_data)\n",
    "result = echoDensity(channel_data - mean, 1024, sr, 0)"
   ]
  },
  {
   "cell_type": "code",
   "execution_count": 10,
   "id": "9bcf55cc",
   "metadata": {},
   "outputs": [],
   "source": [
    "def Echo_Density_Measure(raw_input_data, beta):\n",
    "    \n",
    "    # to make data to be zero mean\n",
    "    mean = np.full((len(raw_input_data)), sum(raw_input_data) / len(raw_input_data))\n",
    "    input_data = raw_input_data - mean\n",
    "    \n",
    "    # total size of rendered impulse response\n",
    "    size = len(input_data)\n",
    "    \n",
    "    # to make a full window from beta(half window size)\n",
    "    window_size = 2 * beta + 1\n",
    "    \n",
    "    # to storage frame \n",
    "    buffer = np.zeros(window_size)\n",
    "    \n",
    "    # to storage indicator function result\n",
    "    indicatorBuffer = np.zeros(window_size)\n",
    "    \n",
    "    # iteration of sliding index \n",
    "    slidingFrame = size - window_size + 1\n",
    "    outputBuffer = np.zeros(slidingFrame)\n",
    "    \n",
    "    for tau in range(slidingFrame):\n",
    "        start = tau\n",
    "        end = tau + window_size\n",
    "        buffer = input_data[start:end]\n",
    "        sd = np.sqrt(np.dot(buffer, buffer) / window_size)\n",
    "        \n",
    "        for index, element in enumerate(buffer): \n",
    "            indicatorBuffer[index] = Indicator_Function(element, sd)\n",
    "        outputBuffer[tau] = sum(indicatorBuffer) / window_size / erfc(1 / np.sqrt(2))\n",
    "    \n",
    "    return outputBuffer\n",
    "\n",
    "def Indicator_Function(input_data, standard_deviation):\n",
    "    if(input_data > standard_deviation): \n",
    "        return 1\n",
    "    else:\n",
    "        return 0"
   ]
  },
  {
   "cell_type": "code",
   "execution_count": 11,
   "id": "d3b74c56",
   "metadata": {},
   "outputs": [],
   "source": [
    "beta = 128\n",
    "res = Echo_Density_Measure(channel_data, beta)"
   ]
  },
  {
   "cell_type": "code",
   "execution_count": 12,
   "id": "25f7abec",
   "metadata": {},
   "outputs": [
    {
     "data": {
      "image/png": "[encoded data removed]",
      "text/plain": [
       "<Figure size 432x288 with 1 Axes>"
      ]
     },
     "metadata": {
      "needs_background": "light"
     },
     "output_type": "display_data"
    }
   ],
   "source": [
    "plt.figure(1)\n",
    "plt.suptitle('Echo Density')\n",
    "\n",
    "plt.subplot(211)\n",
    "plt.plot(res, 'g--')\n",
    "plt.grid()\n",
    "\n",
    "plt.xlabel(r'time(sample)')\n",
    "\n",
    "plt.show()"
   ]
  },
  {
   "cell_type": "code",
   "execution_count": null,
   "id": "8a643fd5",
   "metadata": {},
   "outputs": [],
   "source": []
  }
 ],
 "metadata": {
  "kernelspec": {
   "display_name": "Python 3 (ipykernel)",
   "language": "python",
   "name": "python3"
  },
  "language_info": {
   "codemirror_mode": {
    "name": "ipython",
    "version": 3
   },
   "file_extension": ".py",
   "mimetype": "text/x-python",
   "name": "python",
   "nbconvert_exporter": "python",
   "pygments_lexer": "ipython3",
   "version": "3.7.0"
  }
 },
 "nbformat": 4,
 "nbformat_minor": 5
}
