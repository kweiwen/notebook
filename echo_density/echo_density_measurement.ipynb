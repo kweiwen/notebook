{
 "cells": [
  {
   "cell_type": "code",
   "execution_count": 1,
   "id": "particular-guest",
   "metadata": {},
   "outputs": [],
   "source": [
    "def echoDensity(self, IR, N, fs, preDelay):\n",
    "        mixingThresh = 1.0\n",
    "        s = np.zeros(len(IR))\n",
    "        echo_dens = np.zeros(len(IR))\n",
    "\n",
    "        wTau = signal.hann(N).T\n",
    "        wTau = wTau / sum(wTau)\n",
    "        halfWin = round(N / 2)\n",
    "\n",
    "        sparseInd = np.arange(0, len(IR), 500)\n",
    "\n",
    "        for n in sparseInd:\n",
    "            if n <= halfWin + 1:\n",
    "                hTau = IR[0:n + halfWin].T\n",
    "                # end = int(wTau[-1])\n",
    "                wT = wTau[(-1 - halfWin - n + 1):]\n",
    "\n",
    "            elif (n > halfWin+1) and (n <= len(IR)-halfWin+1):\n",
    "                hTau = IR[(n - halfWin):(n + halfWin)].T\n",
    "                wT = wTau\n",
    "\n",
    "            elif n > len(IR)-halfWin+1:\n",
    "                hTau = IR[n - halfWin:].T\n",
    "                wT = wTau[0:len(hTau)]\n",
    "\n",
    "            s[n] = np.sqrt(np.dot(wT, (hTau * hTau)))\n",
    "\n",
    "            tipCt = np.zeros(len(hTau))\n",
    "            for i in range(len(hTau)):\n",
    "                if abs(hTau[i]) > s[n]:\n",
    "                    tipCt[i] = 1\n",
    "                else:\n",
    "                    tipCt[i] = 0\n",
    "\n",
    "            echo_dens[n] = np.dot(wT, tipCt.T)\n",
    "\n",
    "        echo_dens = echo_dens / erfc(1 / sqrt(2))\n",
    "        fill = np.arange(0, len(IR))\n",
    "        a = (echo_dens[sparseInd])\n",
    "        echo_dens_new = interpolate.interp1d(sparseInd, echo_dens[sparseInd],axis=0, fill_value=\"extrapolate\")\n",
    "        # d = np.argwhere(echo_dens > mixingThresh)[0]\n",
    "        # t_abel = (d -preDelay)/fs * 1000\n",
    "\n",
    "        return echo_dens_new(fill)"
   ]
  },
  {
   "cell_type": "code",
   "execution_count": null,
   "id": "relevant-output",
   "metadata": {},
   "outputs": [],
   "source": []
  }
 ],
 "metadata": {
  "kernelspec": {
   "display_name": "Python 3",
   "language": "python",
   "name": "python3"
  },
  "language_info": {
   "codemirror_mode": {
    "name": "ipython",
    "version": 3
   },
   "file_extension": ".py",
   "mimetype": "text/x-python",
   "name": "python",
   "nbconvert_exporter": "python",
   "pygments_lexer": "ipython3",
   "version": "3.7.9"
  }
 },
 "nbformat": 4,
 "nbformat_minor": 5
}
