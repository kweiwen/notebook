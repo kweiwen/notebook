{
 "cells": [
  {
   "cell_type": "code",
   "execution_count": 1,
   "metadata": {},
   "outputs": [],
   "source": [
    "import numpy as np\n",
    "import matplotlib.pylab as plt\n",
    "import padasip as pa\n",
    "from padasip.filters.fxlms import FilterFxLMS"
   ]
  },
  {
   "cell_type": "code",
   "execution_count": 12,
   "metadata": {},
   "outputs": [],
   "source": [
    "# creation of data\n",
    "N = 500\n",
    "x = np.random.normal(0, 1, (N, 4)) # input matrix\n",
    "v = np.random.normal(0, 0.1, N) # noise\n",
    "d = 2*x[:,0] + 0.1*x[:,1] - 4*x[:,2] + 0.5*x[:,3] + v # target"
   ]
  },
  {
   "cell_type": "code",
   "execution_count": 14,
   "metadata": {},
   "outputs": [],
   "source": [
    "# identification\n",
    "f = FilterFxLMS(n=4, mu=0.1, w=\"random\")\n",
    "y, e, w = f.run(d, x)"
   ]
  },
  {
   "cell_type": "code",
   "execution_count": null,
   "metadata": {},
   "outputs": [],
   "source": [
    "## show results\n",
    "plt.figure(figsize=(15,9))\n",
    "plt.subplot(211);plt.title(\"Adaptation\");plt.xlabel(\"samples - k\")\n",
    "plt.plot(d,\"b\", label=\"d - target\")\n",
    "plt.plot(y,\"g\", label=\"y - output\");plt.legend()\n",
    "plt.subplot(212);plt.title(\"Filter error\");plt.xlabel(\"samples - k\")\n",
    "plt.plot(10*np.log10(e**2),\"r\", label=\"e - error [dB]\");plt.legend()\n",
    "plt.tight_layout()\n",
    "plt.show()"
   ]
  }
 ],
 "metadata": {
  "kernelspec": {
   "display_name": "Python 3",
   "language": "python",
   "name": "python3"
  },
  "language_info": {
   "codemirror_mode": {
    "name": "ipython",
    "version": 3
   },
   "file_extension": ".py",
   "mimetype": "text/x-python",
   "name": "python",
   "nbconvert_exporter": "python",
   "pygments_lexer": "ipython3",
   "version": "3.7.2"
  }
 },
 "nbformat": 4,
 "nbformat_minor": 4
}
