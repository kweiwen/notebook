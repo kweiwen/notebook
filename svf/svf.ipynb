{
 "cells": [
  {
   "cell_type": "code",
   "execution_count": 1,
   "id": "technical-narrative",
   "metadata": {},
   "outputs": [],
   "source": [
    "import numpy as np\n",
    "import matplotlib.pyplot as plt\n",
    "import random\n",
    "import math"
   ]
  },
  {
   "cell_type": "code",
   "execution_count": 2,
   "id": "legitimate-librarian",
   "metadata": {},
   "outputs": [],
   "source": [
    "class SVF():\n",
    "    def __init__(self, cutoffFrequency, sampleRate, resonance):\n",
    "        self.g  = (math.pi * cutoffFrequency / sampleRate)\n",
    "        self.R2 = (1.0 / resonance);\n",
    "        self.h  = (1.0 / (1.0 + self.R2 * self.g + self.g * self.g))\n",
    "        self.reset()\n",
    "    \n",
    "    def reset(self):\n",
    "        self.s1 = 0\n",
    "        self.s2 = 0\n",
    "        \n",
    "        self.HP = 0\n",
    "        self.BP = 0\n",
    "        self.LP = 0\n",
    "    \n",
    "    def process(self, sample):\n",
    "        self.HP = (sample - self.s1 * self.R2 - self.s1 * self.g - self.s2) * self.h\n",
    "    \n",
    "        self.BP = self.HP * self.g + self.s1\n",
    "        self.s1 = self.HP * self.g + self.BP\n",
    "\n",
    "        self.LP = self.BP * self.g + self.s2\n",
    "        self.s2 = self.BP * self.g + self.LP\n",
    "        \n",
    "        return self.HP, self.BP, self.LP"
   ]
  },
  {
   "cell_type": "code",
   "execution_count": 3,
   "id": "opponent-marble",
   "metadata": {},
   "outputs": [],
   "source": [
    "N = 32768\n",
    "F_S = 48e3 # Sample Rate in Hz (48 kHz)\n",
    "F_C = 1500\n",
    "F_Q = 1.414\n",
    "\n",
    "# Generate a list of random noise.\n",
    "noise = [random.random() for a in range(N)]\n",
    "# Remove any DC offset from the noise - comment out if not required.\n",
    "noise = np.array(noise) - np.mean(noise)\n",
    "\n",
    "# Create an instance of the filter with the default settings\n",
    "f = SVF(F_C, F_S, F_Q)\n",
    "\n",
    "output = np.empty((N,3))\n",
    "\n",
    "for index, sample in enumerate(noise):\n",
    "    hp, bp, lp = f.process(sample)\n",
    "    output[index][0] = hp\n",
    "    output[index][1] = bp\n",
    "    output[index][2] = lp"
   ]
  },
  {
   "cell_type": "code",
   "execution_count": 4,
   "id": "seven-medicaid",
   "metadata": {},
   "outputs": [],
   "source": [
    "# Generate X scales for the graphs\n",
    "time_array = np.linspace(0, 1/F_S * N, N)\n",
    "freq_array = np.linspace(0, F_S, N)\n",
    "    \n",
    "# Take and FFT of the noise and make it real\n",
    "noise_fft = np.abs(np.fft.fft(noise))\n",
    "\n",
    "hp_fft = np.abs(np.fft.fft(output[:,0]))\n",
    "bp_fft = np.abs(np.fft.fft(output[:,1]))\n",
    "lp_fft = np.abs(np.fft.fft(output[:,2]))"
   ]
  },
  {
   "cell_type": "code",
   "execution_count": 5,
   "id": "accurate-amino",
   "metadata": {},
   "outputs": [
    {
     "data": {
      "image/png": "[encoded data removed]",
      "text/plain": [
       "<Figure size 432x288 with 4 Axes>"
      ]
     },
     "metadata": {
      "needs_background": "light"
     },
     "output_type": "display_data"
    }
   ],
   "source": [
    "# New figure with a large title\n",
    "plt.figure(1)\n",
    "\n",
    "# Plot time domain noise in top left\n",
    "plt.subplot(2,2,1)\n",
    "plt.plot(freq_array[:N // 2], noise_fft[:N // 2])\n",
    "plt.xscale(\"log\", base=2)\n",
    "\n",
    "# Plot frequency domain noise in bottom left\n",
    "plt.subplot(2,2,2)\n",
    "plt.plot(freq_array[:N // 2], hp_fft[:N // 2])\n",
    "plt.xscale(\"log\", base=2)\n",
    "\n",
    "# Plot time domain filtered noise in top right\n",
    "plt.subplot(2,2,3)\n",
    "plt.plot(freq_array[:N // 2], bp_fft[:N // 2])\n",
    "plt.xscale(\"log\", base=2)\n",
    "\n",
    "# Plot frequency domain filtered noise in bottom right\n",
    "plt.subplot(2,2,4)\n",
    "plt.plot(freq_array[:N // 2], lp_fft[:N // 2])\n",
    "plt.xscale(\"log\", base=2)\n",
    "\n",
    "# Show the plot and wait\n",
    "plt.show()"
   ]
  }
 ],
 "metadata": {
  "kernelspec": {
   "display_name": "Python 3",
   "language": "python",
   "name": "python3"
  },
  "language_info": {
   "codemirror_mode": {
    "name": "ipython",
    "version": 3
   },
   "file_extension": ".py",
   "mimetype": "text/x-python",
   "name": "python",
   "nbconvert_exporter": "python",
   "pygments_lexer": "ipython3",
   "version": "3.7.9"
  }
 },
 "nbformat": 4,
 "nbformat_minor": 5
}
