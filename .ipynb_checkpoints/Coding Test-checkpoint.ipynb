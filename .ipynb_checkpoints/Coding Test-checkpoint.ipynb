{
 "cells": [
  {
   "cell_type": "markdown",
   "id": "cosmetic-design",
   "metadata": {},
   "source": [
    "有一整數陣列$nums$與一正整數$k$作為移動的窗，這個窗會由左至右滑動，且每次窗移動的時候只移動一個單位，你能得到長度為$k$的陣列，以返回矩陣表示每個窗值的最大值。"
   ]
  },
  {
   "cell_type": "markdown",
   "id": "tropical-cutting",
   "metadata": {},
   "source": [
    "You are given an array of integers nums, there is a sliding window of size k which is moving from the very left of the array to the very right. You can only see the k numbers in the window. Each time the sliding window moves right by one position. Return the max sliding window."
   ]
  },
  {
   "cell_type": "markdown",
   "id": "welcome-experiment",
   "metadata": {},
   "source": [
    "Input: $nums$ = [1, 3, -1, -3, 5, 3, 6, 7], $k$ = 3 <br>\n",
    "Output: [3, 3, 5, 5, 6, 7]"
   ]
  },
  {
   "cell_type": "code",
   "execution_count": 1,
   "id": "presidential-monkey",
   "metadata": {},
   "outputs": [],
   "source": [
    "def maxSlidingWindow(nums, k):\n",
    "    output = list()\n",
    "    length = len(nums)\n",
    "    for index in range(length):\n",
    "        if(len(nums[index:index+k]) == k):\n",
    "            output.append(max(nums[index:index+k]))       \n",
    "    return output"
   ]
  },
  {
   "cell_type": "code",
   "execution_count": 2,
   "id": "coupled-answer",
   "metadata": {},
   "outputs": [],
   "source": [
    "def maxSlidingWindow(nums, k):\n",
    "    output = list()\n",
    "    length = len(nums)\n",
    "    for i in range(length-k+1):\n",
    "        max_num = nums[i]\n",
    "        for j in range(k):\n",
    "            if(nums[j+i] > max_num): \n",
    "                max_num = nums[j+i]\n",
    "        output.append(max_num)\n",
    "    return output"
   ]
  },
  {
   "cell_type": "markdown",
   "id": "interim-legend",
   "metadata": {},
   "source": [
    "有一正整數陣列$nums$，找到$nums$最大的總和且滿足連續的數列不相鄰。"
   ]
  },
  {
   "cell_type": "markdown",
   "id": "interstate-polish",
   "metadata": {},
   "source": [
    "Given an array of positive numbers nums, find the maximum sum of a subsequence with the constraint that no 2 numbers in the sequence should be adjacent in the array. Return the maximum value."
   ]
  },
  {
   "cell_type": "markdown",
   "id": "frequent-uniform",
   "metadata": {},
   "source": [
    "Input: $nums$ = [3, 2, 7, 10] <br>\n",
    "Output: 13"
   ]
  },
  {
   "cell_type": "markdown",
   "id": "lonely-coral",
   "metadata": {},
   "source": [
    "Input: $nums$ = [3, 2, 5, 10, 7] <br>\n",
    "Output: 15"
   ]
  },
  {
   "cell_type": "markdown",
   "id": "fatty-stereo",
   "metadata": {},
   "source": [
    "Input: $nums$ = [24, 25, 2, 10, 10, 21] <br>\n",
    "Output: 56"
   ]
  },
  {
   "cell_type": "code",
   "execution_count": 3,
   "id": "lonely-promotion",
   "metadata": {
    "scrolled": true
   },
   "outputs": [],
   "source": [
    "def MaximumSumNonAdjacent(nums):\n",
    "    previous_1 = 0\n",
    "    previous_2 = 0\n",
    "    res = 0\n",
    "    length = len(nums)\n",
    "    for i in range(length):\n",
    "        if(i == 0):\n",
    "            res = nums[0]\n",
    "        elif(i == 1):\n",
    "            res = max(nums[0], nums[1])\n",
    "        else:\n",
    "            res = max(previous_1, nums[i] + previous_2)\n",
    "        previous_2 = previous_1\n",
    "        previous_1 = res\n",
    "    return res"
   ]
  }
 ],
 "metadata": {
  "kernelspec": {
   "display_name": "Python 3",
   "language": "python",
   "name": "python3"
  },
  "language_info": {
   "codemirror_mode": {
    "name": "ipython",
    "version": 3
   },
   "file_extension": ".py",
   "mimetype": "text/x-python",
   "name": "python",
   "nbconvert_exporter": "python",
   "pygments_lexer": "ipython3",
   "version": "3.7.9"
  }
 },
 "nbformat": 4,
 "nbformat_minor": 5
}
