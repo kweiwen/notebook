{
 "cells": [
  {
   "cell_type": "markdown",
   "id": "07521860",
   "metadata": {},
   "source": [
    "###   Cross-Correlation vs. Convolution\n",
    "\n",
    "$$\n",
    "G = h \\otimes F \\\\\n",
    "G(i,j) = \\sum_{u=-k}^{k} \\sum_{v=-k}^{k} h(u,v)F(i+u,j+v)\n",
    "$$\n",
    "\n",
    "$$\n",
    "G = h \\ast F \\\\\n",
    "G(i,j) = \\sum_{u=-k}^{k} \\sum_{v=-k}^{k} h(u,v)F(i-u,j-v)\n",
    "$$"
   ]
  },
  {
   "cell_type": "markdown",
   "id": "3c284010",
   "metadata": {},
   "source": [
    "### Finite Impulse Response Convolution\n",
    "\n",
    "$$\n",
    "y(n) = \\sum_{k=0}^{M-1}h(k)x(n-k)\n",
    "$$"
   ]
  },
  {
   "cell_type": "code",
   "execution_count": null,
   "id": "7bdfba37",
   "metadata": {},
   "outputs": [],
   "source": []
  }
 ],
 "metadata": {
  "kernelspec": {
   "display_name": "Python 3 (ipykernel)",
   "language": "python",
   "name": "python3"
  },
  "language_info": {
   "codemirror_mode": {
    "name": "ipython",
    "version": 3
   },
   "file_extension": ".py",
   "mimetype": "text/x-python",
   "name": "python",
   "nbconvert_exporter": "python",
   "pygments_lexer": "ipython3",
   "version": "3.7.0"
  }
 },
 "nbformat": 4,
 "nbformat_minor": 5
}
