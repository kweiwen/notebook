{
 "cells": [
  {
   "cell_type": "code",
   "execution_count": 1,
   "id": "5f92f9e2",
   "metadata": {},
   "outputs": [],
   "source": [
    "# from msl.loadlib import LoadLibrary\n",
    "# from msl.examples.loadlib import EXAMPLES_DIR\n",
    "\n",
    "# net = LoadLibrary(EXAMPLES_DIR + '/dotnet_lib64.dll', 'net')\n",
    "# for item in dir(net.lib):\n",
    "#     if not item.startswith('_'):\n",
    "#         attr = getattr(net.lib, item)\n",
    "#         print('{} {}'.format(item, type(attr)))"
   ]
  },
  {
   "cell_type": "code",
   "execution_count": 1,
   "id": "f9a61c3b",
   "metadata": {},
   "outputs": [],
   "source": [
    "import clr  # need this to import types from system\n",
    "from System import Double, Byte, Boolean"
   ]
  },
  {
   "cell_type": "code",
   "execution_count": 2,
   "id": "1da68ae1",
   "metadata": {},
   "outputs": [],
   "source": [
    "# from msl.examples.loadlib import Cpp64\n",
    "# cpp = Cpp64()\n",
    "# cpp.add(1,2)"
   ]
  },
  {
   "cell_type": "code",
   "execution_count": 2,
   "id": "20a52ec5",
   "metadata": {},
   "outputs": [],
   "source": [
    "from dotnet64 import DotNet64\n",
    "# dn = DotNet64()\n",
    "# dn.get_class_names()"
   ]
  },
  {
   "cell_type": "code",
   "execution_count": null,
   "id": "f5691165",
   "metadata": {},
   "outputs": [],
   "source": [
    "# dn.add_integers(1,2)"
   ]
  },
  {
   "cell_type": "code",
   "execution_count": 1,
   "id": "e2499656",
   "metadata": {},
   "outputs": [],
   "source": [
    "from dotnet32 import DotNet32"
   ]
  },
  {
   "cell_type": "code",
   "execution_count": 2,
   "id": "db0d5feb",
   "metadata": {},
   "outputs": [
    {
     "ename": "BadImageFormatException",
     "evalue": "Could not load file or assembly 'dotnet_lib32.dll' or one of its dependencies.  is not a valid Win32 application. (Exception from HRESULT: 0x800700C1)\n   at System.Reflection.RuntimeAssembly.nLoadFile(String path, Evidence evidence)\r\n   at System.Reflection.Assembly.LoadFile(String path)",
     "output_type": "error",
     "traceback": [
      "\u001b[1;31m---------------------------------------------------------------------------\u001b[0m",
      "\u001b[1;31mBadImageFormatException\u001b[0m                   Traceback (most recent call last)",
      "\u001b[1;32mC:\\Users\\ZENGKU~1\\AppData\\Local\\Temp/ipykernel_5232/3862162442.py\u001b[0m in \u001b[0;36m<module>\u001b[1;34m\u001b[0m\n\u001b[1;32m----> 1\u001b[1;33m \u001b[0ma\u001b[0m \u001b[1;33m=\u001b[0m \u001b[0mDotNet32\u001b[0m\u001b[1;33m(\u001b[0m\u001b[0mhost\u001b[0m\u001b[1;33m=\u001b[0m\u001b[1;34m'127.0.0.1'\u001b[0m\u001b[1;33m,\u001b[0m \u001b[0mport\u001b[0m\u001b[1;33m=\u001b[0m\u001b[1;32mNone\u001b[0m\u001b[1;33m)\u001b[0m\u001b[1;33m\u001b[0m\u001b[0m\n\u001b[0m",
      "\u001b[1;32mD:\\Projects\\pitki\\dll_wrapper\\dotnet32.py\u001b[0m in \u001b[0;36m__init__\u001b[1;34m(self, host, port, **kwargs)\u001b[0m\n\u001b[0;32m     36\u001b[0m         \"\"\"\n\u001b[0;32m     37\u001b[0m \u001b[1;31m#         super(DotNet32, self).__init__('QACTLib.dll', 'net', host, port)\u001b[0m\u001b[1;33m\u001b[0m\u001b[1;33m\u001b[0m\u001b[0m\n\u001b[1;32m---> 38\u001b[1;33m         \u001b[0msuper\u001b[0m\u001b[1;33m(\u001b[0m\u001b[0mDotNet32\u001b[0m\u001b[1;33m,\u001b[0m \u001b[0mself\u001b[0m\u001b[1;33m)\u001b[0m\u001b[1;33m.\u001b[0m\u001b[0m__init__\u001b[0m\u001b[1;33m(\u001b[0m\u001b[1;34m'dotnet_lib32.dll'\u001b[0m\u001b[1;33m,\u001b[0m \u001b[1;34m'net'\u001b[0m\u001b[1;33m,\u001b[0m \u001b[0mhost\u001b[0m\u001b[1;33m,\u001b[0m \u001b[0mport\u001b[0m\u001b[1;33m)\u001b[0m\u001b[1;33m\u001b[0m\u001b[0m\n\u001b[0m\u001b[0;32m     39\u001b[0m \u001b[1;33m\u001b[0m\u001b[0m\n\u001b[0;32m     40\u001b[0m         \u001b[0mprint\u001b[0m\u001b[1;33m(\u001b[0m\u001b[0mos\u001b[0m\u001b[1;33m.\u001b[0m\u001b[0mpath\u001b[0m\u001b[1;33m.\u001b[0m\u001b[0mdirname\u001b[0m\u001b[1;33m(\u001b[0m\u001b[0m__file__\u001b[0m\u001b[1;33m)\u001b[0m\u001b[1;33m)\u001b[0m\u001b[1;33m\u001b[0m\u001b[0m\n",
      "\u001b[1;32m~\\AppData\\Roaming\\Python\\Python37\\site-packages\\msl\\loadlib\\server32.py\u001b[0m in \u001b[0;36m__init__\u001b[1;34m(self, path, libtype, host, port, *args, **kwargs)\u001b[0m\n\u001b[0;32m     70\u001b[0m             \u001b[0mAll\u001b[0m \u001b[0mkeyword\u001b[0m \u001b[0marguments\u001b[0m \u001b[0mare\u001b[0m \u001b[0mpassed\u001b[0m \u001b[0mto\u001b[0m \u001b[1;33m:\u001b[0m\u001b[1;32mclass\u001b[0m\u001b[1;33m:\u001b[0m\u001b[0;31m`\u001b[0m\u001b[1;33m.\u001b[0m\u001b[0mLoadLibrary\u001b[0m\u001b[0;31m`\u001b[0m\u001b[1;33m.\u001b[0m\u001b[1;33m\u001b[0m\u001b[0m\n\u001b[0;32m     71\u001b[0m         \"\"\"\n\u001b[1;32m---> 72\u001b[1;33m         \u001b[0mself\u001b[0m\u001b[1;33m.\u001b[0m\u001b[0m_library\u001b[0m \u001b[1;33m=\u001b[0m \u001b[0mLoadLibrary\u001b[0m\u001b[1;33m(\u001b[0m\u001b[0mpath\u001b[0m\u001b[1;33m,\u001b[0m \u001b[0mlibtype\u001b[0m\u001b[1;33m=\u001b[0m\u001b[0mlibtype\u001b[0m\u001b[1;33m,\u001b[0m \u001b[1;33m**\u001b[0m\u001b[0mkwargs\u001b[0m\u001b[1;33m)\u001b[0m\u001b[1;33m\u001b[0m\u001b[0m\n\u001b[0m\u001b[0;32m     73\u001b[0m         \u001b[0mself\u001b[0m\u001b[1;33m.\u001b[0m\u001b[0m_assembly\u001b[0m \u001b[1;33m=\u001b[0m \u001b[0mself\u001b[0m\u001b[1;33m.\u001b[0m\u001b[0m_library\u001b[0m\u001b[1;33m.\u001b[0m\u001b[0massembly\u001b[0m\u001b[1;33m\u001b[0m\u001b[0m\n\u001b[0;32m     74\u001b[0m         \u001b[0mself\u001b[0m\u001b[1;33m.\u001b[0m\u001b[0m_lib\u001b[0m \u001b[1;33m=\u001b[0m \u001b[0mself\u001b[0m\u001b[1;33m.\u001b[0m\u001b[0m_library\u001b[0m\u001b[1;33m.\u001b[0m\u001b[0mlib\u001b[0m\u001b[1;33m\u001b[0m\u001b[0m\n",
      "\u001b[1;32m~\\AppData\\Roaming\\Python\\Python37\\site-packages\\msl\\loadlib\\load_library.py\u001b[0m in \u001b[0;36m__init__\u001b[1;34m(self, path, libtype, **kwargs)\u001b[0m\n\u001b[0;32m    284\u001b[0m                 \u001b[1;31m# loading the library failed and ask them to re-run their Python\u001b[0m\u001b[1;33m\u001b[0m\u001b[1;33m\u001b[0m\u001b[0m\n\u001b[0;32m    285\u001b[0m                 \u001b[1;31m# script to load the .NET library.\u001b[0m\u001b[1;33m\u001b[0m\u001b[1;33m\u001b[0m\u001b[0m\n\u001b[1;32m--> 286\u001b[1;33m                 \u001b[0mself\u001b[0m\u001b[1;33m.\u001b[0m\u001b[0m_assembly\u001b[0m \u001b[1;33m=\u001b[0m \u001b[0mSystem\u001b[0m\u001b[1;33m.\u001b[0m\u001b[0mReflection\u001b[0m\u001b[1;33m.\u001b[0m\u001b[0mAssembly\u001b[0m\u001b[1;33m.\u001b[0m\u001b[0mLoadFile\u001b[0m\u001b[1;33m(\u001b[0m\u001b[0mself\u001b[0m\u001b[1;33m.\u001b[0m\u001b[0m_path\u001b[0m\u001b[1;33m)\u001b[0m\u001b[1;33m\u001b[0m\u001b[0m\n\u001b[0m\u001b[0;32m    287\u001b[0m \u001b[1;33m\u001b[0m\u001b[0m\n\u001b[0;32m    288\u001b[0m             \u001b[1;32mexcept\u001b[0m \u001b[0mSystem\u001b[0m\u001b[1;33m.\u001b[0m\u001b[0mIO\u001b[0m\u001b[1;33m.\u001b[0m\u001b[0mFileLoadException\u001b[0m \u001b[1;32mas\u001b[0m \u001b[0merr\u001b[0m\u001b[1;33m:\u001b[0m\u001b[1;33m\u001b[0m\u001b[0m\n",
      "\u001b[1;31mBadImageFormatException\u001b[0m: Could not load file or assembly 'dotnet_lib32.dll' or one of its dependencies.  is not a valid Win32 application. (Exception from HRESULT: 0x800700C1)\n   at System.Reflection.RuntimeAssembly.nLoadFile(String path, Evidence evidence)\r\n   at System.Reflection.Assembly.LoadFile(String path)"
     ]
    }
   ],
   "source": [
    "a = DotNet32(host='127.0.0.1', port=None)"
   ]
  },
  {
   "cell_type": "code",
   "execution_count": null,
   "id": "4a9182d0",
   "metadata": {},
   "outputs": [],
   "source": []
  }
 ],
 "metadata": {
  "kernelspec": {
   "display_name": "Python 3 (ipykernel)",
   "language": "python",
   "name": "python3"
  },
  "language_info": {
   "codemirror_mode": {
    "name": "ipython",
    "version": 3
   },
   "file_extension": ".py",
   "mimetype": "text/x-python",
   "name": "python",
   "nbconvert_exporter": "python",
   "pygments_lexer": "ipython3",
   "version": "3.7.0"
  }
 },
 "nbformat": 4,
 "nbformat_minor": 5
}
