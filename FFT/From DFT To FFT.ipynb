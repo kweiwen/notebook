{
 "cells": [
  {
   "cell_type": "markdown",
   "metadata": {},
   "source": [
    "Below is the formula of DFT(Discrete Fourier Transform), $k$ denotes frequency index, $n$ detnoes sample index, $N$ denotes the sample rate of data.\n",
    "\n",
    "$$\n",
    "\\hat{x}[k] = \\sum_{n = 0}^{N-1} x[n] e^{−i2 \\pi \\frac{k}{N}n} \\;\\;\\; k = 0, 1, \\cdots, N − 1\n",
    "$$ "
   ]
  },
  {
   "cell_type": "markdown",
   "metadata": {},
   "source": [
    "From above equation we could define a variable called $W_{N}$ as the step of mutiplication, so this variable could be derived as:\n",
    "\n",
    "$$\n",
    "W_{N} = e^{−j2 \\pi \\frac{1}{N}}\n",
    "$$"
   ]
  },
  {
   "cell_type": "markdown",
   "metadata": {},
   "source": [
    "With this variable, we could finally defined another variable $W_{N}^{kn}$ which called Twiddle Factor, and it could be derived as:\n",
    "\n",
    "$$\n",
    "W_{N}^{kn} = e^{−j2 \\pi \\frac{kn}{N}}\n",
    "$$"
   ]
  },
  {
   "cell_type": "markdown",
   "metadata": {},
   "source": [
    "Twiddle Factor $W_{N}^{kn}$ is a derivation of Euler's formula, so there are two features in Twiddle Factor:\n",
    "\n",
    "- Complex conjugate symmetry\n",
    "$$\n",
    "\\begin{align} \n",
    "W_{N}^{k[N-n]} &= (W_{N}^{-kn})^* \\\\\n",
    "W_{N}^{-kn} &= (W_{N}^{kn})^* \\\\\n",
    "\\end{align} \n",
    "$$\n",
    "\n",
    "- Periodicity\n",
    "\n",
    "$$\n",
    "\\begin{align} \n",
    "W_{N}^{a+N} &= W_{N}^{a} \\\\\n",
    "W_{N}^{k+N/2} &= W_{N}^{-k} \\\\\n",
    "W_{N}^{kn} &= W_{N}^{k(n+N)} \\\\\n",
    "W_{N}^{kn} &= W_{N}^{(k+N)n} \\\\\n",
    "\\end{align} \n",
    "$$"
   ]
  },
  {
   "cell_type": "markdown",
   "metadata": {},
   "source": [
    "FFT is an algorithm to solve DFT problem, there's many approach to implement this algorithm, such as DIT(Decimation In Time), DIF(Decimation In Frequency), Divide and Conquer... Also we could replace the $\\hat{x}[k]$ to $X[k]$ now, in order to represent the result of the equation is the product in frequency domain. And we could start to transfer the equation from DFT to FFT.\n",
    "\n",
    "$$\n",
    "\\begin{align} \n",
    "X[k] &= \\sum_{n = 0}^{N-1} x[n] e^{−j2 \\pi \\frac{k}{N}n} \\\\\n",
    "     &= \\sum_{n = 0}^{N-1} x[n] (e^{−j2 \\pi \\frac{1}{N}})^{kn} \\\\\n",
    "     &= \\sum_{n = 0}^{N-1}x[n] W_{N}^{kn} \\\\\n",
    "\\end{align}\n",
    "$$"
   ]
  },
  {
   "cell_type": "markdown",
   "metadata": {},
   "source": [
    "To illustrate the basic ideas, consider the case of an N-pt DFT where N is not prime can be factored into two integer factors:\n",
    "\n",
    "$$N=LM$$\n",
    "\n",
    "So we can decompose the DFT into smaller part of DFTs, hence we need the mapping function to pre-process and post-process input and output data. There's two mapping function and two format in order to form 4 mapping function:\n",
    "\n",
    "\n",
    "- row-wise input mapping, $m$ denotes the index of $M$ and $l$ denotes the index of $L$.\n",
    "\n",
    "$$\n",
    "\\begin{align} \n",
    "n &= Ml + m \n",
    "\\end{align}\n",
    "$$\n",
    "\n",
    "- column-wide input mapping, $m$ denotes the index of $M$ and $l$ denotes the index of $L$.\n",
    "\n",
    "$$\n",
    "\\begin{align} \n",
    "n &= l + mL\n",
    "\\end{align}\n",
    "$$\n",
    "\n",
    "\n",
    "- row-wise output mapping, $q$ denotes the index of $M$ and $p$ denotes the index of $L$.\n",
    "\n",
    "$$\n",
    "\\begin{align} \n",
    "k &= Mp + q \n",
    "\\end{align}\n",
    "$$\n",
    "\n",
    "- column-wide output mapping, $q$ denotes the index of $M$ and $p$ denotes the index of $L$.\n",
    "\n",
    "$$\n",
    "\\begin{align} \n",
    "k &= p + qL \n",
    "\\end{align}\n",
    "$$"
   ]
  },
  {
   "cell_type": "markdown",
   "metadata": {},
   "source": [
    "Take row-wise input mapping for example: $n = Ml + m$\n",
    "\n",
    "|  \t        | $0$ \t        | $1$ \t            | $2$ \t            | $\\cdots$ \t| $M-1$ \t    |\n",
    "|:---------:|:-------------:|:-----------------:|:-----------------:|:---------:|:-------------:|\n",
    "| $0$ \t    | $x(0)$ \t    | $x(1)$ \t        | $x(2)$ \t        | $\\cdots$ \t| $x(M-1)$ \t    |\n",
    "| $1$ \t    | $x(M)$ \t    | $x(M+1)$ \t        | $x(M+2)$ \t        | $\\cdots$ \t| $x(2M-1)$ \t|\n",
    "| $2$ \t    | $x(2M)$ \t    | $x(2M+1)$ \t    | $x(2M+1)$ \t    | $\\cdots$  | $x(3M-1)$ \t|\n",
    "| $\\vdots$ \t| $\\vdots$      | $\\vdots$ \t        | $\\vdots$\t        | $\\ddots$  | $\\vdots$ \t    |\n",
    "| $L-1$ \t| $x((L-1)M)$ \t| $x((L-1)M+1)$ \t| $x((L-1)M+2)$ \t| $\\cdots$ \t| $x(LM-1)$ \t|\n",
    "\n",
    "Take column-wise input mapping for example: $n = l + mL$\n",
    "\n",
    "|  \t        | $0$ \t        | $1$ \t            | $2$ \t            | $\\cdots$ \t| $M-1$ \t    |\n",
    "|:---------:|:-------------:|:-----------------:|:-----------------:|:---------:|:-------------:|\n",
    "| $0$ \t    | $x(1)$ \t    | $x(L)$ \t        | $x(2L)$ \t        | $\\cdots$ \t| $x((M-1)L)$ \t|\n",
    "| $1$ \t    | $x(2)$ \t    | $x(L+1)$ \t        | $x(2L+1)$ \t    | $\\cdots$ \t| $x((M-1)L+1)$ |\n",
    "| $2$ \t    | $x(3)$ \t    | $x(L+2)$ \t        | $x(2L+2)$ \t    | $\\cdots$  | $x((M-1)L+2)$ |\n",
    "| $\\vdots$ \t| $\\vdots$      | $\\vdots$ \t        | $\\vdots$\t        | $\\ddots$  | $\\vdots$ \t    |\n",
    "| $L-1$ \t| $x(L-1)$ \t    | $x(2L-1)$ \t    | $x(3L-1)$ \t    | $\\cdots$ \t| $x(LM-1)$ \t|"
   ]
  },
  {
   "cell_type": "markdown",
   "metadata": {},
   "source": [
    "Assume we had an array in row-wise input format and the row size is 16, column size is 8. Now we know $N=128$, $M=16$, $L=8$ and the array looks like this:\n",
    "\n",
    "|  \t        | $0$ \t        | $1$ \t            | $2$ \t            | $\\cdots$ \t| $M-1$ \t    |\n",
    "|:---------:|:-------------:|:-----------------:|:-----------------:|:---------:|:-------------:|\n",
    "| $0$ \t    | $x(0)$ \t    | $x(1)$ \t        | $x(2)$ \t        | $\\cdots$ \t| $x(15)$ \t    |\n",
    "| $1$ \t    | $x(16)$ \t    | $x(17)$ \t        | $x(18)$ \t        | $\\cdots$ \t| $x(31)$ \t    |\n",
    "| $2$ \t    | $x(32)$ \t    | $x(33)$ \t        | $x(34)$ \t        | $\\cdots$  | $x(47)$ \t    |\n",
    "| $\\vdots$ \t| $\\vdots$      | $\\vdots$ \t        | $\\vdots$\t        | $\\ddots$  | $\\vdots$ \t    |\n",
    "| $L-1$ \t| $x(112)$ \t    | $x(113)$ \t        | $x(114)$ \t        | $\\cdots$ \t| $x(127)$ \t    |\n",
    "\n",
    "Assume we had another array in column-wise input format and the row size is 16, column size is 8. Now we know $N=128$, $M=16$, $L=8$ and the array looks like this:\n",
    "\n",
    "|  \t        | $0$ \t        | $1$ \t            | $2$ \t            | $\\cdots$ \t| $M-1$ \t    |\n",
    "|:---------:|:-------------:|:-----------------:|:-----------------:|:---------:|:-------------:|\n",
    "| $0$ \t    | $x(0)$ \t    | $x(8)$ \t        | $x(16)$ \t        | $\\cdots$ \t| $x(120)$ \t    |\n",
    "| $1$ \t    | $x(1)$ \t    | $x(9)$ \t        | $x(17)$ \t        | $\\cdots$ \t| $x(121)$ \t    |\n",
    "| $2$ \t    | $x(2)$ \t    | $x(10)$ \t        | $x(18)$ \t        | $\\cdots$  | $x(123)$ \t    |\n",
    "| $\\vdots$ \t| $\\vdots$      | $\\vdots$ \t        | $\\vdots$\t        | $\\ddots$  | $\\vdots$ \t    |\n",
    "| $L-1$ \t| $x(7)$ \t    | $x(15)$ \t        | $x(23)$ \t        | $\\cdots$ \t| $x(127)$ \t    |"
   ]
  },
  {
   "cell_type": "markdown",
   "metadata": {},
   "source": [
    "Now to illustrate how to use this machinery, use column-wise input mapping and row-wise output mapping:\n",
    "\n",
    "$$\n",
    "\\begin{align} \n",
    "n &= l + mL \\tag{1} \\\\ \n",
    "k &= Mp + q \\tag{2} \\\\ \n",
    "X[k] &= \\sum_{n = 0}^{N-1}x[n] W_{N}^{kn} \\tag{3} \\\\\n",
    "\\end{align}\n",
    "$$\n",
    "\n",
    "With $1$, $2$, $3$ We can get:\n",
    "\n",
    "$$\n",
    "X[q,p] = \\sum_{m = 0}^{M-1}\\sum_{l = 0}^{L-1} x[l,m] W_{N}^{(Mp+q)(l+mL)} \\tag{4} \\\\\n",
    "$$"
   ]
  },
  {
   "cell_type": "markdown",
   "metadata": {},
   "source": [
    "In order to simplify the $4$, the last element of $4$ is $W_{N}^{(Mp+q)(l+mL)}$, by the expansion of polynomial which can be written as:\n",
    "\n",
    "$$\n",
    "W_{N}^{(Mp+q)(l+mL)} = W_{N}^{MLmp} W_{N}^{mLq} W_{N}^{Mpl} W_{N}^{lq} \\tag{5}\n",
    "$$\n",
    "\n",
    "the first product of expansion is:\n",
    "\n",
    "$$\n",
    "\\begin{align} \n",
    "W_{N}^{MLmp} \n",
    "&= W_{N}^{Nmp} \\\\\n",
    "&= 1 \\\\\n",
    "\\end{align}\n",
    "$$\n",
    "\n",
    "the second product of expansion is:\n",
    "\n",
    "$$\n",
    "\\begin{align} \n",
    "W_{N}^{MLmp} \n",
    "&= W_{N/L}^{mq} \\\\\n",
    "&= W_{M}^{mq} \\\\\n",
    "\\end{align}\n",
    "$$\n",
    "\n",
    "the third product of expandsion is:\n",
    "\n",
    "$$\n",
    "\\begin{align} \n",
    "W_{N}^{Mpl} \n",
    "&= W_{N/M}^{pl} \\\\\n",
    "&= W_{L}^{pl} \\\\\n",
    "\\end{align}\n",
    "$$"
   ]
  },
  {
   "cell_type": "markdown",
   "metadata": {},
   "source": [
    "With the simplification of the polynomial, the final equation could be derived as:\n",
    "\n",
    "$$\n",
    "X[q,p] = \\sum_{l = 0}^{L-1} \\left \\{  W_{N}^{lq} \\left [  \\sum_{m = 0}^{M-1} x[l,m] W_{M}^{mq} \\right ] \\right \\} W_{L}^{pl} \\tag{6}\n",
    "$$\n",
    "\n",
    "First, computayion of M-pt DFTs of rows:\n",
    "\n",
    "$$\n",
    "F[l,q] \\overset{\\Delta}{=} \\sum_{m = 0}^{M-1} x[l,m] W_{M}^{mq}\n",
    "$$\n",
    "\n",
    "Sceond, apply Twiddle Factors($W_{N}^{lq}$) to $F[l,q]$:\n",
    "\n",
    "$$\n",
    "G[l,q] \\overset{\\Delta}{=} W_{N}^{lq} F[l,q]\n",
    "$$\n",
    "\n",
    "Third, computation L-pt DFTs of columns:\n",
    "\n",
    "$$\n",
    "X[p,q] = \\sum_{l = 0}^{L-1} G[l,q] W_{L}^{pl}\n",
    "$$"
   ]
  },
  {
   "cell_type": "markdown",
   "metadata": {},
   "source": [
    "$$\n",
    "\\begin{bmatrix}\n",
    "Re(CF[0]) & Im(CF[0]) & -Im(CF[0]) & Re(CF[0]) & \\\\\n",
    "Re(CF[1]) & Im(CF[1]) & -Im(CF[1]) & Re(CF[1]) & \\\\\n",
    "Re(CF[2]) & Im(CF[2]) & -Im(CF[2]) & Re(CF[2]) & \\\\\n",
    "Re(CF[3]) & Im(CF[3]) & -Im(CF[3]) & Re(CF[3]) & \\\\\n",
    "\\vdots & \\vdots & \\vdots & \\vdots & \\\\\n",
    "Re(CF[V/2-1]) & Im(CF[V/2-1]) & -Im(CF[V/2-1]) & Re(CF[V/2-1]) & \\\\\n",
    "\\end{bmatrix}\n",
    "$$"
   ]
  },
  {
   "cell_type": "markdown",
   "metadata": {},
   "source": [
    "$$\n",
    "\\begin{bmatrix}\n",
    "Re(CF[0]) & Im(CF[0]) & -Im(CF[0]) & Re(CF[0]) & \\\\\n",
    "Re(CF[1]) & Im(CF[1]) & -Im(CF[1]) & Re(CF[1]) & \\\\\n",
    "Re(CF[2]) & Im(CF[2]) & -Im(CF[2]) & Re(CF[2]) & \\\\\n",
    "Re(CF[3]) & Im(CF[3]) & -Im(CF[3]) & Re(CF[3]) & \\\\\n",
    "\\vdots & \\vdots & \\vdots & \\vdots & \\\\\n",
    "Re(CF[H/2-1]) & Im(CF[H/2-1]) & -Im(CF[H/2-1]) & Re(CF[H/2-1]) & \\\\\n",
    "\\end{bmatrix}\n",
    "$$"
   ]
  },
  {
   "cell_type": "markdown",
   "metadata": {},
   "source": [
    "$$\n",
    "\\begin{bmatrix}\n",
    "Re(CF[0]) & Im(CF[0]) & -Im(CF[0]) & Re(CF[0]) & \\\\\n",
    "Re(CF[1]) & Im(CF[1]) & -Im(CF[1]) & Re(CF[1]) & \\\\\n",
    "Re(CF[2]) & Im(CF[2]) & -Im(CF[2]) & Re(CF[2]) & \\\\\n",
    "Re(CF[3]) & Im(CF[3]) & -Im(CF[3]) & Re(CF[3]) & \\\\\n",
    "\\vdots & \\vdots & \\vdots & \\vdots & \\\\\n",
    "Re(CF[N-1]) & Im(CF[N-1]) & -Im(CF[N-1]) & Re(CF[N-1]) & \\\\\n",
    "\\end{bmatrix}\n",
    "$$"
   ]
  },
  {
   "cell_type": "code",
   "execution_count": 1,
   "metadata": {},
   "outputs": [],
   "source": [
    "import math\n",
    "import numpy as np"
   ]
  },
  {
   "cell_type": "code",
   "execution_count": 2,
   "metadata": {
    "scrolled": true
   },
   "outputs": [],
   "source": [
    "def TwiddleFactor(size, fname, option = True, half = True, DEBUG = True):\n",
    "    '''\n",
    "    :param size: Select the size of twiddle factor.\n",
    "    :type size: int\n",
    "    \n",
    "    :param option: FFT uses cosine, sine, -sine, cosine, IFFT uses cosine, -sine, sine, cosine\n",
    "    :type option: bool\n",
    "    \n",
    "    :param fname: File name of data, invalid type will not save data into target directory.\n",
    "    :type fname: str\n",
    "    \n",
    "    :param half: Generate the half size of twiddle factor, index from 0 to N/2.\n",
    "    :type half: bool\n",
    "    \n",
    "    :param DEBUG: To log out the twiddle factor, deafult is True.\n",
    "    :type DEBUG: bool\n",
    "    '''\n",
    "    N = size*4\n",
    "    complex_output = np.zeros(N)\n",
    "        \n",
    "    if DEBUG:\n",
    "        print(\"Percentage Re        Im        -Im       Re\")\n",
    "\n",
    "    for index in range(size):\n",
    "        if half and index == size//2:\n",
    "            break\n",
    "        \n",
    "        percentage = index / size\n",
    "        radius = percentage * np.pi * 2\n",
    "        angular = percentage * 360\n",
    "        Im = -np.sin(radius)\n",
    "        Re = np.cos(radius)\n",
    "        \n",
    "        if DEBUG:\n",
    "            print(f'{percentage:>.3f}      {Re:>+.5f}  {Im:>+.5f}  {-Im:>+.5f}  {Re:>+.5f}')\n",
    "        \n",
    "        if option:\n",
    "            complex_output[index*4:index*4+4] = [Re, Im, -Im, Re]\n",
    "        else:\n",
    "            complex_output[index*4:index*4+4] = [Re, -Im, Im, Re]\n",
    "\n",
    "    if fname:\n",
    "        if half:\n",
    "            np.savetxt(fname, [complex_output[0:N//2]], delimiter=',\\n', fmt='%1.19f')\n",
    "        else:\n",
    "            np.savetxt(fname, [complex_output], delimiter=',\\n', fmt='%1.19f')\n",
    "    \n",
    "    return complex_output"
   ]
  },
  {
   "cell_type": "code",
   "execution_count": 3,
   "metadata": {
    "scrolled": true
   },
   "outputs": [
    {
     "name": "stdout",
     "output_type": "stream",
     "text": [
      "Percentage Re        Im        -Im       Re\n",
      "0.000      +1.00000  -0.00000  +0.00000  +1.00000\n",
      "0.062      +0.92388  -0.38268  +0.38268  +0.92388\n",
      "0.125      +0.70711  -0.70711  +0.70711  +0.70711\n",
      "0.188      +0.38268  -0.92388  +0.92388  +0.38268\n",
      "0.250      +0.00000  -1.00000  +1.00000  +0.00000\n",
      "0.312      -0.38268  -0.92388  +0.92388  -0.38268\n",
      "0.375      -0.70711  -0.70711  +0.70711  -0.70711\n",
      "0.438      -0.92388  -0.38268  +0.38268  -0.92388\n"
     ]
    }
   ],
   "source": [
    "# Size of Coefficient\n",
    "N = 16\n",
    "result = TwiddleFactor(N, \"TEST.dat\")"
   ]
  }
 ],
 "metadata": {
  "kernelspec": {
   "display_name": "Python 3",
   "language": "python",
   "name": "python3"
  },
  "language_info": {
   "codemirror_mode": {
    "name": "ipython",
    "version": 3
   },
   "file_extension": ".py",
   "mimetype": "text/x-python",
   "name": "python",
   "nbconvert_exporter": "python",
   "pygments_lexer": "ipython3",
   "version": "3.7.9"
  }
 },
 "nbformat": 4,
 "nbformat_minor": 4
}
