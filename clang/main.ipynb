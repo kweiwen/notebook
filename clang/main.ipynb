{
 "cells": [
  {
   "cell_type": "code",
   "execution_count": 9,
   "metadata": {},
   "outputs": [
    {
     "name": "stdout",
     "output_type": "stream",
     "text": [
      "0.000000\n",
      "0.000000\n",
      "1.000000\n",
      "2.000000\n",
      "3.000000\n",
      "4.000000\n",
      "5.000000\n",
      "6.000000\n",
      "7.000000\n",
      "8.000000\n",
      "9.000000\n",
      "10.000000\n",
      "11.000000\n",
      "12.000000\n",
      "13.000000\n",
      "14.000000\n",
      "15.000000\n",
      "\n",
      "\n",
      "Printing the circular buffer:\n",
      "---------------------------------\n",
      "Buffer: 17.000000\t10.000000\t11.000000\t12.000000\t13.000000\t14.000000\t15.000000\t16.000000\t\n",
      "Read Index: 6\n",
      "Write Index: 1\n",
      "\n"
     ]
    }
   ],
   "source": [
    "//%cflags:-I ./\n",
    "#include <stdio.h>\n",
    "#include <stdlib.h>\n",
    "#include \"circularBuffer.h\"\n",
    "#include \"delay.h\"\n",
    "\n",
    "int main(int argc, char **argv)\n",
    "{\n",
    "//     circularBuffer rb;\n",
    "//     init_circularBuffer(&rb, 10);\n",
    "//     flush_data(&rb);\n",
    "    \n",
    "//     write_data(&rb, 1.5);\n",
    "//     disp_info(&rb);\n",
    "    \n",
    "//     write_data(&rb, 3.141);\n",
    "//     disp_info(&rb);\n",
    "    \n",
    "//     free_circularBuffer(&rb);\n",
    "    \n",
    "    delay dl;\n",
    "    init_delay(&dl, 8);\n",
    "    \n",
    "    printf(\"%f\\n\", process_delay(&dl, 1.0, 0, 2, 1));\n",
    "    printf(\"%f\\n\", process_delay(&dl, 2.0, 0, 2, 1));\n",
    "    printf(\"%f\\n\", process_delay(&dl, 3.0, 0, 2, 1));\n",
    "    printf(\"%f\\n\", process_delay(&dl, 4.0, 0, 2, 1));\n",
    "    printf(\"%f\\n\", process_delay(&dl, 5.0, 0, 2, 1));\n",
    "    printf(\"%f\\n\", process_delay(&dl, 6.0, 0, 2, 1));\n",
    "    printf(\"%f\\n\", process_delay(&dl, 7.0, 0, 2, 1));\n",
    "    printf(\"%f\\n\", process_delay(&dl, 8.0, 0, 2, 1));\n",
    "    printf(\"%f\\n\", process_delay(&dl, 9.0, 0, 2, 1));\n",
    "    printf(\"%f\\n\", process_delay(&dl, 10.0, 0, 2, 1));\n",
    "    printf(\"%f\\n\", process_delay(&dl, 11.0, 0, 2, 1));\n",
    "    printf(\"%f\\n\", process_delay(&dl, 12.0, 0, 2, 1));\n",
    "    printf(\"%f\\n\", process_delay(&dl, 13.0, 0, 2, 1));\n",
    "    printf(\"%f\\n\", process_delay(&dl, 14.0, 0, 2, 1));\n",
    "    printf(\"%f\\n\", process_delay(&dl, 15.0, 0, 2, 1));\n",
    "    printf(\"%f\\n\", process_delay(&dl, 16.0, 0, 2, 1));\n",
    "    printf(\"%f\\n\", process_delay(&dl, 17.0, 0, 2, 1));\n",
    "    \n",
    "    disp_info(&dl.digitalDelayLine);\n",
    "    free_delay(&dl);\n",
    "    \n",
    "    return 0;\n",
    "}"
   ]
  },
  {
   "cell_type": "code",
   "execution_count": null,
   "metadata": {},
   "outputs": [],
   "source": []
  }
 ],
 "metadata": {
  "kernelspec": {
   "display_name": "C",
   "language": "c",
   "name": "c"
  },
  "language_info": {
   "file_extension": ".c",
   "mimetype": "text/plain",
   "name": "c"
  }
 },
 "nbformat": 4,
 "nbformat_minor": 4
}
