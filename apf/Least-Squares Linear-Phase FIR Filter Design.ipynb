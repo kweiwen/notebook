{
 "cells": [
  {
   "cell_type": "markdown",
   "id": "d45df3d9",
   "metadata": {},
   "source": [
    "Let the FIR filter length be $ L+1$ samples, with $ L$ even, and suppose we'll initially design it to be centered about the time origin (\"zero phase\"). Then the frequency response is given on our frequency grid $ \\omega_k$ by \n",
    "\n",
    "$$ \n",
    "\\begin{align}\n",
    "H(\\omega_k) &= \\sum_{n=-L/2}^{L/2} h_n e^{-j\\omega_kn}, \\; k=0,1,2,\\ldots,N-1, \\; N\\gg L. \\\\\n",
    "&= \\sum_{n=-L/2}^{L/2} h_n (\\cos(-j\\omega_kn) + i\\sin(-j\\omega_kn)), \\; k=0,1,2,\\ldots,N-1, \\; N\\gg L. \\\\\n",
    "&= h_0 + 2\\sum_{n=1}^{L/2} h_n \\cos (\\omega_k n), \\; k=0,1,2,\\ldots, N-1,\n",
    "\\end{align}\n",
    "$$"
   ]
  },
  {
   "cell_type": "markdown",
   "id": "58621cc8",
   "metadata": {},
   "source": [
    "$$\n",
    "\\displaystyle \\underbrace{\\left[ \\begin{array}{c} H(\\omega_0) \\\\ H(\\omega_1) \\\\ \\vdots \\\\ H(\\omega_{N-1}) \\end{array} \\right]}_{{\\underline{d}}} = \\underbrace{\\left[ \\begin{array}{ccccc} 1 & 2\\cos(\\omega_0) & \\dots & 2\\cos[\\omega_0(L/2)] \\\\ 1 & 2\\cos(\\omega_1) & \\dots & 2\\cos[\\omega_1(L/2)] \\\\ \\vdots & \\vdots & & \\vdots \\\\ 1 & 2\\cos(\\omega_{N-1}) & \\dots & 2\\cos[\\omega_{N-1}(L/2)] \\end{array} \\right]}_\\mathbf{A} \\underbrace{\\left[ \\begin{array}{c} h_0 \\\\ h_1 \\\\ \\vdots \\\\ h_{L/2} \\end{array} \\right]}_{{\\underline{h}}}\n",
    "$$"
   ]
  },
  {
   "cell_type": "code",
   "execution_count": null,
   "id": "7977aa05",
   "metadata": {},
   "outputs": [],
   "source": []
  }
 ],
 "metadata": {
  "kernelspec": {
   "display_name": "Python 3 (ipykernel)",
   "language": "python",
   "name": "python3"
  },
  "language_info": {
   "codemirror_mode": {
    "name": "ipython",
    "version": 3
   },
   "file_extension": ".py",
   "mimetype": "text/x-python",
   "name": "python",
   "nbconvert_exporter": "python",
   "pygments_lexer": "ipython3",
   "version": "3.7.0"
  }
 },
 "nbformat": 4,
 "nbformat_minor": 5
}
