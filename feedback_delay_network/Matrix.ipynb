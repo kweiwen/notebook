{
 "cells": [
  {
   "cell_type": "markdown",
   "id": "937ad2b8",
   "metadata": {},
   "source": [
    "### Hadamard Matrix "
   ]
  },
  {
   "cell_type": "code",
   "execution_count": 1,
   "id": "organized-family",
   "metadata": {},
   "outputs": [],
   "source": [
    "from scipy.linalg import hadamard\n",
    "import numpy as np"
   ]
  },
  {
   "cell_type": "code",
   "execution_count": 2,
   "id": "functioning-conspiracy",
   "metadata": {},
   "outputs": [
    {
     "name": "stdout",
     "output_type": "stream",
     "text": [
      "\n",
      " original: \n",
      "\n",
      "[[ 1  1  1  1]\n",
      " [ 1 -1  1 -1]\n",
      " [ 1  1 -1 -1]\n",
      " [ 1 -1 -1  1]]\n",
      "\n",
      " numpy implementation: \n",
      "\n",
      "[[ 1  1  1  1]\n",
      " [-1  1 -1  1]\n",
      " [-1 -1  1  1]\n",
      " [ 1 -1 -1  1]]\n"
     ]
    }
   ],
   "source": [
    "H_4 = np.array(hadamard(4))\n",
    "print(\"\\n original: \\n\")\n",
    "print(H_4)\n",
    "  \n",
    "print(\"\\n numpy implementation: \\n\")\n",
    "print(np.fliplr(H_4))"
   ]
  },
  {
   "cell_type": "code",
   "execution_count": 3,
   "id": "finished-logistics",
   "metadata": {},
   "outputs": [
    {
     "name": "stdout",
     "output_type": "stream",
     "text": [
      "\n",
      " original: \n",
      "\n",
      "[[ 1  1  1  1  1  1  1  1  1  1  1  1  1  1  1  1]\n",
      " [ 1 -1  1 -1  1 -1  1 -1  1 -1  1 -1  1 -1  1 -1]\n",
      " [ 1  1 -1 -1  1  1 -1 -1  1  1 -1 -1  1  1 -1 -1]\n",
      " [ 1 -1 -1  1  1 -1 -1  1  1 -1 -1  1  1 -1 -1  1]\n",
      " [ 1  1  1  1 -1 -1 -1 -1  1  1  1  1 -1 -1 -1 -1]\n",
      " [ 1 -1  1 -1 -1  1 -1  1  1 -1  1 -1 -1  1 -1  1]\n",
      " [ 1  1 -1 -1 -1 -1  1  1  1  1 -1 -1 -1 -1  1  1]\n",
      " [ 1 -1 -1  1 -1  1  1 -1  1 -1 -1  1 -1  1  1 -1]\n",
      " [ 1  1  1  1  1  1  1  1 -1 -1 -1 -1 -1 -1 -1 -1]\n",
      " [ 1 -1  1 -1  1 -1  1 -1 -1  1 -1  1 -1  1 -1  1]\n",
      " [ 1  1 -1 -1  1  1 -1 -1 -1 -1  1  1 -1 -1  1  1]\n",
      " [ 1 -1 -1  1  1 -1 -1  1 -1  1  1 -1 -1  1  1 -1]\n",
      " [ 1  1  1  1 -1 -1 -1 -1 -1 -1 -1 -1  1  1  1  1]\n",
      " [ 1 -1  1 -1 -1  1 -1  1 -1  1 -1  1  1 -1  1 -1]\n",
      " [ 1  1 -1 -1 -1 -1  1  1 -1 -1  1  1  1  1 -1 -1]\n",
      " [ 1 -1 -1  1 -1  1  1 -1 -1  1  1 -1  1 -1 -1  1]]\n",
      "\n",
      " numpy implementation: \n",
      "\n",
      "[[ 1  1  1  1  1  1  1  1  1  1  1  1  1  1  1  1]\n",
      " [-1  1 -1  1 -1  1 -1  1 -1  1 -1  1 -1  1 -1  1]\n",
      " [-1 -1  1  1 -1 -1  1  1 -1 -1  1  1 -1 -1  1  1]\n",
      " [ 1 -1 -1  1  1 -1 -1  1  1 -1 -1  1  1 -1 -1  1]\n",
      " [-1 -1 -1 -1  1  1  1  1 -1 -1 -1 -1  1  1  1  1]\n",
      " [ 1 -1  1 -1 -1  1 -1  1  1 -1  1 -1 -1  1 -1  1]\n",
      " [ 1  1 -1 -1 -1 -1  1  1  1  1 -1 -1 -1 -1  1  1]\n",
      " [-1  1  1 -1  1 -1 -1  1 -1  1  1 -1  1 -1 -1  1]\n",
      " [-1 -1 -1 -1 -1 -1 -1 -1  1  1  1  1  1  1  1  1]\n",
      " [ 1 -1  1 -1  1 -1  1 -1 -1  1 -1  1 -1  1 -1  1]\n",
      " [ 1  1 -1 -1  1  1 -1 -1 -1 -1  1  1 -1 -1  1  1]\n",
      " [-1  1  1 -1 -1  1  1 -1  1 -1 -1  1  1 -1 -1  1]\n",
      " [ 1  1  1  1 -1 -1 -1 -1 -1 -1 -1 -1  1  1  1  1]\n",
      " [-1  1 -1  1  1 -1  1 -1  1 -1  1 -1 -1  1 -1  1]\n",
      " [-1 -1  1  1  1  1 -1 -1  1  1 -1 -1 -1 -1  1  1]\n",
      " [ 1 -1 -1  1 -1  1  1 -1 -1  1  1 -1  1 -1 -1  1]]\n"
     ]
    }
   ],
   "source": [
    "H_16 = np.array(hadamard(16))\n",
    "print(\"\\n original: \\n\")\n",
    "print(H_16)\n",
    "  \n",
    "print(\"\\n numpy implementation: \\n\")\n",
    "print(np.fliplr(H_16))"
   ]
  },
  {
   "cell_type": "markdown",
   "id": "bcf02a71",
   "metadata": {},
   "source": [
    "### Householder Matrix\n",
    "\n",
    "The Householder matrix has the following properties:\n",
    "\n",
    "- It is symmetric: $H^T = H$\n",
    "- It is orthogonal: $H^T = H^{-1}$\n",
    "- It is Hermitian: $H^* = H$\n",
    "<!-- - Ut is unitary: $P^{−1} = P^H$ -->\n",
    "<!-- - hence it is involutory: $P = P^{−1}$ -->"
   ]
  }
 ],
 "metadata": {
  "kernelspec": {
   "display_name": "Python 3 (ipykernel)",
   "language": "python",
   "name": "python3"
  },
  "language_info": {
   "codemirror_mode": {
    "name": "ipython",
    "version": 3
   },
   "file_extension": ".py",
   "mimetype": "text/x-python",
   "name": "python",
   "nbconvert_exporter": "python",
   "pygments_lexer": "ipython3",
   "version": "3.7.0"
  }
 },
 "nbformat": 4,
 "nbformat_minor": 5
}
