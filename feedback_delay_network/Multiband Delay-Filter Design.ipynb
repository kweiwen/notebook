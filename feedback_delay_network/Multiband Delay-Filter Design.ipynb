{
 "cells": [
  {
   "cell_type": "markdown",
   "id": "f8d793d2",
   "metadata": {},
   "source": [
    "The gain in the $k$ th band for a length $M_i$ delay-line can be set to \n",
    "\n",
    "$$\n",
    "\\begin{align}\n",
    "G(i,j) = G^{M_i}(e^{j\\omega_kT}) \n",
    "&= 10^{-\\frac{3M_i}{n_{60}(\\omega_k)}} \\\\\n",
    "&= e^{-\\frac{3\\ln(10)M_i}{n_{60}(\\omega_k)}} \\\\\n",
    "&= 1 - {\\frac{3\\ln(10)M_i}{n_{60}(\\omega_k)}} \\\\\n",
    "&= 1 - {\\frac{6.91M_i}{n_{60}(\\omega_k)}}\n",
    "\\end{align}\n",
    "$$\n",
    "\n",
    "to produce the desired decay-time in that band, where $ n_{60}(\\omega)=t_{60}(\\omega)/T$ denotes the desired 60-dB decay time in samples."
   ]
  }
 ],
 "metadata": {
  "kernelspec": {
   "display_name": "Python 3 (ipykernel)",
   "language": "python",
   "name": "python3"
  },
  "language_info": {
   "codemirror_mode": {
    "name": "ipython",
    "version": 3
   },
   "file_extension": ".py",
   "mimetype": "text/x-python",
   "name": "python",
   "nbconvert_exporter": "python",
   "pygments_lexer": "ipython3",
   "version": "3.7.0"
  }
 },
 "nbformat": 4,
 "nbformat_minor": 5
}
