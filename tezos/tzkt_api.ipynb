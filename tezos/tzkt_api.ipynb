{
 "cells": [
  {
   "cell_type": "code",
   "execution_count": 1,
   "id": "premier-locator",
   "metadata": {},
   "outputs": [],
   "source": [
    "import requests\n",
    "import math\n",
    "import numpy as np"
   ]
  },
  {
   "cell_type": "code",
   "execution_count": 2,
   "id": "earned-battery",
   "metadata": {},
   "outputs": [],
   "source": [
    "class TzKTException(Exception):\n",
    "    pass\n",
    "\n",
    "class TzKT:\n",
    "    def __init__(self, base_url='https://api.tzkt.io', version=1):\n",
    "        self._url = f'{base_url}/v{version}'\n",
    "\n",
    "    def _request(self, method, **kwargs):\n",
    "        data = {key: value for key, value in kwargs.items() if value is not None}\n",
    "        url = \"{}/{}\".format(self._url, method)\n",
    "        print(url)\n",
    "\n",
    "        try:\n",
    "            response = requests.get(url, params=data, timeout=10)\n",
    "        except requests.Timeout:\n",
    "            raise TzKTException('TzKT timeout')\n",
    "        except requests.ConnectionError:\n",
    "            raise TzKTException('Seems like dns lookup failed..')\n",
    "        except requests.HTTPError as err:\n",
    "            raise TzKTException('HTTP Error occured: {}'.format(err))\n",
    "        except requests.RequestException as e:\n",
    "            raise TzKTException(e)\n",
    "\n",
    "        if response.status_code != 200:\n",
    "            raise TzKTException('TzKT invalid status code: {}'.format(response.text))\n",
    "\n",
    "        return response.json()\n",
    "    \n",
    "    ### Accounts\n",
    "\n",
    "    def get_accounts(self, page=None, limit=None):\n",
    "        return self._request(f'accounts', p=page, n=limit)\n",
    "    \n",
    "    def get_account(self, address: str):\n",
    "        return  self._request(f'accounts/{address}')\n",
    "    \n",
    "    def get_account_profile(self, address: str):\n",
    "        return  self._request(f'accounts/{address}/profile')\n",
    "    \n",
    "    def get_account_contracts(self, address: str, page=None, limit=None):\n",
    "        return  self._request(f'accounts/{address}/contracts', p=page, n=limit)\n",
    "    \n",
    "    def get_account_delegators(self, address: str, page=None, limit=None):\n",
    "        return  self._request(f'accounts/{address}/delegators', p=page, n=limit)\n",
    "    \n",
    "    def get_account_operations(self, address: str, operation_type=None, last_id=None, limit=None, sort=1):\n",
    "        return  self._request(f'accounts/{address}/operations', **{\n",
    "            'type': operation_type,\n",
    "            'lastId': last_id,\n",
    "            'limit': limit,\n",
    "            'sort': sort\n",
    "        })\n",
    "    \n",
    "    ### Blocks\n",
    "    \n",
    "    def get_block(self, level: int, operations=False):\n",
    "        return  self._request(f'blocks/{level}', operations=operations)\n",
    "    \n",
    "    def get_block_by_hash(self, block_hash: int, operations=False):\n",
    "        return  self._request(f'blocks/{block_hash}', operations=operations)\n",
    "    \n",
    "    def get_blocks(self, page=None, limit=None):\n",
    "        return self._request(f'blocks', p=page, n=limit)\n",
    "    \n",
    "    ### Head\n",
    "    \n",
    "    def get_head(self):\n",
    "        return self._request(f'head')\n",
    "    \n",
    "    ### Operations\n",
    "    \n",
    "    def get_operations(self, operation_type: str, page=None, limit=None):\n",
    "        return self._request(f'operations/{operation_type}', p=page, n=limit)\n",
    "    \n",
    "    def get_operations_count(self, operation_type: str, op_hash: str):\n",
    "        return self._request(f'operations/{operation_type}/count')\n",
    "    \n",
    "    def get_operations_by_hash(self, operation_type: str, op_hash: str):\n",
    "        return self._request(f'operations/{operation_type}/{op_hash}')\n",
    "\n",
    "    def get_operations_by_hash_and_counter(self, op_hash: str, counter: int):\n",
    "        return self._request(f'operations/{op_hash}/{counter}')\n",
    "    \n",
    "    def get_operations_by_hash_and_counter_and_nonce(self, op_hash: str, counter: int, nonce: int):\n",
    "        return self._request(f'operations/{op_hash}/{counter}/{nonce}')\n",
    "    \n",
    "    ### Protocols\n",
    "    \n",
    "    def get_protocol(self, code: int):\n",
    "        return self._request(f'protocols/{code}')\n",
    "    \n",
    "    def get_protocol_by_hash(self, protocol_hash: str):\n",
    "        return self._request(f'protocols/{protocol_hash}')\n",
    "    \n",
    "    def get_protocols(self, page=None, limit=None):\n",
    "        return self._request(f'protocols', p=page, n=limit)\n",
    "    \n",
    "\n",
    "    ### Voting\n",
    "    \n",
    "    def get_voting_proposal(self, proposal_hash: str):\n",
    "        return self._request(f'voting/proposals/{proposal_hash}')\n",
    "    \n",
    "    def get_voting_proposals(self, page=None, limit=None):\n",
    "        return self._request(f'voting/proposals', p=page, n=limit)\n",
    "    \n",
    "    def get_voting_period(self, page=None, limit=None):\n",
    "        return self._request(f'voting/periods', p=page, n=limit)"
   ]
  },
  {
   "cell_type": "code",
   "execution_count": 3,
   "id": "unavailable-bobby",
   "metadata": {},
   "outputs": [],
   "source": [
    "fa2 = \"KT1JYioHwutnTpYPTk5yRe9YSfCaFGWhd9MR\"\n",
    "kweiwen = 'tz1Wn2nru9fSJ4axAzayzJJCdYyx5apivkgx'\n",
    "crypto_zys_bot = 'tz1i35AGt1HS1FKN1Mqw4DuCMYHvWAHnUT3H'\n",
    "address = kweiwen"
   ]
  },
  {
   "cell_type": "code",
   "execution_count": 7,
   "id": "quick-inspection",
   "metadata": {},
   "outputs": [
    {
     "name": "stdout",
     "output_type": "stream",
     "text": [
      "https://api.tzkt.io/v1/head\n",
      "https://api.tzkt.io/v1/accounts/tz1Wn2nru9fSJ4axAzayzJJCdYyx5apivkgx\n"
     ]
    }
   ],
   "source": [
    "tzkt = TzKT()\n",
    "\n",
    "head = tzkt.get_head()\n",
    "account = tzkt.get_account(address)"
   ]
  },
  {
   "cell_type": "code",
   "execution_count": null,
   "id": "happy-syria",
   "metadata": {},
   "outputs": [],
   "source": [
    "alias = account['alias']\n",
    "transactionSize = account['numTransactions']\n",
    "lastID = None\n",
    "print(transactionSize)"
   ]
  },
  {
   "cell_type": "code",
   "execution_count": null,
   "id": "controlling-crime",
   "metadata": {},
   "outputs": [],
   "source": [
    "if (transactionSize > 1000):\n",
    "    temp = list()\n",
    "    iteration = math.ceil(transactionSize / 1000)\n",
    "    for i in range(iteration):\n",
    "        transactions_chunk =  tzkt.get_account_operations(address, operation_type = 'transaction', last_id = lastID, limit = 1000)\n",
    "        lastID = transactions_chunk[-1]['id']\n",
    "        temp.append(transactions_chunk)\n",
    "        print(lastID)\n",
    "    temp = np.array(temp, dtype=object)\n",
    "    transactions = np.hstack(temp)\n",
    "else:\n",
    "    transactions =  tzkt.get_account_operations(address, operation_type = 'transaction', limit = transactionSize)\n",
    "    \n",
    "print(len(transactions))"
   ]
  },
  {
   "cell_type": "code",
   "execution_count": null,
   "id": "subject-bouquet",
   "metadata": {},
   "outputs": [],
   "source": [
    "failed = 0\n",
    "success = 0\n",
    "\n",
    "for transaction in transactions:\n",
    "    if transaction[\"status\"] == \"failed\":\n",
    "        fee = (int)(transaction[\"bakerFee\"])/1000000\n",
    "        failed = failed + fee\n",
    "    else:\n",
    "        fee = (int)(transaction[\"bakerFee\"])/1000000\n",
    "        success = success + fee\n",
    "        \n",
    "total = failed + success\n",
    "average = (failed + success)/transactionSize"
   ]
  },
  {
   "cell_type": "code",
   "execution_count": null,
   "id": "homeless-poker",
   "metadata": {
    "scrolled": false
   },
   "outputs": [],
   "source": [
    "print(\"--------------------------------------------------------\")\n",
    "print(\"Account Information\")\n",
    "print(\"--------------------------------------------------------\")\n",
    "print(\"Tezos Address    : \", address)\n",
    "print(\"Account Alias    : \", alias)\n",
    "print(\"Transaction Time : \", transactionSize)\n",
    "print(\"--------------------------------------------------------\")\n",
    "print(\"Gas Fee In Tezos Transaction\")\n",
    "print(\"--------------------------------------------------------\")\n",
    "print(\"Failed  : \", round(failed, 4), \"(xtz)\")\n",
    "print(\"Success : \", round(success, 4), \"(xtz)\")\n",
    "print(\"Total   : \", round(total, 4), \"(xtz)\")\n",
    "print(\"Average : \", round(average, 4), \"(xtz)\")"
   ]
  },
  {
   "cell_type": "code",
   "execution_count": null,
   "id": "solved-median",
   "metadata": {},
   "outputs": [],
   "source": []
  }
 ],
 "metadata": {
  "kernelspec": {
   "display_name": "Python 3 (ipykernel)",
   "language": "python",
   "name": "python3"
  },
  "language_info": {
   "codemirror_mode": {
    "name": "ipython",
    "version": 3
   },
   "file_extension": ".py",
   "mimetype": "text/x-python",
   "name": "python",
   "nbconvert_exporter": "python",
   "pygments_lexer": "ipython3",
   "version": "3.7.0"
  }
 },
 "nbformat": 4,
 "nbformat_minor": 5
}
