{
 "cells": [
  {
   "cell_type": "code",
   "execution_count": 1,
   "id": "862a30a2",
   "metadata": {},
   "outputs": [],
   "source": [
    "import requests\n",
    "import math\n",
    "import numpy as np\n",
    "import json"
   ]
  },
  {
   "cell_type": "code",
   "execution_count": 2,
   "id": "41bf5c48",
   "metadata": {},
   "outputs": [],
   "source": [
    "class TzKTException(Exception):\n",
    "    pass\n",
    "\n",
    "class TzKT:\n",
    "    def __init__(self, base_url='https://api.better-call.dev', version=1):\n",
    "        self._url = f'{base_url}/v{version}'\n",
    "\n",
    "    def _request(self, method, **kwargs):\n",
    "        data = {key: value for key, value in kwargs.items() if value is not None}\n",
    "        url = \"{}/{}\".format(self._url, method)\n",
    "\n",
    "        try:\n",
    "            response = requests.get(url, params=data, timeout=10)\n",
    "        except requests.Timeout:\n",
    "            raise TzKTException('TzKT timeout')\n",
    "        except requests.ConnectionError:\n",
    "            raise TzKTException('Seems like dns lookup failed..')\n",
    "        except requests.HTTPError as err:\n",
    "            raise TzKTException('HTTP Error occured: {}'.format(err))\n",
    "        except requests.RequestException as e:\n",
    "            raise TzKTException(e)\n",
    "\n",
    "        if response.status_code != 200:\n",
    "            raise TzKTException('TzKT invalid status code: {}'.format(response.text))\n",
    "\n",
    "        return response.json()"
   ]
  },
  {
   "cell_type": "code",
   "execution_count": 3,
   "id": "663a7f13",
   "metadata": {},
   "outputs": [],
   "source": [
    "# # data to be sent to api\n",
    "# data = {'data': {},\n",
    "#         'format': \"string\",\n",
    "#         'name': \"string\"}\n",
    "  \n",
    "# # sending post request and saving response as response object\n",
    "# r = requests.post(url = \"https://api.better-call.dev/v1/contract/mainnet/KT1AEVuykWeuuFX7QkEAMNtffzwhe1Z98hJS/entrypoints/data\", data = data)\n",
    "# print(r)"
   ]
  },
  {
   "cell_type": "code",
   "execution_count": 4,
   "id": "b45641ec",
   "metadata": {},
   "outputs": [],
   "source": [
    "network = 'mainnet'\n",
    "contract = \"KT1AEVuykWeuuFX7QkEAMNtffzwhe1Z98hJS\"\n",
    "kweiwen = 'tz1Wn2nru9fSJ4axAzayzJJCdYyx5apivkgx'"
   ]
  },
  {
   "cell_type": "code",
   "execution_count": 8,
   "id": "9eb6a68b",
   "metadata": {},
   "outputs": [
    {
     "name": "stdout",
     "output_type": "stream",
     "text": [
      "===========================\n",
      "{'type': 'object', 'title': 'mint', 'properties': {'issuer_address': {'type': 'string', 'title': 'issuer_address', 'prim': 'address', 'default': '', 'minLength': 36, 'maxLength': 36}, 'issuer_id': {'type': 'integer', 'title': 'issuer_id', 'prim': 'nat', 'default': 0}}, 'x-options': {'sectionsClass': 'pl-0'}}\n",
      "[{'name': 'mint', 'type': 'pair', 'args': [{'key': 'issuer_address', 'value': 'address'}, {'key': 'issuer_id', 'value': 'nat'}]}]\n",
      "mint\n",
      "===========================\n",
      "{\"prim\":\"Pair\",\"args\":[,]}\n"
     ]
    }
   ],
   "source": [
    "url1 = \"https://api.better-call.dev/v1/contract/mainnet/KT1AEVuykWeuuFX7QkEAMNtffzwhe1Z98hJS/entrypoints\"\n",
    "response = requests.get(url1, timeout=10)\n",
    "\n",
    "# for index, element in enumerate(response.json()):\n",
    "#     print(index, element['name'])\n",
    " \n",
    "print(\"===========================\")\n",
    "print(response.json()[1]['schema'])\n",
    "print(response.json()[1]['typedef'])\n",
    "print(response.json()[1]['name'])\n",
    "print(\"===========================\")\n",
    "\n",
    "# wrap argument into data object\n",
    "arg1 = response.json()[1]['schema']\n",
    "arg2 = response.json()[1]['typedef']\n",
    "arg3 = response.json()[1]['name']\n",
    "\n",
    "data = {\"data\":arg1, \"format\": \"\", \"name\":arg3}\n",
    "\n",
    "# request post method to api\n",
    "url2 = \"https://api.better-call.dev/v1/contract/mainnet/KT1AEVuykWeuuFX7QkEAMNtffzwhe1Z98hJS/entrypoints/data\"\n",
    "response = requests.post(url2, data=json.dumps(data), timeout=10)\n",
    "\n",
    "# print result \n",
    "print(response.text)"
   ]
  },
  {
   "cell_type": "code",
   "execution_count": null,
   "id": "f8aeaddb",
   "metadata": {},
   "outputs": [],
   "source": []
  }
 ],
 "metadata": {
  "kernelspec": {
   "display_name": "Python 3 (ipykernel)",
   "language": "python",
   "name": "python3"
  },
  "language_info": {
   "codemirror_mode": {
    "name": "ipython",
    "version": 3
   },
   "file_extension": ".py",
   "mimetype": "text/x-python",
   "name": "python",
   "nbconvert_exporter": "python",
   "pygments_lexer": "ipython3",
   "version": "3.7.0"
  }
 },
 "nbformat": 4,
 "nbformat_minor": 5
}
